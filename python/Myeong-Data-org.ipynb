{
 "cells": [
  {
   "cell_type": "code",
   "execution_count": 3,
   "metadata": {
    "collapsed": true
   },
   "outputs": [],
   "source": [
    "import csv\n",
    "import pandas as pd\n",
    "import numpy as np\n",
    "from pandas import Series, DataFrame\n",
    "import re\n",
    "import math"
   ]
  },
  {
   "cell_type": "code",
   "execution_count": 1309,
   "metadata": {
    "collapsed": true
   },
   "outputs": [],
   "source": [
    "df= pd.read_csv('data/transcription.csv')"
   ]
  },
  {
   "cell_type": "code",
   "execution_count": 1310,
   "metadata": {
    "collapsed": false
   },
   "outputs": [
    {
     "data": {
      "text/html": [
       "<div>\n",
       "<table border=\"1\" class=\"dataframe\">\n",
       "  <thead>\n",
       "    <tr style=\"text-align: right;\">\n",
       "      <th></th>\n",
       "      <th>Transcriber</th>\n",
       "      <th>Block #</th>\n",
       "      <th>Parcel #</th>\n",
       "      <th>Ward #</th>\n",
       "      <th>Box #</th>\n",
       "      <th>Street number</th>\n",
       "      <th>Street address</th>\n",
       "      <th>Land use</th>\n",
       "      <th>Previous Transfer of deed Event Date</th>\n",
       "      <th>Previous Transfer of deed People Involved</th>\n",
       "      <th>...</th>\n",
       "      <th>Decision People Involved</th>\n",
       "      <th>Decision Role</th>\n",
       "      <th>Award Date</th>\n",
       "      <th>Award Amount Money</th>\n",
       "      <th>Tenant Vacated Date</th>\n",
       "      <th>Tenant Agreement Date</th>\n",
       "      <th>Tenant Cost</th>\n",
       "      <th>Tenant Name</th>\n",
       "      <th>Previous owner\n",
       "or\n",
       "Tenant</th>\n",
       "      <th>End of Case Finalized Date</th>\n",
       "    </tr>\n",
       "  </thead>\n",
       "  <tbody>\n",
       "    <tr>\n",
       "      <th>0</th>\n",
       "      <td>NaN</td>\n",
       "      <td>1</td>\n",
       "      <td>2</td>\n",
       "      <td>4</td>\n",
       "      <td>56</td>\n",
       "      <td>198\\n198 1/2\\n198-200</td>\n",
       "      <td>Hillard Ave.</td>\n",
       "      <td>Commercial</td>\n",
       "      <td>-</td>\n",
       "      <td>Bessie S. Kalogerakis\\n\\nAmelia K. Kalogerakis...</td>\n",
       "      <td>...</td>\n",
       "      <td>\\nAmelia K. Kalogerakis\\nEva K. Cleraderas\\nSt...</td>\n",
       "      <td>Owner\\n\\n\\nPurchaser</td>\n",
       "      <td>-</td>\n",
       "      <td>-</td>\n",
       "      <td>-</td>\n",
       "      <td>-</td>\n",
       "      <td>-</td>\n",
       "      <td>-</td>\n",
       "      <td>-</td>\n",
       "      <td>6/6/69</td>\n",
       "    </tr>\n",
       "    <tr>\n",
       "      <th>1</th>\n",
       "      <td>NaN</td>\n",
       "      <td>1</td>\n",
       "      <td>3</td>\n",
       "      <td>4</td>\n",
       "      <td>56</td>\n",
       "      <td>202-208</td>\n",
       "      <td>Hillard Ave.</td>\n",
       "      <td>Commercial</td>\n",
       "      <td>8/1/67</td>\n",
       "      <td>W.S. Harrison\\nBeulah L. Harrison\\n\\nCharles R...</td>\n",
       "      <td>...</td>\n",
       "      <td>Charles R. Stinnette Co., Inc.\\n\\nHACA</td>\n",
       "      <td>Owner\\n\\nPurchaser</td>\n",
       "      <td>7/16/71</td>\n",
       "      <td>21600</td>\n",
       "      <td>-</td>\n",
       "      <td>-</td>\n",
       "      <td>-</td>\n",
       "      <td>-</td>\n",
       "      <td>-</td>\n",
       "      <td>06/171971</td>\n",
       "    </tr>\n",
       "    <tr>\n",
       "      <th>2</th>\n",
       "      <td>NaN</td>\n",
       "      <td>1</td>\n",
       "      <td>4</td>\n",
       "      <td>4</td>\n",
       "      <td>56</td>\n",
       "      <td>90\\n196</td>\n",
       "      <td>Asheland Ave.\\nHillard Ave.</td>\n",
       "      <td>Commercial</td>\n",
       "      <td>4/4/40</td>\n",
       "      <td>Charles G. Lee, Sr.\\n\\nCharles G. Lee, Jr.\\nH....</td>\n",
       "      <td>...</td>\n",
       "      <td>William I. Lee\\nZyphin J. Lee\\nH. Kenneth Lee\\...</td>\n",
       "      <td>Owner\\n\\n\\n\\nPurchaser</td>\n",
       "      <td>8/17/72</td>\n",
       "      <td>46000</td>\n",
       "      <td>-</td>\n",
       "      <td>-</td>\n",
       "      <td>-</td>\n",
       "      <td>-</td>\n",
       "      <td>-</td>\n",
       "      <td>7/13/72</td>\n",
       "    </tr>\n",
       "    <tr>\n",
       "      <th>3</th>\n",
       "      <td>NaN</td>\n",
       "      <td>1</td>\n",
       "      <td>5</td>\n",
       "      <td>4</td>\n",
       "      <td>56</td>\n",
       "      <td>94</td>\n",
       "      <td>Asheland Ave.</td>\n",
       "      <td>Residential</td>\n",
       "      <td>4/28/34</td>\n",
       "      <td>John E. Smathers\\nEtta C. Smathers\\n\\nThelma S...</td>\n",
       "      <td>...</td>\n",
       "      <td>Thelma Smathers Johnson\\nElizabeth Pauline Sma...</td>\n",
       "      <td>Owner\\n\\n\\nPurchaser</td>\n",
       "      <td>-</td>\n",
       "      <td>-</td>\n",
       "      <td>-</td>\n",
       "      <td>-</td>\n",
       "      <td>-</td>\n",
       "      <td>-</td>\n",
       "      <td>-</td>\n",
       "      <td>5/29/74</td>\n",
       "    </tr>\n",
       "    <tr>\n",
       "      <th>4</th>\n",
       "      <td>NaN</td>\n",
       "      <td>1</td>\n",
       "      <td>6</td>\n",
       "      <td>4</td>\n",
       "      <td>56</td>\n",
       "      <td>98</td>\n",
       "      <td>Asheland Ave.</td>\n",
       "      <td>Commercial</td>\n",
       "      <td>12/24/64</td>\n",
       "      <td>C.A. Yarbrough\\nSarah M Yarbrough\\n\\nHarry's C...</td>\n",
       "      <td>...</td>\n",
       "      <td>Harry's Cadillac-Pontiac Company, Inc.\\n\\nHACA\\n</td>\n",
       "      <td>Owner\\n\\nPurchaser</td>\n",
       "      <td>-</td>\n",
       "      <td>-</td>\n",
       "      <td>-</td>\n",
       "      <td>-</td>\n",
       "      <td>-</td>\n",
       "      <td>-</td>\n",
       "      <td>-</td>\n",
       "      <td>10/9/74</td>\n",
       "    </tr>\n",
       "  </tbody>\n",
       "</table>\n",
       "<p>5 rows × 35 columns</p>\n",
       "</div>"
      ],
      "text/plain": [
       "  Transcriber Block # Parcel # Ward # Box #          Street number  \\\n",
       "0         NaN       1        2      4    56  198\\n198 1/2\\n198-200   \n",
       "1         NaN       1        3      4    56                202-208   \n",
       "2         NaN       1        4      4    56                90\\n196   \n",
       "3         NaN       1        5      4    56                     94   \n",
       "4         NaN       1        6      4    56                     98   \n",
       "\n",
       "                Street address     Land use  \\\n",
       "0                 Hillard Ave.   Commercial   \n",
       "1                 Hillard Ave.   Commercial   \n",
       "2  Asheland Ave.\\nHillard Ave.   Commercial   \n",
       "3                Asheland Ave.  Residential   \n",
       "4                Asheland Ave.   Commercial   \n",
       "\n",
       "  Previous Transfer of deed Event Date  \\\n",
       "0                                    -   \n",
       "1                               8/1/67   \n",
       "2                               4/4/40   \n",
       "3                              4/28/34   \n",
       "4                             12/24/64   \n",
       "\n",
       "           Previous Transfer of deed People Involved  \\\n",
       "0  Bessie S. Kalogerakis\\n\\nAmelia K. Kalogerakis...   \n",
       "1  W.S. Harrison\\nBeulah L. Harrison\\n\\nCharles R...   \n",
       "2  Charles G. Lee, Sr.\\n\\nCharles G. Lee, Jr.\\nH....   \n",
       "3  John E. Smathers\\nEtta C. Smathers\\n\\nThelma S...   \n",
       "4  C.A. Yarbrough\\nSarah M Yarbrough\\n\\nHarry's C...   \n",
       "\n",
       "             ...              \\\n",
       "0            ...               \n",
       "1            ...               \n",
       "2            ...               \n",
       "3            ...               \n",
       "4            ...               \n",
       "\n",
       "                            Decision People Involved           Decision Role  \\\n",
       "0  \\nAmelia K. Kalogerakis\\nEva K. Cleraderas\\nSt...    Owner\\n\\n\\nPurchaser   \n",
       "1             Charles R. Stinnette Co., Inc.\\n\\nHACA      Owner\\n\\nPurchaser   \n",
       "2  William I. Lee\\nZyphin J. Lee\\nH. Kenneth Lee\\...  Owner\\n\\n\\n\\nPurchaser   \n",
       "3  Thelma Smathers Johnson\\nElizabeth Pauline Sma...    Owner\\n\\n\\nPurchaser   \n",
       "4   Harry's Cadillac-Pontiac Company, Inc.\\n\\nHACA\\n      Owner\\n\\nPurchaser   \n",
       "\n",
       "  Award Date Award Amount Money Tenant Vacated Date Tenant Agreement Date  \\\n",
       "0          -                  -                   -                     -   \n",
       "1    7/16/71              21600                   -                     -   \n",
       "2    8/17/72              46000                   -                     -   \n",
       "3          -                  -                   -                     -   \n",
       "4          -                  -                   -                     -   \n",
       "\n",
       "  Tenant Cost Tenant Name Previous owner\\nor\\nTenant  \\\n",
       "0           -           -                          -   \n",
       "1           -           -                          -   \n",
       "2           -           -                          -   \n",
       "3           -           -                          -   \n",
       "4           -           -                          -   \n",
       "\n",
       "  End of Case Finalized Date  \n",
       "0                     6/6/69  \n",
       "1                  06/171971  \n",
       "2                    7/13/72  \n",
       "3                    5/29/74  \n",
       "4                    10/9/74  \n",
       "\n",
       "[5 rows x 35 columns]"
      ]
     },
     "execution_count": 1310,
     "metadata": {},
     "output_type": "execute_result"
    }
   ],
   "source": [
    "df.head()"
   ]
  },
  {
   "cell_type": "code",
   "execution_count": 1311,
   "metadata": {
    "collapsed": false
   },
   "outputs": [
    {
     "data": {
      "text/html": [
       "<div>\n",
       "<table border=\"1\" class=\"dataframe\">\n",
       "  <thead>\n",
       "    <tr style=\"text-align: right;\">\n",
       "      <th></th>\n",
       "      <th>Transcriber</th>\n",
       "      <th>Block #</th>\n",
       "      <th>Parcel #</th>\n",
       "      <th>Ward #</th>\n",
       "      <th>Box #</th>\n",
       "      <th>Street number</th>\n",
       "      <th>Street address</th>\n",
       "      <th>Land use</th>\n",
       "      <th>Previous Transfer of deed Event Date</th>\n",
       "      <th>Previous Transfer of deed People Involved</th>\n",
       "      <th>...</th>\n",
       "      <th>Decision People Involved</th>\n",
       "      <th>Decision Role</th>\n",
       "      <th>Award Date</th>\n",
       "      <th>Award Amount Money</th>\n",
       "      <th>Tenant Vacated Date</th>\n",
       "      <th>Tenant Agreement Date</th>\n",
       "      <th>Tenant Cost</th>\n",
       "      <th>Tenant Name</th>\n",
       "      <th>Previous owner\n",
       "or\n",
       "Tenant</th>\n",
       "      <th>End of Case Finalized Date</th>\n",
       "    </tr>\n",
       "  </thead>\n",
       "  <tbody>\n",
       "    <tr>\n",
       "      <th>0</th>\n",
       "      <td>NaN</td>\n",
       "      <td>1</td>\n",
       "      <td>2</td>\n",
       "      <td>4</td>\n",
       "      <td>56</td>\n",
       "      <td>198\\n198 1/2\\n198-200</td>\n",
       "      <td>Hillard Ave.</td>\n",
       "      <td>Commercial</td>\n",
       "      <td>-</td>\n",
       "      <td>Bessie S. Kalogerakis\\n\\nAmelia K. Kalogerakis...</td>\n",
       "      <td>...</td>\n",
       "      <td>\\nAmelia K. Kalogerakis\\nEva K. Cleraderas\\nSt...</td>\n",
       "      <td>Owner\\n\\n\\nPurchaser</td>\n",
       "      <td>-</td>\n",
       "      <td>-</td>\n",
       "      <td>-</td>\n",
       "      <td>-</td>\n",
       "      <td>-</td>\n",
       "      <td>-</td>\n",
       "      <td>-</td>\n",
       "      <td>6/6/69</td>\n",
       "    </tr>\n",
       "    <tr>\n",
       "      <th>1</th>\n",
       "      <td>NaN</td>\n",
       "      <td>1</td>\n",
       "      <td>3</td>\n",
       "      <td>4</td>\n",
       "      <td>56</td>\n",
       "      <td>202-208</td>\n",
       "      <td>Hillard Ave.</td>\n",
       "      <td>Commercial</td>\n",
       "      <td>8/1/67</td>\n",
       "      <td>W.S. Harrison\\nBeulah L. Harrison\\n\\nCharles R...</td>\n",
       "      <td>...</td>\n",
       "      <td>Charles R. Stinnette Co., Inc.\\n\\nHACA</td>\n",
       "      <td>Owner\\n\\nPurchaser</td>\n",
       "      <td>7/16/71</td>\n",
       "      <td>21600</td>\n",
       "      <td>-</td>\n",
       "      <td>-</td>\n",
       "      <td>-</td>\n",
       "      <td>-</td>\n",
       "      <td>-</td>\n",
       "      <td>06/171971</td>\n",
       "    </tr>\n",
       "    <tr>\n",
       "      <th>2</th>\n",
       "      <td>NaN</td>\n",
       "      <td>1</td>\n",
       "      <td>4</td>\n",
       "      <td>4</td>\n",
       "      <td>56</td>\n",
       "      <td>90\\n196</td>\n",
       "      <td>Asheland Ave.\\nHillard Ave.</td>\n",
       "      <td>Commercial</td>\n",
       "      <td>4/4/40</td>\n",
       "      <td>Charles G. Lee, Sr.\\n\\nCharles G. Lee, Jr.\\nH....</td>\n",
       "      <td>...</td>\n",
       "      <td>William I. Lee\\nZyphin J. Lee\\nH. Kenneth Lee\\...</td>\n",
       "      <td>Owner\\n\\n\\n\\nPurchaser</td>\n",
       "      <td>8/17/72</td>\n",
       "      <td>46000</td>\n",
       "      <td>-</td>\n",
       "      <td>-</td>\n",
       "      <td>-</td>\n",
       "      <td>-</td>\n",
       "      <td>-</td>\n",
       "      <td>7/13/72</td>\n",
       "    </tr>\n",
       "    <tr>\n",
       "      <th>3</th>\n",
       "      <td>NaN</td>\n",
       "      <td>1</td>\n",
       "      <td>5</td>\n",
       "      <td>4</td>\n",
       "      <td>56</td>\n",
       "      <td>94</td>\n",
       "      <td>Asheland Ave.</td>\n",
       "      <td>Residential</td>\n",
       "      <td>4/28/34</td>\n",
       "      <td>John E. Smathers\\nEtta C. Smathers\\n\\nThelma S...</td>\n",
       "      <td>...</td>\n",
       "      <td>Thelma Smathers Johnson\\nElizabeth Pauline Sma...</td>\n",
       "      <td>Owner\\n\\n\\nPurchaser</td>\n",
       "      <td>-</td>\n",
       "      <td>-</td>\n",
       "      <td>-</td>\n",
       "      <td>-</td>\n",
       "      <td>-</td>\n",
       "      <td>-</td>\n",
       "      <td>-</td>\n",
       "      <td>5/29/74</td>\n",
       "    </tr>\n",
       "    <tr>\n",
       "      <th>4</th>\n",
       "      <td>NaN</td>\n",
       "      <td>1</td>\n",
       "      <td>6</td>\n",
       "      <td>4</td>\n",
       "      <td>56</td>\n",
       "      <td>98</td>\n",
       "      <td>Asheland Ave.</td>\n",
       "      <td>Commercial</td>\n",
       "      <td>12/24/64</td>\n",
       "      <td>C.A. Yarbrough\\nSarah M Yarbrough\\n\\nHarry's C...</td>\n",
       "      <td>...</td>\n",
       "      <td>Harry's Cadillac-Pontiac Company, Inc.\\n\\nHACA\\n</td>\n",
       "      <td>Owner\\n\\nPurchaser</td>\n",
       "      <td>-</td>\n",
       "      <td>-</td>\n",
       "      <td>-</td>\n",
       "      <td>-</td>\n",
       "      <td>-</td>\n",
       "      <td>-</td>\n",
       "      <td>-</td>\n",
       "      <td>10/9/74</td>\n",
       "    </tr>\n",
       "  </tbody>\n",
       "</table>\n",
       "<p>5 rows × 35 columns</p>\n",
       "</div>"
      ],
      "text/plain": [
       "  Transcriber Block # Parcel # Ward # Box #          Street number  \\\n",
       "0         NaN       1        2      4    56  198\\n198 1/2\\n198-200   \n",
       "1         NaN       1        3      4    56                202-208   \n",
       "2         NaN       1        4      4    56                90\\n196   \n",
       "3         NaN       1        5      4    56                     94   \n",
       "4         NaN       1        6      4    56                     98   \n",
       "\n",
       "                Street address     Land use  \\\n",
       "0                 Hillard Ave.   Commercial   \n",
       "1                 Hillard Ave.   Commercial   \n",
       "2  Asheland Ave.\\nHillard Ave.   Commercial   \n",
       "3                Asheland Ave.  Residential   \n",
       "4                Asheland Ave.   Commercial   \n",
       "\n",
       "  Previous Transfer of deed Event Date  \\\n",
       "0                                    -   \n",
       "1                               8/1/67   \n",
       "2                               4/4/40   \n",
       "3                              4/28/34   \n",
       "4                             12/24/64   \n",
       "\n",
       "           Previous Transfer of deed People Involved  \\\n",
       "0  Bessie S. Kalogerakis\\n\\nAmelia K. Kalogerakis...   \n",
       "1  W.S. Harrison\\nBeulah L. Harrison\\n\\nCharles R...   \n",
       "2  Charles G. Lee, Sr.\\n\\nCharles G. Lee, Jr.\\nH....   \n",
       "3  John E. Smathers\\nEtta C. Smathers\\n\\nThelma S...   \n",
       "4  C.A. Yarbrough\\nSarah M Yarbrough\\n\\nHarry's C...   \n",
       "\n",
       "             ...              \\\n",
       "0            ...               \n",
       "1            ...               \n",
       "2            ...               \n",
       "3            ...               \n",
       "4            ...               \n",
       "\n",
       "                            Decision People Involved           Decision Role  \\\n",
       "0  \\nAmelia K. Kalogerakis\\nEva K. Cleraderas\\nSt...    Owner\\n\\n\\nPurchaser   \n",
       "1             Charles R. Stinnette Co., Inc.\\n\\nHACA      Owner\\n\\nPurchaser   \n",
       "2  William I. Lee\\nZyphin J. Lee\\nH. Kenneth Lee\\...  Owner\\n\\n\\n\\nPurchaser   \n",
       "3  Thelma Smathers Johnson\\nElizabeth Pauline Sma...    Owner\\n\\n\\nPurchaser   \n",
       "4   Harry's Cadillac-Pontiac Company, Inc.\\n\\nHACA\\n      Owner\\n\\nPurchaser   \n",
       "\n",
       "  Award Date Award Amount Money Tenant Vacated Date Tenant Agreement Date  \\\n",
       "0          -                  -                   -                     -   \n",
       "1    7/16/71              21600                   -                     -   \n",
       "2    8/17/72              46000                   -                     -   \n",
       "3          -                  -                   -                     -   \n",
       "4          -                  -                   -                     -   \n",
       "\n",
       "  Tenant Cost Tenant Name Previous owner\\nor\\nTenant  \\\n",
       "0           -           -                          -   \n",
       "1           -           -                          -   \n",
       "2           -           -                          -   \n",
       "3           -           -                          -   \n",
       "4           -           -                          -   \n",
       "\n",
       "  End of Case Finalized Date  \n",
       "0                     6/6/69  \n",
       "1                  06/171971  \n",
       "2                    7/13/72  \n",
       "3                    5/29/74  \n",
       "4                    10/9/74  \n",
       "\n",
       "[5 rows x 35 columns]"
      ]
     },
     "execution_count": 1311,
     "metadata": {},
     "output_type": "execute_result"
    }
   ],
   "source": [
    "copy=df\n",
    "copy.head()"
   ]
  },
  {
   "cell_type": "code",
   "execution_count": 1312,
   "metadata": {
    "collapsed": true
   },
   "outputs": [],
   "source": [
    "copy.drop(['Transcriber'], axis=1, inplace=True)"
   ]
  },
  {
   "cell_type": "code",
   "execution_count": 1313,
   "metadata": {
    "collapsed": false
   },
   "outputs": [
    {
     "data": {
      "text/html": [
       "<div>\n",
       "<table border=\"1\" class=\"dataframe\">\n",
       "  <thead>\n",
       "    <tr style=\"text-align: right;\">\n",
       "      <th></th>\n",
       "      <th>Block #</th>\n",
       "      <th>Parcel #</th>\n",
       "      <th>Ward #</th>\n",
       "      <th>Box #</th>\n",
       "      <th>Street number</th>\n",
       "      <th>Street address</th>\n",
       "      <th>Land use</th>\n",
       "      <th>Previous Transfer of deed Event Date</th>\n",
       "      <th>Previous Transfer of deed People Involved</th>\n",
       "      <th>Previous Transfer of deed Role</th>\n",
       "      <th>...</th>\n",
       "      <th>Decision People Involved</th>\n",
       "      <th>Decision Role</th>\n",
       "      <th>Award Date</th>\n",
       "      <th>Award Amount Money</th>\n",
       "      <th>Tenant Vacated Date</th>\n",
       "      <th>Tenant Agreement Date</th>\n",
       "      <th>Tenant Cost</th>\n",
       "      <th>Tenant Name</th>\n",
       "      <th>Previous owner\n",
       "or\n",
       "Tenant</th>\n",
       "      <th>End of Case Finalized Date</th>\n",
       "    </tr>\n",
       "  </thead>\n",
       "  <tbody>\n",
       "    <tr>\n",
       "      <th>0</th>\n",
       "      <td>1</td>\n",
       "      <td>2</td>\n",
       "      <td>4</td>\n",
       "      <td>56</td>\n",
       "      <td>198\\n198 1/2\\n198-200</td>\n",
       "      <td>Hillard Ave.</td>\n",
       "      <td>Commercial</td>\n",
       "      <td>-</td>\n",
       "      <td>Bessie S. Kalogerakis\\n\\nAmelia K. Kalogerakis...</td>\n",
       "      <td>Owner\\n\\n\\n\\nHeir</td>\n",
       "      <td>...</td>\n",
       "      <td>\\nAmelia K. Kalogerakis\\nEva K. Cleraderas\\nSt...</td>\n",
       "      <td>Owner\\n\\n\\nPurchaser</td>\n",
       "      <td>-</td>\n",
       "      <td>-</td>\n",
       "      <td>-</td>\n",
       "      <td>-</td>\n",
       "      <td>-</td>\n",
       "      <td>-</td>\n",
       "      <td>-</td>\n",
       "      <td>6/6/69</td>\n",
       "    </tr>\n",
       "    <tr>\n",
       "      <th>1</th>\n",
       "      <td>1</td>\n",
       "      <td>3</td>\n",
       "      <td>4</td>\n",
       "      <td>56</td>\n",
       "      <td>202-208</td>\n",
       "      <td>Hillard Ave.</td>\n",
       "      <td>Commercial</td>\n",
       "      <td>8/1/67</td>\n",
       "      <td>W.S. Harrison\\nBeulah L. Harrison\\n\\nCharles R...</td>\n",
       "      <td>Owner\\n\\n\\nPurchaser</td>\n",
       "      <td>...</td>\n",
       "      <td>Charles R. Stinnette Co., Inc.\\n\\nHACA</td>\n",
       "      <td>Owner\\n\\nPurchaser</td>\n",
       "      <td>7/16/71</td>\n",
       "      <td>21600</td>\n",
       "      <td>-</td>\n",
       "      <td>-</td>\n",
       "      <td>-</td>\n",
       "      <td>-</td>\n",
       "      <td>-</td>\n",
       "      <td>06/171971</td>\n",
       "    </tr>\n",
       "    <tr>\n",
       "      <th>2</th>\n",
       "      <td>1</td>\n",
       "      <td>4</td>\n",
       "      <td>4</td>\n",
       "      <td>56</td>\n",
       "      <td>90\\n196</td>\n",
       "      <td>Asheland Ave.\\nHillard Ave.</td>\n",
       "      <td>Commercial</td>\n",
       "      <td>4/4/40</td>\n",
       "      <td>Charles G. Lee, Sr.\\n\\nCharles G. Lee, Jr.\\nH....</td>\n",
       "      <td>Owner\\n\\n\\nHeir</td>\n",
       "      <td>...</td>\n",
       "      <td>William I. Lee\\nZyphin J. Lee\\nH. Kenneth Lee\\...</td>\n",
       "      <td>Owner\\n\\n\\n\\nPurchaser</td>\n",
       "      <td>8/17/72</td>\n",
       "      <td>46000</td>\n",
       "      <td>-</td>\n",
       "      <td>-</td>\n",
       "      <td>-</td>\n",
       "      <td>-</td>\n",
       "      <td>-</td>\n",
       "      <td>7/13/72</td>\n",
       "    </tr>\n",
       "    <tr>\n",
       "      <th>3</th>\n",
       "      <td>1</td>\n",
       "      <td>5</td>\n",
       "      <td>4</td>\n",
       "      <td>56</td>\n",
       "      <td>94</td>\n",
       "      <td>Asheland Ave.</td>\n",
       "      <td>Residential</td>\n",
       "      <td>4/28/34</td>\n",
       "      <td>John E. Smathers\\nEtta C. Smathers\\n\\nThelma S...</td>\n",
       "      <td>Owner\\n\\n\\nHeir</td>\n",
       "      <td>...</td>\n",
       "      <td>Thelma Smathers Johnson\\nElizabeth Pauline Sma...</td>\n",
       "      <td>Owner\\n\\n\\nPurchaser</td>\n",
       "      <td>-</td>\n",
       "      <td>-</td>\n",
       "      <td>-</td>\n",
       "      <td>-</td>\n",
       "      <td>-</td>\n",
       "      <td>-</td>\n",
       "      <td>-</td>\n",
       "      <td>5/29/74</td>\n",
       "    </tr>\n",
       "    <tr>\n",
       "      <th>4</th>\n",
       "      <td>1</td>\n",
       "      <td>6</td>\n",
       "      <td>4</td>\n",
       "      <td>56</td>\n",
       "      <td>98</td>\n",
       "      <td>Asheland Ave.</td>\n",
       "      <td>Commercial</td>\n",
       "      <td>12/24/64</td>\n",
       "      <td>C.A. Yarbrough\\nSarah M Yarbrough\\n\\nHarry's C...</td>\n",
       "      <td>Owner\\n\\nPurchaser</td>\n",
       "      <td>...</td>\n",
       "      <td>Harry's Cadillac-Pontiac Company, Inc.\\n\\nHACA\\n</td>\n",
       "      <td>Owner\\n\\nPurchaser</td>\n",
       "      <td>-</td>\n",
       "      <td>-</td>\n",
       "      <td>-</td>\n",
       "      <td>-</td>\n",
       "      <td>-</td>\n",
       "      <td>-</td>\n",
       "      <td>-</td>\n",
       "      <td>10/9/74</td>\n",
       "    </tr>\n",
       "  </tbody>\n",
       "</table>\n",
       "<p>5 rows × 34 columns</p>\n",
       "</div>"
      ],
      "text/plain": [
       "  Block # Parcel # Ward # Box #          Street number  \\\n",
       "0       1        2      4    56  198\\n198 1/2\\n198-200   \n",
       "1       1        3      4    56                202-208   \n",
       "2       1        4      4    56                90\\n196   \n",
       "3       1        5      4    56                     94   \n",
       "4       1        6      4    56                     98   \n",
       "\n",
       "                Street address     Land use  \\\n",
       "0                 Hillard Ave.   Commercial   \n",
       "1                 Hillard Ave.   Commercial   \n",
       "2  Asheland Ave.\\nHillard Ave.   Commercial   \n",
       "3                Asheland Ave.  Residential   \n",
       "4                Asheland Ave.   Commercial   \n",
       "\n",
       "  Previous Transfer of deed Event Date  \\\n",
       "0                                    -   \n",
       "1                               8/1/67   \n",
       "2                               4/4/40   \n",
       "3                              4/28/34   \n",
       "4                             12/24/64   \n",
       "\n",
       "           Previous Transfer of deed People Involved  \\\n",
       "0  Bessie S. Kalogerakis\\n\\nAmelia K. Kalogerakis...   \n",
       "1  W.S. Harrison\\nBeulah L. Harrison\\n\\nCharles R...   \n",
       "2  Charles G. Lee, Sr.\\n\\nCharles G. Lee, Jr.\\nH....   \n",
       "3  John E. Smathers\\nEtta C. Smathers\\n\\nThelma S...   \n",
       "4  C.A. Yarbrough\\nSarah M Yarbrough\\n\\nHarry's C...   \n",
       "\n",
       "  Previous Transfer of deed Role            ...              \\\n",
       "0              Owner\\n\\n\\n\\nHeir            ...               \n",
       "1           Owner\\n\\n\\nPurchaser            ...               \n",
       "2                Owner\\n\\n\\nHeir            ...               \n",
       "3                Owner\\n\\n\\nHeir            ...               \n",
       "4             Owner\\n\\nPurchaser            ...               \n",
       "\n",
       "                            Decision People Involved           Decision Role  \\\n",
       "0  \\nAmelia K. Kalogerakis\\nEva K. Cleraderas\\nSt...    Owner\\n\\n\\nPurchaser   \n",
       "1             Charles R. Stinnette Co., Inc.\\n\\nHACA      Owner\\n\\nPurchaser   \n",
       "2  William I. Lee\\nZyphin J. Lee\\nH. Kenneth Lee\\...  Owner\\n\\n\\n\\nPurchaser   \n",
       "3  Thelma Smathers Johnson\\nElizabeth Pauline Sma...    Owner\\n\\n\\nPurchaser   \n",
       "4   Harry's Cadillac-Pontiac Company, Inc.\\n\\nHACA\\n      Owner\\n\\nPurchaser   \n",
       "\n",
       "  Award Date Award Amount Money Tenant Vacated Date Tenant Agreement Date  \\\n",
       "0          -                  -                   -                     -   \n",
       "1    7/16/71              21600                   -                     -   \n",
       "2    8/17/72              46000                   -                     -   \n",
       "3          -                  -                   -                     -   \n",
       "4          -                  -                   -                     -   \n",
       "\n",
       "  Tenant Cost Tenant Name Previous owner\\nor\\nTenant  \\\n",
       "0           -           -                          -   \n",
       "1           -           -                          -   \n",
       "2           -           -                          -   \n",
       "3           -           -                          -   \n",
       "4           -           -                          -   \n",
       "\n",
       "  End of Case Finalized Date  \n",
       "0                     6/6/69  \n",
       "1                  06/171971  \n",
       "2                    7/13/72  \n",
       "3                    5/29/74  \n",
       "4                    10/9/74  \n",
       "\n",
       "[5 rows x 34 columns]"
      ]
     },
     "execution_count": 1313,
     "metadata": {},
     "output_type": "execute_result"
    }
   ],
   "source": [
    "copy.head()"
   ]
  },
  {
   "cell_type": "code",
   "execution_count": 1314,
   "metadata": {
    "collapsed": true
   },
   "outputs": [],
   "source": [
    "copy=copy[copy['Block #'].str.contains(\"Spring\")==False]"
   ]
  },
  {
   "cell_type": "code",
   "execution_count": 1315,
   "metadata": {
    "collapsed": true
   },
   "outputs": [],
   "source": [
    "parcels=df[['Block #', 'Parcel #','Ward #','Land use']]"
   ]
  },
  {
   "cell_type": "code",
   "execution_count": 1316,
   "metadata": {
    "collapsed": true
   },
   "outputs": [],
   "source": [
    "parcels=parcels[parcels['Block #'].str.contains(\"Spring\")==False]"
   ]
  },
  {
   "cell_type": "code",
   "execution_count": 1317,
   "metadata": {
    "collapsed": true
   },
   "outputs": [],
   "source": [
    "parcels=parcels[parcels['Block #'].str.contains(\"  \")==False]"
   ]
  },
  {
   "cell_type": "code",
   "execution_count": 1318,
   "metadata": {
    "collapsed": false
   },
   "outputs": [
    {
     "data": {
      "text/plain": [
       "dtype('O')"
      ]
     },
     "execution_count": 1318,
     "metadata": {},
     "output_type": "execute_result"
    }
   ],
   "source": [
    "parcels['Block #'].dtypes"
   ]
  },
  {
   "cell_type": "code",
   "execution_count": 1319,
   "metadata": {
    "collapsed": true,
    "scrolled": true
   },
   "outputs": [],
   "source": [
    "parcels.insert(0, 'Parcel_ID', range(1,1+len(parcels)))"
   ]
  },
  {
   "cell_type": "code",
   "execution_count": 1320,
   "metadata": {
    "collapsed": false
   },
   "outputs": [
    {
     "data": {
      "text/html": [
       "<div>\n",
       "<table border=\"1\" class=\"dataframe\">\n",
       "  <thead>\n",
       "    <tr style=\"text-align: right;\">\n",
       "      <th></th>\n",
       "      <th>Parcel_ID</th>\n",
       "      <th>Block #</th>\n",
       "      <th>Parcel #</th>\n",
       "      <th>Ward #</th>\n",
       "      <th>Land use</th>\n",
       "    </tr>\n",
       "  </thead>\n",
       "  <tbody>\n",
       "    <tr>\n",
       "      <th>0</th>\n",
       "      <td>1</td>\n",
       "      <td>1</td>\n",
       "      <td>2</td>\n",
       "      <td>4</td>\n",
       "      <td>Commercial</td>\n",
       "    </tr>\n",
       "    <tr>\n",
       "      <th>1</th>\n",
       "      <td>2</td>\n",
       "      <td>1</td>\n",
       "      <td>3</td>\n",
       "      <td>4</td>\n",
       "      <td>Commercial</td>\n",
       "    </tr>\n",
       "    <tr>\n",
       "      <th>2</th>\n",
       "      <td>3</td>\n",
       "      <td>1</td>\n",
       "      <td>4</td>\n",
       "      <td>4</td>\n",
       "      <td>Commercial</td>\n",
       "    </tr>\n",
       "    <tr>\n",
       "      <th>3</th>\n",
       "      <td>4</td>\n",
       "      <td>1</td>\n",
       "      <td>5</td>\n",
       "      <td>4</td>\n",
       "      <td>Residential</td>\n",
       "    </tr>\n",
       "    <tr>\n",
       "      <th>4</th>\n",
       "      <td>5</td>\n",
       "      <td>1</td>\n",
       "      <td>6</td>\n",
       "      <td>4</td>\n",
       "      <td>Commercial</td>\n",
       "    </tr>\n",
       "  </tbody>\n",
       "</table>\n",
       "</div>"
      ],
      "text/plain": [
       "   Parcel_ID Block # Parcel # Ward #     Land use\n",
       "0          1       1        2      4   Commercial\n",
       "1          2       1        3      4   Commercial\n",
       "2          3       1        4      4   Commercial\n",
       "3          4       1        5      4  Residential\n",
       "4          5       1        6      4   Commercial"
      ]
     },
     "execution_count": 1320,
     "metadata": {},
     "output_type": "execute_result"
    }
   ],
   "source": [
    "parcels.head()"
   ]
  },
  {
   "cell_type": "code",
   "execution_count": 1321,
   "metadata": {
    "collapsed": true
   },
   "outputs": [],
   "source": [
    "parcels.columns = [\"parcel_id\", \"block_num\", \"parcel_num\", \"ward_num\", \"land_use\"]"
   ]
  },
  {
   "cell_type": "code",
   "execution_count": 1322,
   "metadata": {
    "collapsed": true
   },
   "outputs": [],
   "source": [
    "parcels.to_csv('output/parcels.csv', index=False)"
   ]
  },
  {
   "cell_type": "code",
   "execution_count": 1323,
   "metadata": {
    "collapsed": false
   },
   "outputs": [
    {
     "data": {
      "text/plain": [
       "(542, 5)"
      ]
     },
     "execution_count": 1323,
     "metadata": {},
     "output_type": "execute_result"
    }
   ],
   "source": [
    "parcels. shape"
   ]
  },
  {
   "cell_type": "code",
   "execution_count": null,
   "metadata": {
    "collapsed": true
   },
   "outputs": [],
   "source": []
  },
  {
   "cell_type": "code",
   "execution_count": 1324,
   "metadata": {
    "collapsed": false
   },
   "outputs": [],
   "source": [
    "parcel_id=parcels[['parcel_id']]"
   ]
  },
  {
   "cell_type": "code",
   "execution_count": 1325,
   "metadata": {
    "collapsed": true
   },
   "outputs": [],
   "source": [
    "addresses= copy[['Street number', 'Street address']]"
   ]
  },
  {
   "cell_type": "code",
   "execution_count": 1326,
   "metadata": {
    "collapsed": true
   },
   "outputs": [],
   "source": [
    "addresses=addresses.join(parcels[['parcel_id']])"
   ]
  },
  {
   "cell_type": "code",
   "execution_count": 1327,
   "metadata": {
    "collapsed": false
   },
   "outputs": [
    {
     "data": {
      "text/html": [
       "<div>\n",
       "<table border=\"1\" class=\"dataframe\">\n",
       "  <thead>\n",
       "    <tr style=\"text-align: right;\">\n",
       "      <th></th>\n",
       "      <th>Street number</th>\n",
       "      <th>Street address</th>\n",
       "      <th>parcel_id</th>\n",
       "    </tr>\n",
       "  </thead>\n",
       "  <tbody>\n",
       "    <tr>\n",
       "      <th>0</th>\n",
       "      <td>198\\n198 1/2\\n198-200</td>\n",
       "      <td>Hillard Ave.</td>\n",
       "      <td>1</td>\n",
       "    </tr>\n",
       "    <tr>\n",
       "      <th>1</th>\n",
       "      <td>202-208</td>\n",
       "      <td>Hillard Ave.</td>\n",
       "      <td>2</td>\n",
       "    </tr>\n",
       "    <tr>\n",
       "      <th>2</th>\n",
       "      <td>90\\n196</td>\n",
       "      <td>Asheland Ave.\\nHillard Ave.</td>\n",
       "      <td>3</td>\n",
       "    </tr>\n",
       "    <tr>\n",
       "      <th>3</th>\n",
       "      <td>94</td>\n",
       "      <td>Asheland Ave.</td>\n",
       "      <td>4</td>\n",
       "    </tr>\n",
       "    <tr>\n",
       "      <th>4</th>\n",
       "      <td>98</td>\n",
       "      <td>Asheland Ave.</td>\n",
       "      <td>5</td>\n",
       "    </tr>\n",
       "  </tbody>\n",
       "</table>\n",
       "</div>"
      ],
      "text/plain": [
       "           Street number               Street address  parcel_id\n",
       "0  198\\n198 1/2\\n198-200                 Hillard Ave.          1\n",
       "1                202-208                 Hillard Ave.          2\n",
       "2                90\\n196  Asheland Ave.\\nHillard Ave.          3\n",
       "3                     94                Asheland Ave.          4\n",
       "4                     98                Asheland Ave.          5"
      ]
     },
     "execution_count": 1327,
     "metadata": {},
     "output_type": "execute_result"
    }
   ],
   "source": [
    "addresses.head()"
   ]
  },
  {
   "cell_type": "code",
   "execution_count": 1328,
   "metadata": {
    "collapsed": false
   },
   "outputs": [
    {
     "data": {
      "text/plain": [
       "(542, 3)"
      ]
     },
     "execution_count": 1328,
     "metadata": {},
     "output_type": "execute_result"
    }
   ],
   "source": [
    "addresses.shape"
   ]
  },
  {
   "cell_type": "code",
   "execution_count": 1329,
   "metadata": {
    "collapsed": false
   },
   "outputs": [
    {
     "data": {
      "text/html": [
       "<div>\n",
       "<table border=\"1\" class=\"dataframe\">\n",
       "  <thead>\n",
       "    <tr style=\"text-align: right;\">\n",
       "      <th></th>\n",
       "      <th>Street number</th>\n",
       "      <th>Street address</th>\n",
       "      <th>parcel_id</th>\n",
       "    </tr>\n",
       "  </thead>\n",
       "  <tbody>\n",
       "    <tr>\n",
       "      <th>0</th>\n",
       "      <td>198\\n198 1/2\\n198-200</td>\n",
       "      <td>Hillard Ave.</td>\n",
       "      <td>1</td>\n",
       "    </tr>\n",
       "    <tr>\n",
       "      <th>1</th>\n",
       "      <td>202-208</td>\n",
       "      <td>Hillard Ave.</td>\n",
       "      <td>2</td>\n",
       "    </tr>\n",
       "    <tr>\n",
       "      <th>2</th>\n",
       "      <td>90\\n196</td>\n",
       "      <td>Asheland Ave.\\nHillard Ave.</td>\n",
       "      <td>3</td>\n",
       "    </tr>\n",
       "    <tr>\n",
       "      <th>3</th>\n",
       "      <td>94</td>\n",
       "      <td>Asheland Ave.</td>\n",
       "      <td>4</td>\n",
       "    </tr>\n",
       "    <tr>\n",
       "      <th>4</th>\n",
       "      <td>98</td>\n",
       "      <td>Asheland Ave.</td>\n",
       "      <td>5</td>\n",
       "    </tr>\n",
       "  </tbody>\n",
       "</table>\n",
       "</div>"
      ],
      "text/plain": [
       "           Street number               Street address  parcel_id\n",
       "0  198\\n198 1/2\\n198-200                 Hillard Ave.          1\n",
       "1                202-208                 Hillard Ave.          2\n",
       "2                90\\n196  Asheland Ave.\\nHillard Ave.          3\n",
       "3                     94                Asheland Ave.          4\n",
       "4                     98                Asheland Ave.          5"
      ]
     },
     "execution_count": 1329,
     "metadata": {},
     "output_type": "execute_result"
    }
   ],
   "source": [
    "addresses.head()"
   ]
  },
  {
   "cell_type": "code",
   "execution_count": 1330,
   "metadata": {
    "collapsed": true
   },
   "outputs": [],
   "source": [
    "def splitRow(table):\n",
    "    newframe=pd.DataFrame(columns=table.columns.values)\n",
    "    size=0\n",
    "    for i in range(len(table)):\n",
    "        row = table.iloc[i]\n",
    "        if '\\n' in str(row['Street number']):\n",
    "            data = row['Street number'].split('\\n')\n",
    "            for d in data:\n",
    "                newrow = row\n",
    "                newrow['Street number'] = d\n",
    "                newframe.loc[size]=newrow\n",
    "                size+=1\n",
    "        else:\n",
    "            newframe.loc[size]=row\n",
    "            size+=1\n",
    "    return newframe"
   ]
  },
  {
   "cell_type": "code",
   "execution_count": 1331,
   "metadata": {
    "collapsed": false,
    "scrolled": true
   },
   "outputs": [
    {
     "name": "stderr",
     "output_type": "stream",
     "text": [
      "/Users/myeong/anaconda/lib/python3.5/site-packages/ipykernel/__main__.py:10: SettingWithCopyWarning: \n",
      "A value is trying to be set on a copy of a slice from a DataFrame\n",
      "\n",
      "See the caveats in the documentation: http://pandas.pydata.org/pandas-docs/stable/indexing.html#indexing-view-versus-copy\n"
     ]
    },
    {
     "data": {
      "text/html": [
       "<div>\n",
       "<table border=\"1\" class=\"dataframe\">\n",
       "  <thead>\n",
       "    <tr style=\"text-align: right;\">\n",
       "      <th></th>\n",
       "      <th>Street number</th>\n",
       "      <th>Street address</th>\n",
       "      <th>parcel_id</th>\n",
       "    </tr>\n",
       "  </thead>\n",
       "  <tbody>\n",
       "    <tr>\n",
       "      <th>0</th>\n",
       "      <td>198</td>\n",
       "      <td>Hillard Ave.</td>\n",
       "      <td>1.0</td>\n",
       "    </tr>\n",
       "    <tr>\n",
       "      <th>1</th>\n",
       "      <td>198 1/2</td>\n",
       "      <td>Hillard Ave.</td>\n",
       "      <td>1.0</td>\n",
       "    </tr>\n",
       "    <tr>\n",
       "      <th>2</th>\n",
       "      <td>198-200</td>\n",
       "      <td>Hillard Ave.</td>\n",
       "      <td>1.0</td>\n",
       "    </tr>\n",
       "    <tr>\n",
       "      <th>3</th>\n",
       "      <td>202-208</td>\n",
       "      <td>Hillard Ave.</td>\n",
       "      <td>2.0</td>\n",
       "    </tr>\n",
       "    <tr>\n",
       "      <th>4</th>\n",
       "      <td>90</td>\n",
       "      <td>Asheland Ave.\\nHillard Ave.</td>\n",
       "      <td>3.0</td>\n",
       "    </tr>\n",
       "    <tr>\n",
       "      <th>5</th>\n",
       "      <td>196</td>\n",
       "      <td>Asheland Ave.\\nHillard Ave.</td>\n",
       "      <td>3.0</td>\n",
       "    </tr>\n",
       "    <tr>\n",
       "      <th>6</th>\n",
       "      <td>94</td>\n",
       "      <td>Asheland Ave.</td>\n",
       "      <td>4.0</td>\n",
       "    </tr>\n",
       "    <tr>\n",
       "      <th>7</th>\n",
       "      <td>98</td>\n",
       "      <td>Asheland Ave.</td>\n",
       "      <td>5.0</td>\n",
       "    </tr>\n",
       "    <tr>\n",
       "      <th>8</th>\n",
       "      <td>110 - 112</td>\n",
       "      <td>Asheland Ave.</td>\n",
       "      <td>6.0</td>\n",
       "    </tr>\n",
       "    <tr>\n",
       "      <th>9</th>\n",
       "      <td>114</td>\n",
       "      <td>Asheland Ave.</td>\n",
       "      <td>7.0</td>\n",
       "    </tr>\n",
       "    <tr>\n",
       "      <th>10</th>\n",
       "      <td>122</td>\n",
       "      <td>Asheland Ave.</td>\n",
       "      <td>8.0</td>\n",
       "    </tr>\n",
       "    <tr>\n",
       "      <th>11</th>\n",
       "      <td>Rear of 114</td>\n",
       "      <td>Asheland Ave.</td>\n",
       "      <td>9.0</td>\n",
       "    </tr>\n",
       "    <tr>\n",
       "      <th>12</th>\n",
       "      <td>132 1/2</td>\n",
       "      <td>Asheland Ave.</td>\n",
       "      <td>10.0</td>\n",
       "    </tr>\n",
       "    <tr>\n",
       "      <th>13</th>\n",
       "      <td>132</td>\n",
       "      <td>Asheland Ave.</td>\n",
       "      <td>11.0</td>\n",
       "    </tr>\n",
       "    <tr>\n",
       "      <th>14</th>\n",
       "      <td>136</td>\n",
       "      <td>Asheland Ave.</td>\n",
       "      <td>12.0</td>\n",
       "    </tr>\n",
       "    <tr>\n",
       "      <th>15</th>\n",
       "      <td>136</td>\n",
       "      <td>Asheland Ave.</td>\n",
       "      <td>13.0</td>\n",
       "    </tr>\n",
       "    <tr>\n",
       "      <th>16</th>\n",
       "      <td>2</td>\n",
       "      <td>Wallack St.</td>\n",
       "      <td>14.0</td>\n",
       "    </tr>\n",
       "    <tr>\n",
       "      <th>17</th>\n",
       "      <td>5</td>\n",
       "      <td>Wallack St.</td>\n",
       "      <td>15.0</td>\n",
       "    </tr>\n",
       "    <tr>\n",
       "      <th>18</th>\n",
       "      <td>7</td>\n",
       "      <td>Wallack St.</td>\n",
       "      <td>16.0</td>\n",
       "    </tr>\n",
       "    <tr>\n",
       "      <th>19</th>\n",
       "      <td>9</td>\n",
       "      <td>Wallack St.</td>\n",
       "      <td>17.0</td>\n",
       "    </tr>\n",
       "    <tr>\n",
       "      <th>20</th>\n",
       "      <td>11</td>\n",
       "      <td>Wallack St.</td>\n",
       "      <td>18.0</td>\n",
       "    </tr>\n",
       "    <tr>\n",
       "      <th>21</th>\n",
       "      <td>15</td>\n",
       "      <td>Wallack St.</td>\n",
       "      <td>19.0</td>\n",
       "    </tr>\n",
       "    <tr>\n",
       "      <th>22</th>\n",
       "      <td>17</td>\n",
       "      <td>Wallack St.</td>\n",
       "      <td>20.0</td>\n",
       "    </tr>\n",
       "    <tr>\n",
       "      <th>23</th>\n",
       "      <td>23</td>\n",
       "      <td>Wallack St.</td>\n",
       "      <td>21.0</td>\n",
       "    </tr>\n",
       "    <tr>\n",
       "      <th>24</th>\n",
       "      <td>23</td>\n",
       "      <td>Wallack St.</td>\n",
       "      <td>22.0</td>\n",
       "    </tr>\n",
       "    <tr>\n",
       "      <th>25</th>\n",
       "      <td>55</td>\n",
       "      <td>Wallack St.</td>\n",
       "      <td>23.0</td>\n",
       "    </tr>\n",
       "    <tr>\n",
       "      <th>26</th>\n",
       "      <td>47 1/2</td>\n",
       "      <td>Wallack St.</td>\n",
       "      <td>24.0</td>\n",
       "    </tr>\n",
       "    <tr>\n",
       "      <th>27</th>\n",
       "      <td>77</td>\n",
       "      <td>Wallack St.</td>\n",
       "      <td>25.0</td>\n",
       "    </tr>\n",
       "    <tr>\n",
       "      <th>28</th>\n",
       "      <td>87</td>\n",
       "      <td>Wallack St.</td>\n",
       "      <td>26.0</td>\n",
       "    </tr>\n",
       "    <tr>\n",
       "      <th>29</th>\n",
       "      <td>Rear of 87</td>\n",
       "      <td>Wallack St.</td>\n",
       "      <td>27.0</td>\n",
       "    </tr>\n",
       "    <tr>\n",
       "      <th>...</th>\n",
       "      <td>...</td>\n",
       "      <td>...</td>\n",
       "      <td>...</td>\n",
       "    </tr>\n",
       "    <tr>\n",
       "      <th>544</th>\n",
       "      <td>9</td>\n",
       "      <td>Across from 9 Louie St</td>\n",
       "      <td>513.0</td>\n",
       "    </tr>\n",
       "    <tr>\n",
       "      <th>545</th>\n",
       "      <td>N/S</td>\n",
       "      <td>N/E Cor. Southern St. \\nand Graham Place</td>\n",
       "      <td>514.0</td>\n",
       "    </tr>\n",
       "    <tr>\n",
       "      <th>546</th>\n",
       "      <td>N/S</td>\n",
       "      <td>Southern Street</td>\n",
       "      <td>515.0</td>\n",
       "    </tr>\n",
       "    <tr>\n",
       "      <th>547</th>\n",
       "      <td>99</td>\n",
       "      <td>Asheland</td>\n",
       "      <td>516.0</td>\n",
       "    </tr>\n",
       "    <tr>\n",
       "      <th>548</th>\n",
       "      <td>105</td>\n",
       "      <td>Asheland</td>\n",
       "      <td>517.0</td>\n",
       "    </tr>\n",
       "    <tr>\n",
       "      <th>549</th>\n",
       "      <td>33</td>\n",
       "      <td>Silver Street</td>\n",
       "      <td>518.0</td>\n",
       "    </tr>\n",
       "    <tr>\n",
       "      <th>550</th>\n",
       "      <td>NaN</td>\n",
       "      <td>Near 176 S. Grove Rd</td>\n",
       "      <td>519.0</td>\n",
       "    </tr>\n",
       "    <tr>\n",
       "      <th>551</th>\n",
       "      <td>178 1/2</td>\n",
       "      <td>S. Grove Road</td>\n",
       "      <td>520.0</td>\n",
       "    </tr>\n",
       "    <tr>\n",
       "      <th>552</th>\n",
       "      <td>493</td>\n",
       "      <td>S. French Broad Avenue</td>\n",
       "      <td>521.0</td>\n",
       "    </tr>\n",
       "    <tr>\n",
       "      <th>553</th>\n",
       "      <td>494-496</td>\n",
       "      <td>Depot Street</td>\n",
       "      <td>522.0</td>\n",
       "    </tr>\n",
       "    <tr>\n",
       "      <th>554</th>\n",
       "      <td>113</td>\n",
       "      <td>Black Street</td>\n",
       "      <td>523.0</td>\n",
       "    </tr>\n",
       "    <tr>\n",
       "      <th>555</th>\n",
       "      <td>103</td>\n",
       "      <td>Black Street</td>\n",
       "      <td>524.0</td>\n",
       "    </tr>\n",
       "    <tr>\n",
       "      <th>556</th>\n",
       "      <td>168.5</td>\n",
       "      <td>South Grove Street</td>\n",
       "      <td>525.0</td>\n",
       "    </tr>\n",
       "    <tr>\n",
       "      <th>557</th>\n",
       "      <td>174</td>\n",
       "      <td>Rear of 174 South Grove Street</td>\n",
       "      <td>526.0</td>\n",
       "    </tr>\n",
       "    <tr>\n",
       "      <th>558</th>\n",
       "      <td>174</td>\n",
       "      <td>Rear of 174 South Grove Street</td>\n",
       "      <td>527.0</td>\n",
       "    </tr>\n",
       "    <tr>\n",
       "      <th>559</th>\n",
       "      <td>192</td>\n",
       "      <td>South Grove Street</td>\n",
       "      <td>528.0</td>\n",
       "    </tr>\n",
       "    <tr>\n",
       "      <th>560</th>\n",
       "      <td>NaN</td>\n",
       "      <td>NaN</td>\n",
       "      <td>529.0</td>\n",
       "    </tr>\n",
       "    <tr>\n",
       "      <th>561</th>\n",
       "      <td>118</td>\n",
       "      <td>South Grove Street</td>\n",
       "      <td>530.0</td>\n",
       "    </tr>\n",
       "    <tr>\n",
       "      <th>562</th>\n",
       "      <td>113</td>\n",
       "      <td>Asheland Ave.</td>\n",
       "      <td>531.0</td>\n",
       "    </tr>\n",
       "    <tr>\n",
       "      <th>563</th>\n",
       "      <td>111</td>\n",
       "      <td>Asheland Ave.</td>\n",
       "      <td>532.0</td>\n",
       "    </tr>\n",
       "    <tr>\n",
       "      <th>564</th>\n",
       "      <td>502</td>\n",
       "      <td>Depot St.</td>\n",
       "      <td>533.0</td>\n",
       "    </tr>\n",
       "    <tr>\n",
       "      <th>565</th>\n",
       "      <td>82</td>\n",
       "      <td>Livingston St.</td>\n",
       "      <td>534.0</td>\n",
       "    </tr>\n",
       "    <tr>\n",
       "      <th>566</th>\n",
       "      <td>100</td>\n",
       "      <td>South Grove Street</td>\n",
       "      <td>535.0</td>\n",
       "    </tr>\n",
       "    <tr>\n",
       "      <th>567</th>\n",
       "      <td>88</td>\n",
       "      <td>South French Broad Ave.</td>\n",
       "      <td>536.0</td>\n",
       "    </tr>\n",
       "    <tr>\n",
       "      <th>568</th>\n",
       "      <td>7</td>\n",
       "      <td>Silver St.</td>\n",
       "      <td>537.0</td>\n",
       "    </tr>\n",
       "    <tr>\n",
       "      <th>569</th>\n",
       "      <td>7</td>\n",
       "      <td>Silver St.</td>\n",
       "      <td>538.0</td>\n",
       "    </tr>\n",
       "    <tr>\n",
       "      <th>570</th>\n",
       "      <td>7</td>\n",
       "      <td>Silver St.</td>\n",
       "      <td>539.0</td>\n",
       "    </tr>\n",
       "    <tr>\n",
       "      <th>571</th>\n",
       "      <td>8</td>\n",
       "      <td>DeWitt St.</td>\n",
       "      <td>540.0</td>\n",
       "    </tr>\n",
       "    <tr>\n",
       "      <th>572</th>\n",
       "      <td>8</td>\n",
       "      <td>DeWitt St.</td>\n",
       "      <td>541.0</td>\n",
       "    </tr>\n",
       "    <tr>\n",
       "      <th>573</th>\n",
       "      <td>8</td>\n",
       "      <td>DeWitt St.</td>\n",
       "      <td>542.0</td>\n",
       "    </tr>\n",
       "  </tbody>\n",
       "</table>\n",
       "<p>574 rows × 3 columns</p>\n",
       "</div>"
      ],
      "text/plain": [
       "    Street number                            Street address  parcel_id\n",
       "0             198                              Hillard Ave.        1.0\n",
       "1         198 1/2                              Hillard Ave.        1.0\n",
       "2         198-200                              Hillard Ave.        1.0\n",
       "3         202-208                              Hillard Ave.        2.0\n",
       "4              90               Asheland Ave.\\nHillard Ave.        3.0\n",
       "5             196               Asheland Ave.\\nHillard Ave.        3.0\n",
       "6              94                             Asheland Ave.        4.0\n",
       "7              98                             Asheland Ave.        5.0\n",
       "8       110 - 112                             Asheland Ave.        6.0\n",
       "9             114                             Asheland Ave.        7.0\n",
       "10            122                             Asheland Ave.        8.0\n",
       "11    Rear of 114                             Asheland Ave.        9.0\n",
       "12        132 1/2                             Asheland Ave.       10.0\n",
       "13            132                             Asheland Ave.       11.0\n",
       "14            136                             Asheland Ave.       12.0\n",
       "15            136                             Asheland Ave.       13.0\n",
       "16              2                               Wallack St.       14.0\n",
       "17              5                               Wallack St.       15.0\n",
       "18              7                               Wallack St.       16.0\n",
       "19              9                               Wallack St.       17.0\n",
       "20             11                               Wallack St.       18.0\n",
       "21             15                               Wallack St.       19.0\n",
       "22             17                               Wallack St.       20.0\n",
       "23             23                               Wallack St.       21.0\n",
       "24             23                               Wallack St.       22.0\n",
       "25             55                               Wallack St.       23.0\n",
       "26         47 1/2                               Wallack St.       24.0\n",
       "27             77                               Wallack St.       25.0\n",
       "28             87                               Wallack St.       26.0\n",
       "29     Rear of 87                               Wallack St.       27.0\n",
       "..            ...                                       ...        ...\n",
       "544             9                    Across from 9 Louie St      513.0\n",
       "545           N/S  N/E Cor. Southern St. \\nand Graham Place      514.0\n",
       "546           N/S                           Southern Street      515.0\n",
       "547            99                                  Asheland      516.0\n",
       "548           105                                  Asheland      517.0\n",
       "549            33                             Silver Street      518.0\n",
       "550           NaN                      Near 176 S. Grove Rd      519.0\n",
       "551       178 1/2                             S. Grove Road      520.0\n",
       "552           493                    S. French Broad Avenue      521.0\n",
       "553       494-496                              Depot Street      522.0\n",
       "554           113                              Black Street      523.0\n",
       "555           103                              Black Street      524.0\n",
       "556         168.5                        South Grove Street      525.0\n",
       "557           174            Rear of 174 South Grove Street      526.0\n",
       "558           174            Rear of 174 South Grove Street      527.0\n",
       "559           192                        South Grove Street      528.0\n",
       "560           NaN                                       NaN      529.0\n",
       "561           118                        South Grove Street      530.0\n",
       "562           113                             Asheland Ave.      531.0\n",
       "563           111                             Asheland Ave.      532.0\n",
       "564           502                                 Depot St.      533.0\n",
       "565            82                            Livingston St.      534.0\n",
       "566           100                        South Grove Street      535.0\n",
       "567            88                   South French Broad Ave.      536.0\n",
       "568             7                                Silver St.      537.0\n",
       "569             7                                Silver St.      538.0\n",
       "570             7                                Silver St.      539.0\n",
       "571             8                                DeWitt St.      540.0\n",
       "572             8                                DeWitt St.      541.0\n",
       "573             8                                DeWitt St.      542.0\n",
       "\n",
       "[574 rows x 3 columns]"
      ]
     },
     "execution_count": 1331,
     "metadata": {},
     "output_type": "execute_result"
    }
   ],
   "source": [
    "test= splitRow(addresses)\n",
    "test\n",
    "##s = test[test['Street address'] == 'Hillard Ave.']\n",
    "##x = addresses[addresses['Street address'] == 'Hillard Ave.']\n",
    "##print(x)\n"
   ]
  },
  {
   "cell_type": "code",
   "execution_count": 1332,
   "metadata": {
    "collapsed": true
   },
   "outputs": [],
   "source": [
    "test.insert(0,'ID',range(1,1+len(test)))"
   ]
  },
  {
   "cell_type": "code",
   "execution_count": 1333,
   "metadata": {
    "collapsed": false
   },
   "outputs": [
    {
     "data": {
      "text/html": [
       "<div>\n",
       "<table border=\"1\" class=\"dataframe\">\n",
       "  <thead>\n",
       "    <tr style=\"text-align: right;\">\n",
       "      <th></th>\n",
       "      <th>ID</th>\n",
       "      <th>Street number</th>\n",
       "      <th>Street address</th>\n",
       "      <th>parcel_id</th>\n",
       "    </tr>\n",
       "  </thead>\n",
       "  <tbody>\n",
       "    <tr>\n",
       "      <th>0</th>\n",
       "      <td>1</td>\n",
       "      <td>198</td>\n",
       "      <td>Hillard Ave.</td>\n",
       "      <td>1.0</td>\n",
       "    </tr>\n",
       "    <tr>\n",
       "      <th>1</th>\n",
       "      <td>2</td>\n",
       "      <td>198 1/2</td>\n",
       "      <td>Hillard Ave.</td>\n",
       "      <td>1.0</td>\n",
       "    </tr>\n",
       "    <tr>\n",
       "      <th>2</th>\n",
       "      <td>3</td>\n",
       "      <td>198-200</td>\n",
       "      <td>Hillard Ave.</td>\n",
       "      <td>1.0</td>\n",
       "    </tr>\n",
       "    <tr>\n",
       "      <th>3</th>\n",
       "      <td>4</td>\n",
       "      <td>202-208</td>\n",
       "      <td>Hillard Ave.</td>\n",
       "      <td>2.0</td>\n",
       "    </tr>\n",
       "    <tr>\n",
       "      <th>4</th>\n",
       "      <td>5</td>\n",
       "      <td>90</td>\n",
       "      <td>Asheland Ave.\\nHillard Ave.</td>\n",
       "      <td>3.0</td>\n",
       "    </tr>\n",
       "  </tbody>\n",
       "</table>\n",
       "</div>"
      ],
      "text/plain": [
       "   ID Street number               Street address  parcel_id\n",
       "0   1           198                 Hillard Ave.        1.0\n",
       "1   2       198 1/2                 Hillard Ave.        1.0\n",
       "2   3       198-200                 Hillard Ave.        1.0\n",
       "3   4       202-208                 Hillard Ave.        2.0\n",
       "4   5            90  Asheland Ave.\\nHillard Ave.        3.0"
      ]
     },
     "execution_count": 1333,
     "metadata": {},
     "output_type": "execute_result"
    }
   ],
   "source": [
    "test.head()"
   ]
  },
  {
   "cell_type": "code",
   "execution_count": 1334,
   "metadata": {
    "collapsed": false
   },
   "outputs": [],
   "source": [
    "test.parcel_id = test[\"parcel_id\"].astype(int)"
   ]
  },
  {
   "cell_type": "code",
   "execution_count": 1335,
   "metadata": {
    "collapsed": true
   },
   "outputs": [],
   "source": [
    "test.columns = [\"id\", \"st_num\", \"st_name\", \"parcel_id\"]"
   ]
  },
  {
   "cell_type": "code",
   "execution_count": 1336,
   "metadata": {
    "collapsed": true,
    "scrolled": true
   },
   "outputs": [],
   "source": [
    "test.to_csv('output/addresses.csv', index=False)"
   ]
  },
  {
   "cell_type": "code",
   "execution_count": 1337,
   "metadata": {
    "collapsed": false
   },
   "outputs": [
    {
     "data": {
      "text/html": [
       "<div>\n",
       "<table border=\"1\" class=\"dataframe\">\n",
       "  <thead>\n",
       "    <tr style=\"text-align: right;\">\n",
       "      <th></th>\n",
       "      <th>id</th>\n",
       "      <th>st_num</th>\n",
       "      <th>st_name</th>\n",
       "      <th>parcel_id</th>\n",
       "    </tr>\n",
       "  </thead>\n",
       "  <tbody>\n",
       "    <tr>\n",
       "      <th>0</th>\n",
       "      <td>1</td>\n",
       "      <td>198</td>\n",
       "      <td>Hillard Ave.</td>\n",
       "      <td>1</td>\n",
       "    </tr>\n",
       "    <tr>\n",
       "      <th>1</th>\n",
       "      <td>2</td>\n",
       "      <td>198 1/2</td>\n",
       "      <td>Hillard Ave.</td>\n",
       "      <td>1</td>\n",
       "    </tr>\n",
       "    <tr>\n",
       "      <th>2</th>\n",
       "      <td>3</td>\n",
       "      <td>198-200</td>\n",
       "      <td>Hillard Ave.</td>\n",
       "      <td>1</td>\n",
       "    </tr>\n",
       "    <tr>\n",
       "      <th>3</th>\n",
       "      <td>4</td>\n",
       "      <td>202-208</td>\n",
       "      <td>Hillard Ave.</td>\n",
       "      <td>2</td>\n",
       "    </tr>\n",
       "    <tr>\n",
       "      <th>4</th>\n",
       "      <td>5</td>\n",
       "      <td>90</td>\n",
       "      <td>Asheland Ave.\\nHillard Ave.</td>\n",
       "      <td>3</td>\n",
       "    </tr>\n",
       "  </tbody>\n",
       "</table>\n",
       "</div>"
      ],
      "text/plain": [
       "   id   st_num                      st_name  parcel_id\n",
       "0   1      198                 Hillard Ave.          1\n",
       "1   2  198 1/2                 Hillard Ave.          1\n",
       "2   3  198-200                 Hillard Ave.          1\n",
       "3   4  202-208                 Hillard Ave.          2\n",
       "4   5       90  Asheland Ave.\\nHillard Ave.          3"
      ]
     },
     "execution_count": 1337,
     "metadata": {},
     "output_type": "execute_result"
    }
   ],
   "source": [
    "test.head()"
   ]
  },
  {
   "cell_type": "code",
   "execution_count": 745,
   "metadata": {
    "collapsed": true
   },
   "outputs": [],
   "source": [
    "people=copy[['Previous Transfer of deed People Involved','Decision People Involved','Final Transfer of Deed People Involved','Appraiser Name','Offer Made People Involved']]"
   ]
  },
  {
   "cell_type": "code",
   "execution_count": 746,
   "metadata": {
    "collapsed": false
   },
   "outputs": [
    {
     "data": {
      "text/html": [
       "<div>\n",
       "<table border=\"1\" class=\"dataframe\">\n",
       "  <thead>\n",
       "    <tr style=\"text-align: right;\">\n",
       "      <th></th>\n",
       "      <th>Previous Transfer of deed People Involved</th>\n",
       "      <th>Decision People Involved</th>\n",
       "      <th>Final Transfer of Deed People Involved</th>\n",
       "      <th>Appraiser Name</th>\n",
       "      <th>Offer Made People Involved</th>\n",
       "    </tr>\n",
       "  </thead>\n",
       "  <tbody>\n",
       "    <tr>\n",
       "      <th>0</th>\n",
       "      <td>Bessie S. Kalogerakis\\n\\nAmelia K. Kalogerakis...</td>\n",
       "      <td>\\nAmelia K. Kalogerakis\\nEva K. Cleraderas\\nSt...</td>\n",
       "      <td>Eva K. Cledaras\\nGeorge M. Cledaras\\nSteve Kal...</td>\n",
       "      <td>Clyde G. Idol Jr.\\nAlan Butterworth\\nH.E. Johnson</td>\n",
       "      <td>\\nAmelia K. Kalogerakis\\nEva K. Cleraderas\\nSt...</td>\n",
       "    </tr>\n",
       "    <tr>\n",
       "      <th>1</th>\n",
       "      <td>W.S. Harrison\\nBeulah L. Harrison\\n\\nCharles R...</td>\n",
       "      <td>Charles R. Stinnette Co., Inc.\\n\\nHACA</td>\n",
       "      <td>Charles R. Stinnette Co., Inc.\\n\\nHACA</td>\n",
       "      <td>Clyde G. Idol Jr.\\nAlan Butterworth\\nH.E. Johnson</td>\n",
       "      <td>Charles R. Stinnette Co., Inc.\\n\\nHACA</td>\n",
       "    </tr>\n",
       "    <tr>\n",
       "      <th>2</th>\n",
       "      <td>Charles G. Lee, Sr.\\n\\nCharles G. Lee, Jr.\\nH....</td>\n",
       "      <td>William I. Lee\\nZyphin J. Lee\\nH. Kenneth Lee\\...</td>\n",
       "      <td>Willian I. Lee\\nZyphin J. Lee\\nH. Kenneth Lee\\...</td>\n",
       "      <td>Clyde G. Idol Jr.\\nAlan Butterworth\\nH.E. Johnson</td>\n",
       "      <td>Willian I. Lee\\nZyphin J. Lee\\nH. Kenneth Lee\\...</td>\n",
       "    </tr>\n",
       "    <tr>\n",
       "      <th>3</th>\n",
       "      <td>John E. Smathers\\nEtta C. Smathers\\n\\nThelma S...</td>\n",
       "      <td>Thelma Smathers Johnson\\nElizabeth Pauline Sma...</td>\n",
       "      <td>Thelma Smathers Johnson\\n\\nHACA</td>\n",
       "      <td>Clyde G. Idol Jr.\\nAlan Butterworth\\nH.E. Johnson</td>\n",
       "      <td>Thelma Smathers Johnson\\nElizabeth Pauline Sma...</td>\n",
       "    </tr>\n",
       "    <tr>\n",
       "      <th>4</th>\n",
       "      <td>C.A. Yarbrough\\nSarah M Yarbrough\\n\\nHarry's C...</td>\n",
       "      <td>Harry's Cadillac-Pontiac Company, Inc.\\n\\nHACA\\n</td>\n",
       "      <td>Harry's Cadillac-Pontiac Company, Inc.\\n\\nHACA\\n</td>\n",
       "      <td>Edward Sale\\nR. Moore\\nH.E. Johnson</td>\n",
       "      <td>Harry's Cadillac-Pontiac Company, Inc.\\n\\nHACA\\n</td>\n",
       "    </tr>\n",
       "  </tbody>\n",
       "</table>\n",
       "</div>"
      ],
      "text/plain": [
       "           Previous Transfer of deed People Involved  \\\n",
       "0  Bessie S. Kalogerakis\\n\\nAmelia K. Kalogerakis...   \n",
       "1  W.S. Harrison\\nBeulah L. Harrison\\n\\nCharles R...   \n",
       "2  Charles G. Lee, Sr.\\n\\nCharles G. Lee, Jr.\\nH....   \n",
       "3  John E. Smathers\\nEtta C. Smathers\\n\\nThelma S...   \n",
       "4  C.A. Yarbrough\\nSarah M Yarbrough\\n\\nHarry's C...   \n",
       "\n",
       "                            Decision People Involved  \\\n",
       "0  \\nAmelia K. Kalogerakis\\nEva K. Cleraderas\\nSt...   \n",
       "1             Charles R. Stinnette Co., Inc.\\n\\nHACA   \n",
       "2  William I. Lee\\nZyphin J. Lee\\nH. Kenneth Lee\\...   \n",
       "3  Thelma Smathers Johnson\\nElizabeth Pauline Sma...   \n",
       "4   Harry's Cadillac-Pontiac Company, Inc.\\n\\nHACA\\n   \n",
       "\n",
       "              Final Transfer of Deed People Involved  \\\n",
       "0  Eva K. Cledaras\\nGeorge M. Cledaras\\nSteve Kal...   \n",
       "1             Charles R. Stinnette Co., Inc.\\n\\nHACA   \n",
       "2  Willian I. Lee\\nZyphin J. Lee\\nH. Kenneth Lee\\...   \n",
       "3                    Thelma Smathers Johnson\\n\\nHACA   \n",
       "4   Harry's Cadillac-Pontiac Company, Inc.\\n\\nHACA\\n   \n",
       "\n",
       "                                      Appraiser Name  \\\n",
       "0  Clyde G. Idol Jr.\\nAlan Butterworth\\nH.E. Johnson   \n",
       "1  Clyde G. Idol Jr.\\nAlan Butterworth\\nH.E. Johnson   \n",
       "2  Clyde G. Idol Jr.\\nAlan Butterworth\\nH.E. Johnson   \n",
       "3  Clyde G. Idol Jr.\\nAlan Butterworth\\nH.E. Johnson   \n",
       "4                Edward Sale\\nR. Moore\\nH.E. Johnson   \n",
       "\n",
       "                          Offer Made People Involved  \n",
       "0  \\nAmelia K. Kalogerakis\\nEva K. Cleraderas\\nSt...  \n",
       "1             Charles R. Stinnette Co., Inc.\\n\\nHACA  \n",
       "2  Willian I. Lee\\nZyphin J. Lee\\nH. Kenneth Lee\\...  \n",
       "3  Thelma Smathers Johnson\\nElizabeth Pauline Sma...  \n",
       "4   Harry's Cadillac-Pontiac Company, Inc.\\n\\nHACA\\n  "
      ]
     },
     "execution_count": 746,
     "metadata": {},
     "output_type": "execute_result"
    }
   ],
   "source": [
    "people.head()"
   ]
  },
  {
   "cell_type": "code",
   "execution_count": 544,
   "metadata": {
    "collapsed": false
   },
   "outputs": [],
   "source": [
    "people = people.stack().reset_index()"
   ]
  },
  {
   "cell_type": "code",
   "execution_count": 545,
   "metadata": {
    "collapsed": false
   },
   "outputs": [
    {
     "data": {
      "text/html": [
       "<div>\n",
       "<table border=\"1\" class=\"dataframe\">\n",
       "  <thead>\n",
       "    <tr style=\"text-align: right;\">\n",
       "      <th></th>\n",
       "      <th>level_0</th>\n",
       "      <th>level_1</th>\n",
       "      <th>0</th>\n",
       "    </tr>\n",
       "  </thead>\n",
       "  <tbody>\n",
       "    <tr>\n",
       "      <th>0</th>\n",
       "      <td>0</td>\n",
       "      <td>Previous Transfer of deed People Involved</td>\n",
       "      <td>Bessie S. Kalogerakis\\n\\nAmelia K. Kalogerakis...</td>\n",
       "    </tr>\n",
       "    <tr>\n",
       "      <th>1</th>\n",
       "      <td>0</td>\n",
       "      <td>Decision People Involved</td>\n",
       "      <td>\\nAmelia K. Kalogerakis\\nEva K. Cleraderas\\nSt...</td>\n",
       "    </tr>\n",
       "    <tr>\n",
       "      <th>2</th>\n",
       "      <td>0</td>\n",
       "      <td>Final Transfer of Deed People Involved</td>\n",
       "      <td>Eva K. Cledaras\\nGeorge M. Cledaras\\nSteve Kal...</td>\n",
       "    </tr>\n",
       "    <tr>\n",
       "      <th>3</th>\n",
       "      <td>0</td>\n",
       "      <td>Appraiser Name</td>\n",
       "      <td>Clyde G. Idol Jr.\\nAlan Butterworth\\nH.E. Johnson</td>\n",
       "    </tr>\n",
       "    <tr>\n",
       "      <th>4</th>\n",
       "      <td>0</td>\n",
       "      <td>Offer Made People Involved</td>\n",
       "      <td>\\nAmelia K. Kalogerakis\\nEva K. Cleraderas\\nSt...</td>\n",
       "    </tr>\n",
       "  </tbody>\n",
       "</table>\n",
       "</div>"
      ],
      "text/plain": [
       "   level_0                                    level_1  \\\n",
       "0        0  Previous Transfer of deed People Involved   \n",
       "1        0                   Decision People Involved   \n",
       "2        0     Final Transfer of Deed People Involved   \n",
       "3        0                             Appraiser Name   \n",
       "4        0                 Offer Made People Involved   \n",
       "\n",
       "                                                   0  \n",
       "0  Bessie S. Kalogerakis\\n\\nAmelia K. Kalogerakis...  \n",
       "1  \\nAmelia K. Kalogerakis\\nEva K. Cleraderas\\nSt...  \n",
       "2  Eva K. Cledaras\\nGeorge M. Cledaras\\nSteve Kal...  \n",
       "3  Clyde G. Idol Jr.\\nAlan Butterworth\\nH.E. Johnson  \n",
       "4  \\nAmelia K. Kalogerakis\\nEva K. Cleraderas\\nSt...  "
      ]
     },
     "execution_count": 545,
     "metadata": {},
     "output_type": "execute_result"
    }
   ],
   "source": [
    "people.head()"
   ]
  },
  {
   "cell_type": "code",
   "execution_count": 546,
   "metadata": {
    "collapsed": true
   },
   "outputs": [],
   "source": [
    "people.columns = [\"a\",\"b\",\"names\"]"
   ]
  },
  {
   "cell_type": "code",
   "execution_count": 547,
   "metadata": {
    "collapsed": false
   },
   "outputs": [],
   "source": [
    "people = people.drop(['a', 'b'], axis=1)"
   ]
  },
  {
   "cell_type": "code",
   "execution_count": 548,
   "metadata": {
    "collapsed": true
   },
   "outputs": [],
   "source": [
    "def splitRows(table):\n",
    "    newframe=pd.DataFrame(columns=table.columns.values)\n",
    "    size=0\n",
    "    for i in range(len(table)):\n",
    "        row = table.iloc[i]\n",
    "        print(row)\n",
    "        if '\\n' in str(row['names']):\n",
    "            names = row['names'].split('\\n')\n",
    "            print(names)\n",
    "            for n in names:\n",
    "                print (n)\n",
    "                newrow = row\n",
    "                newrow['names'] = n\n",
    "                newframe.loc[size]=newrow\n",
    "                size+=1\n",
    "                print(newrow)\n",
    "        else:\n",
    "            newframe.loc[size]=row\n",
    "            size+=1\n",
    "        break\n",
    "#     print(\"final:\")\n",
    "#     print (newframe)\n",
    "    return newframe"
   ]
  },
  {
   "cell_type": "code",
   "execution_count": 549,
   "metadata": {
    "collapsed": true
   },
   "outputs": [],
   "source": [
    "def name_cleaner(name):\n",
    "    k = re.sub(r'[0-9][.]', '', name)\n",
    "    k = re.sub(r'[\\(\\)\\-\\&]', '', k)\n",
    "    k = re.sub(r'[0-9]', '', k)\n",
    "    k = re.sub(r'[.,]', ' ', k)\n",
    "    k = re.sub('  ', ' ', k)\n",
    "    k = k.strip()\n",
    "    return k"
   ]
  },
  {
   "cell_type": "code",
   "execution_count": 1177,
   "metadata": {
    "collapsed": true
   },
   "outputs": [],
   "source": [
    "def date_cleaner(date):\n",
    "    k = re.sub(r'[0-9][.]', '', date)\n",
    "    k = k.strip()\n",
    "    return k"
   ]
  },
  {
   "cell_type": "code",
   "execution_count": 550,
   "metadata": {
    "collapsed": true
   },
   "outputs": [],
   "source": [
    "\n",
    "def name_organizer(table):\n",
    "    clean_names=[]\n",
    "    \n",
    "    for index, row in table.iterrows():\n",
    "        names = str(row['names'])\n",
    "        \n",
    "        if '\\n' in names:\n",
    "            arr = names.split('\\n')\n",
    "            arr = [i for i in arr if i is not \"\"]\n",
    "            for n in arr:\n",
    "                k = name_cleaner(n)\n",
    "                if k == '': \n",
    "                    continue\n",
    "                clean_names.append(k)\n",
    "        else:\n",
    "            k = name_cleaner(names)\n",
    "            if k == '': \n",
    "                continue\n",
    "            clean_names.append(k)\n",
    "    return clean_names"
   ]
  },
  {
   "cell_type": "code",
   "execution_count": null,
   "metadata": {
    "collapsed": false
   },
   "outputs": [],
   "source": []
  },
  {
   "cell_type": "code",
   "execution_count": 551,
   "metadata": {
    "collapsed": false
   },
   "outputs": [],
   "source": [
    "people=name_organizer(people)"
   ]
  },
  {
   "cell_type": "code",
   "execution_count": 552,
   "metadata": {
    "collapsed": false
   },
   "outputs": [],
   "source": [
    "newframe=pd.DataFrame(columns=['name'])"
   ]
  },
  {
   "cell_type": "code",
   "execution_count": 554,
   "metadata": {
    "collapsed": true
   },
   "outputs": [],
   "source": [
    "newframe['name'] = pd.Series(people)"
   ]
  },
  {
   "cell_type": "code",
   "execution_count": null,
   "metadata": {
    "collapsed": false
   },
   "outputs": [],
   "source": []
  },
  {
   "cell_type": "code",
   "execution_count": 556,
   "metadata": {
    "collapsed": false
   },
   "outputs": [],
   "source": [
    "newframe = newframe.sort_values(by='name', ascending=True)"
   ]
  },
  {
   "cell_type": "code",
   "execution_count": 557,
   "metadata": {
    "collapsed": false
   },
   "outputs": [],
   "source": [
    "newframe['id'] = range(len(newframe['name']))"
   ]
  },
  {
   "cell_type": "code",
   "execution_count": 559,
   "metadata": {
    "collapsed": false,
    "scrolled": true
   },
   "outputs": [],
   "source": [
    "newframe = newframe.groupby('name').agg(\"count\")"
   ]
  },
  {
   "cell_type": "markdown",
   "metadata": {},
   "source": [
    "## Saving People's Name Count as CSV "
   ]
  },
  {
   "cell_type": "code",
   "execution_count": 563,
   "metadata": {
    "collapsed": false
   },
   "outputs": [],
   "source": [
    "newframe[\"name\"] = newframe.index"
   ]
  },
  {
   "cell_type": "code",
   "execution_count": 565,
   "metadata": {
    "collapsed": false
   },
   "outputs": [],
   "source": [
    "newframe.index = range(0,len(newframe))"
   ]
  },
  {
   "cell_type": "code",
   "execution_count": 567,
   "metadata": {
    "collapsed": false
   },
   "outputs": [],
   "source": [
    "newframe.columns = [\"count\", \"name\"]"
   ]
  },
  {
   "cell_type": "code",
   "execution_count": 569,
   "metadata": {
    "collapsed": false
   },
   "outputs": [],
   "source": [
    "newframe[\"id\"] = newframe.index + 1"
   ]
  },
  {
   "cell_type": "code",
   "execution_count": 570,
   "metadata": {
    "collapsed": false
   },
   "outputs": [
    {
     "data": {
      "text/html": [
       "<div>\n",
       "<table border=\"1\" class=\"dataframe\">\n",
       "  <thead>\n",
       "    <tr style=\"text-align: right;\">\n",
       "      <th></th>\n",
       "      <th>count</th>\n",
       "      <th>name</th>\n",
       "      <th>id</th>\n",
       "    </tr>\n",
       "  </thead>\n",
       "  <tbody>\n",
       "    <tr>\n",
       "      <th>0</th>\n",
       "      <td>2</td>\n",
       "      <td>?</td>\n",
       "      <td>1</td>\n",
       "    </tr>\n",
       "    <tr>\n",
       "      <th>1</th>\n",
       "      <td>2</td>\n",
       "      <td>A C Brandl</td>\n",
       "      <td>2</td>\n",
       "    </tr>\n",
       "    <tr>\n",
       "      <th>2</th>\n",
       "      <td>3</td>\n",
       "      <td>A C Brandl Jr</td>\n",
       "      <td>3</td>\n",
       "    </tr>\n",
       "    <tr>\n",
       "      <th>3</th>\n",
       "      <td>2</td>\n",
       "      <td>A Carrell Jelliff</td>\n",
       "      <td>4</td>\n",
       "    </tr>\n",
       "    <tr>\n",
       "      <th>4</th>\n",
       "      <td>6</td>\n",
       "      <td>A G Carver</td>\n",
       "      <td>5</td>\n",
       "    </tr>\n",
       "  </tbody>\n",
       "</table>\n",
       "</div>"
      ],
      "text/plain": [
       "   count               name  id\n",
       "0      2                  ?   1\n",
       "1      2         A C Brandl   2\n",
       "2      3      A C Brandl Jr   3\n",
       "3      2  A Carrell Jelliff   4\n",
       "4      6         A G Carver   5"
      ]
     },
     "execution_count": 570,
     "metadata": {},
     "output_type": "execute_result"
    }
   ],
   "source": [
    "newframe.head()"
   ]
  },
  {
   "cell_type": "code",
   "execution_count": 571,
   "metadata": {
    "collapsed": false
   },
   "outputs": [],
   "source": [
    "newframe.to_csv('output/people_count.csv')"
   ]
  },
  {
   "cell_type": "markdown",
   "metadata": {
    "collapsed": true
   },
   "source": [
    "## Event Association Table"
   ]
  },
  {
   "cell_type": "code",
   "execution_count": 747,
   "metadata": {
    "collapsed": true
   },
   "outputs": [],
   "source": [
    "event_assoc=copy[['Decision People Involved','Decision Role']]"
   ]
  },
  {
   "cell_type": "code",
   "execution_count": 748,
   "metadata": {
    "collapsed": false
   },
   "outputs": [
    {
     "data": {
      "text/html": [
       "<div>\n",
       "<table border=\"1\" class=\"dataframe\">\n",
       "  <thead>\n",
       "    <tr style=\"text-align: right;\">\n",
       "      <th></th>\n",
       "      <th>Decision People Involved</th>\n",
       "      <th>Decision Role</th>\n",
       "    </tr>\n",
       "  </thead>\n",
       "  <tbody>\n",
       "    <tr>\n",
       "      <th>0</th>\n",
       "      <td>\\nAmelia K. Kalogerakis\\nEva K. Cleraderas\\nSt...</td>\n",
       "      <td>Owner\\n\\n\\nPurchaser</td>\n",
       "    </tr>\n",
       "    <tr>\n",
       "      <th>1</th>\n",
       "      <td>Charles R. Stinnette Co., Inc.\\n\\nHACA</td>\n",
       "      <td>Owner\\n\\nPurchaser</td>\n",
       "    </tr>\n",
       "    <tr>\n",
       "      <th>2</th>\n",
       "      <td>William I. Lee\\nZyphin J. Lee\\nH. Kenneth Lee\\...</td>\n",
       "      <td>Owner\\n\\n\\n\\nPurchaser</td>\n",
       "    </tr>\n",
       "    <tr>\n",
       "      <th>3</th>\n",
       "      <td>Thelma Smathers Johnson\\nElizabeth Pauline Sma...</td>\n",
       "      <td>Owner\\n\\n\\nPurchaser</td>\n",
       "    </tr>\n",
       "    <tr>\n",
       "      <th>4</th>\n",
       "      <td>Harry's Cadillac-Pontiac Company, Inc.\\n\\nHACA\\n</td>\n",
       "      <td>Owner\\n\\nPurchaser</td>\n",
       "    </tr>\n",
       "  </tbody>\n",
       "</table>\n",
       "</div>"
      ],
      "text/plain": [
       "                            Decision People Involved           Decision Role\n",
       "0  \\nAmelia K. Kalogerakis\\nEva K. Cleraderas\\nSt...    Owner\\n\\n\\nPurchaser\n",
       "1             Charles R. Stinnette Co., Inc.\\n\\nHACA      Owner\\n\\nPurchaser\n",
       "2  William I. Lee\\nZyphin J. Lee\\nH. Kenneth Lee\\...  Owner\\n\\n\\n\\nPurchaser\n",
       "3  Thelma Smathers Johnson\\nElizabeth Pauline Sma...    Owner\\n\\n\\nPurchaser\n",
       "4   Harry's Cadillac-Pontiac Company, Inc.\\n\\nHACA\\n      Owner\\n\\nPurchaser"
      ]
     },
     "execution_count": 748,
     "metadata": {},
     "output_type": "execute_result"
    }
   ],
   "source": [
    "event_assoc.head()"
   ]
  },
  {
   "cell_type": "code",
   "execution_count": 749,
   "metadata": {
    "collapsed": true
   },
   "outputs": [],
   "source": [
    "def splitRowEvents(table):\n",
    "    newframe=pd.DataFrame(columns=table.columns.values)\n",
    "    size=0\n",
    "    for i in range(len(table)):\n",
    "        row = table.iloc[i]\n",
    "        if '\\n' in str(row['Decision People Involved']):\n",
    "            data = row['Decision People Involved'].split('\\n')\n",
    "            roles= str(row['Decision Role']).split('\\n')\n",
    "            norm='Owner'\n",
    "            norm_prev='Owner'\n",
    "            norm2='Purchaser'\n",
    "            if('Heir' in roles):\n",
    "                norm='Heir'\n",
    "                norm_prev='Heir'\n",
    "            for d in range(len(data)):\n",
    "                newrow = row\n",
    "                newrow['Decision People Involved'] = data[d]\n",
    "                if data[d]!='':\n",
    "                    newrow['Decision Role']=norm_prev\n",
    "                if data[d]=='':\n",
    "                    if norm_prev==norm:\n",
    "                        norm_prev=norm2\n",
    "                    else:\n",
    "                        norm_prev=norm\n",
    "                        \n",
    "        \n",
    "                newframe.loc[size]=newrow\n",
    "                size+=1\n",
    "        else:\n",
    "            newframe.loc[size]=row\n",
    "            size+=1\n",
    "    return newframe"
   ]
  },
  {
   "cell_type": "code",
   "execution_count": 750,
   "metadata": {
    "collapsed": true
   },
   "outputs": [],
   "source": [
    "t=splitRowEvents(event_assoc)"
   ]
  },
  {
   "cell_type": "code",
   "execution_count": 751,
   "metadata": {
    "collapsed": false
   },
   "outputs": [
    {
     "data": {
      "text/html": [
       "<div>\n",
       "<table border=\"1\" class=\"dataframe\">\n",
       "  <thead>\n",
       "    <tr style=\"text-align: right;\">\n",
       "      <th></th>\n",
       "      <th>Decision People Involved</th>\n",
       "      <th>Decision Role</th>\n",
       "    </tr>\n",
       "  </thead>\n",
       "  <tbody>\n",
       "    <tr>\n",
       "      <th>0</th>\n",
       "      <td></td>\n",
       "      <td>Owner\\n\\n\\nPurchaser</td>\n",
       "    </tr>\n",
       "    <tr>\n",
       "      <th>1</th>\n",
       "      <td>Amelia K. Kalogerakis</td>\n",
       "      <td>Purchaser</td>\n",
       "    </tr>\n",
       "    <tr>\n",
       "      <th>2</th>\n",
       "      <td>Eva K. Cleraderas</td>\n",
       "      <td>Purchaser</td>\n",
       "    </tr>\n",
       "    <tr>\n",
       "      <th>3</th>\n",
       "      <td>Steve Kalogerakis</td>\n",
       "      <td>Purchaser</td>\n",
       "    </tr>\n",
       "    <tr>\n",
       "      <th>4</th>\n",
       "      <td></td>\n",
       "      <td>Purchaser</td>\n",
       "    </tr>\n",
       "  </tbody>\n",
       "</table>\n",
       "</div>"
      ],
      "text/plain": [
       "  Decision People Involved         Decision Role\n",
       "0                           Owner\\n\\n\\nPurchaser\n",
       "1    Amelia K. Kalogerakis             Purchaser\n",
       "2        Eva K. Cleraderas             Purchaser\n",
       "3        Steve Kalogerakis             Purchaser\n",
       "4                                      Purchaser"
      ]
     },
     "execution_count": 751,
     "metadata": {},
     "output_type": "execute_result"
    }
   ],
   "source": [
    "t.head()"
   ]
  },
  {
   "cell_type": "code",
   "execution_count": 752,
   "metadata": {
    "collapsed": false
   },
   "outputs": [],
   "source": [
    "t['Decision People Involved'].replace('', np.nan, inplace=True)"
   ]
  },
  {
   "cell_type": "code",
   "execution_count": 753,
   "metadata": {
    "collapsed": false
   },
   "outputs": [
    {
     "data": {
      "text/html": [
       "<div>\n",
       "<table border=\"1\" class=\"dataframe\">\n",
       "  <thead>\n",
       "    <tr style=\"text-align: right;\">\n",
       "      <th></th>\n",
       "      <th>Decision People Involved</th>\n",
       "      <th>Decision Role</th>\n",
       "    </tr>\n",
       "  </thead>\n",
       "  <tbody>\n",
       "    <tr>\n",
       "      <th>0</th>\n",
       "      <td>NaN</td>\n",
       "      <td>Owner\\n\\n\\nPurchaser</td>\n",
       "    </tr>\n",
       "    <tr>\n",
       "      <th>1</th>\n",
       "      <td>Amelia K. Kalogerakis</td>\n",
       "      <td>Purchaser</td>\n",
       "    </tr>\n",
       "    <tr>\n",
       "      <th>2</th>\n",
       "      <td>Eva K. Cleraderas</td>\n",
       "      <td>Purchaser</td>\n",
       "    </tr>\n",
       "    <tr>\n",
       "      <th>3</th>\n",
       "      <td>Steve Kalogerakis</td>\n",
       "      <td>Purchaser</td>\n",
       "    </tr>\n",
       "    <tr>\n",
       "      <th>4</th>\n",
       "      <td>NaN</td>\n",
       "      <td>Purchaser</td>\n",
       "    </tr>\n",
       "  </tbody>\n",
       "</table>\n",
       "</div>"
      ],
      "text/plain": [
       "  Decision People Involved         Decision Role\n",
       "0                      NaN  Owner\\n\\n\\nPurchaser\n",
       "1    Amelia K. Kalogerakis             Purchaser\n",
       "2        Eva K. Cleraderas             Purchaser\n",
       "3        Steve Kalogerakis             Purchaser\n",
       "4                      NaN             Purchaser"
      ]
     },
     "execution_count": 753,
     "metadata": {},
     "output_type": "execute_result"
    }
   ],
   "source": [
    "t.head()"
   ]
  },
  {
   "cell_type": "code",
   "execution_count": 754,
   "metadata": {
    "collapsed": true
   },
   "outputs": [],
   "source": [
    "t.dropna(inplace=True)"
   ]
  },
  {
   "cell_type": "code",
   "execution_count": 755,
   "metadata": {
    "collapsed": false
   },
   "outputs": [],
   "source": [
    "t.columns = [\"people\",\"role\"]"
   ]
  },
  {
   "cell_type": "code",
   "execution_count": 756,
   "metadata": {
    "collapsed": true
   },
   "outputs": [],
   "source": [
    "# t.people=t.people.apply(lambda x: x.lower())"
   ]
  },
  {
   "cell_type": "code",
   "execution_count": 757,
   "metadata": {
    "collapsed": false
   },
   "outputs": [],
   "source": [
    "for index, row in t.iterrows():\n",
    "    name = name_cleaner(str(row[\"people\"]))\n",
    "    t.loc[t.index == index,\"people\"] = name"
   ]
  },
  {
   "cell_type": "code",
   "execution_count": 758,
   "metadata": {
    "collapsed": false
   },
   "outputs": [
    {
     "data": {
      "text/html": [
       "<div>\n",
       "<table border=\"1\" class=\"dataframe\">\n",
       "  <thead>\n",
       "    <tr style=\"text-align: right;\">\n",
       "      <th></th>\n",
       "      <th>people</th>\n",
       "      <th>role</th>\n",
       "    </tr>\n",
       "  </thead>\n",
       "  <tbody>\n",
       "    <tr>\n",
       "      <th>1</th>\n",
       "      <td>Amelia K Kalogerakis</td>\n",
       "      <td>Purchaser</td>\n",
       "    </tr>\n",
       "    <tr>\n",
       "      <th>2</th>\n",
       "      <td>Eva K Cleraderas</td>\n",
       "      <td>Purchaser</td>\n",
       "    </tr>\n",
       "    <tr>\n",
       "      <th>3</th>\n",
       "      <td>Steve Kalogerakis</td>\n",
       "      <td>Purchaser</td>\n",
       "    </tr>\n",
       "    <tr>\n",
       "      <th>5</th>\n",
       "      <td>HACA</td>\n",
       "      <td>Owner</td>\n",
       "    </tr>\n",
       "    <tr>\n",
       "      <th>6</th>\n",
       "      <td>Charles R Stinnette Co  Inc</td>\n",
       "      <td>Owner</td>\n",
       "    </tr>\n",
       "    <tr>\n",
       "      <th>8</th>\n",
       "      <td>HACA</td>\n",
       "      <td>Purchaser</td>\n",
       "    </tr>\n",
       "    <tr>\n",
       "      <th>9</th>\n",
       "      <td>William I Lee</td>\n",
       "      <td>Owner</td>\n",
       "    </tr>\n",
       "    <tr>\n",
       "      <th>10</th>\n",
       "      <td>Zyphin J Lee</td>\n",
       "      <td>Owner</td>\n",
       "    </tr>\n",
       "    <tr>\n",
       "      <th>11</th>\n",
       "      <td>H Kenneth Lee</td>\n",
       "      <td>Owner</td>\n",
       "    </tr>\n",
       "    <tr>\n",
       "      <th>12</th>\n",
       "      <td>Frances W Lee</td>\n",
       "      <td>Owner</td>\n",
       "    </tr>\n",
       "  </tbody>\n",
       "</table>\n",
       "</div>"
      ],
      "text/plain": [
       "                         people       role\n",
       "1          Amelia K Kalogerakis  Purchaser\n",
       "2              Eva K Cleraderas  Purchaser\n",
       "3             Steve Kalogerakis  Purchaser\n",
       "5                          HACA      Owner\n",
       "6   Charles R Stinnette Co  Inc      Owner\n",
       "8                          HACA  Purchaser\n",
       "9                 William I Lee      Owner\n",
       "10                 Zyphin J Lee      Owner\n",
       "11                H Kenneth Lee      Owner\n",
       "12                Frances W Lee      Owner"
      ]
     },
     "execution_count": 758,
     "metadata": {},
     "output_type": "execute_result"
    }
   ],
   "source": [
    "t.head(10)"
   ]
  },
  {
   "cell_type": "code",
   "execution_count": 759,
   "metadata": {
    "collapsed": false
   },
   "outputs": [],
   "source": [
    "t = t.merge(newframe,how='left', left_on='people',right_on='name')"
   ]
  },
  {
   "cell_type": "code",
   "execution_count": 760,
   "metadata": {
    "collapsed": true
   },
   "outputs": [],
   "source": [
    "t.dropna(inplace=True)"
   ]
  },
  {
   "cell_type": "code",
   "execution_count": null,
   "metadata": {
    "collapsed": false
   },
   "outputs": [],
   "source": []
  },
  {
   "cell_type": "code",
   "execution_count": null,
   "metadata": {
    "collapsed": true
   },
   "outputs": [],
   "source": []
  },
  {
   "cell_type": "code",
   "execution_count": null,
   "metadata": {
    "collapsed": true
   },
   "outputs": [],
   "source": []
  },
  {
   "cell_type": "code",
   "execution_count": null,
   "metadata": {
    "collapsed": false
   },
   "outputs": [],
   "source": []
  },
  {
   "cell_type": "code",
   "execution_count": null,
   "metadata": {
    "collapsed": false
   },
   "outputs": [],
   "source": []
  },
  {
   "cell_type": "code",
   "execution_count": 761,
   "metadata": {
    "collapsed": true
   },
   "outputs": [],
   "source": [
    "types=['Previous Transfer of Deed','Final Transfer of Deed','Appraisal','Offer Made', 'Decision', 'Award','Tenant','End of Case']"
   ]
  },
  {
   "cell_type": "code",
   "execution_count": 762,
   "metadata": {
    "collapsed": true
   },
   "outputs": [],
   "source": [
    "event_types=pd.DataFrame({'Type':types})"
   ]
  },
  {
   "cell_type": "code",
   "execution_count": 766,
   "metadata": {
    "collapsed": false
   },
   "outputs": [
    {
     "data": {
      "text/html": [
       "<div>\n",
       "<table border=\"1\" class=\"dataframe\">\n",
       "  <thead>\n",
       "    <tr style=\"text-align: right;\">\n",
       "      <th></th>\n",
       "      <th>ID</th>\n",
       "      <th>Type</th>\n",
       "    </tr>\n",
       "  </thead>\n",
       "  <tbody>\n",
       "    <tr>\n",
       "      <th>0</th>\n",
       "      <td>1</td>\n",
       "      <td>Previous Transfer of Deed</td>\n",
       "    </tr>\n",
       "    <tr>\n",
       "      <th>1</th>\n",
       "      <td>2</td>\n",
       "      <td>Final Transfer of Deed</td>\n",
       "    </tr>\n",
       "    <tr>\n",
       "      <th>2</th>\n",
       "      <td>3</td>\n",
       "      <td>Appraisal</td>\n",
       "    </tr>\n",
       "    <tr>\n",
       "      <th>3</th>\n",
       "      <td>4</td>\n",
       "      <td>Offer Made</td>\n",
       "    </tr>\n",
       "    <tr>\n",
       "      <th>4</th>\n",
       "      <td>5</td>\n",
       "      <td>Decision</td>\n",
       "    </tr>\n",
       "    <tr>\n",
       "      <th>5</th>\n",
       "      <td>6</td>\n",
       "      <td>Award</td>\n",
       "    </tr>\n",
       "    <tr>\n",
       "      <th>6</th>\n",
       "      <td>7</td>\n",
       "      <td>Tenant</td>\n",
       "    </tr>\n",
       "    <tr>\n",
       "      <th>7</th>\n",
       "      <td>8</td>\n",
       "      <td>End of Case</td>\n",
       "    </tr>\n",
       "  </tbody>\n",
       "</table>\n",
       "</div>"
      ],
      "text/plain": [
       "   ID                       Type\n",
       "0   1  Previous Transfer of Deed\n",
       "1   2     Final Transfer of Deed\n",
       "2   3                  Appraisal\n",
       "3   4                 Offer Made\n",
       "4   5                   Decision\n",
       "5   6                      Award\n",
       "6   7                     Tenant\n",
       "7   8                End of Case"
      ]
     },
     "execution_count": 766,
     "metadata": {},
     "output_type": "execute_result"
    }
   ],
   "source": [
    "event_types"
   ]
  },
  {
   "cell_type": "code",
   "execution_count": 764,
   "metadata": {
    "collapsed": true
   },
   "outputs": [],
   "source": [
    "event_types.insert(0, 'ID', range(1,1+len(event_types)))"
   ]
  },
  {
   "cell_type": "code",
   "execution_count": 765,
   "metadata": {
    "collapsed": true
   },
   "outputs": [],
   "source": [
    "event_types.to_csv('output/event_types.csv')"
   ]
  },
  {
   "cell_type": "code",
   "execution_count": null,
   "metadata": {
    "collapsed": false
   },
   "outputs": [],
   "source": []
  },
  {
   "cell_type": "code",
   "execution_count": 1178,
   "metadata": {
    "collapsed": true
   },
   "outputs": [],
   "source": [
    "previous_events=copy[['Block #', 'Parcel #','Previous Transfer of deed Event Date','Previous Transfer of deed People Involved','Previous Transfer of deed Role']]"
   ]
  },
  {
   "cell_type": "code",
   "execution_count": 1179,
   "metadata": {
    "collapsed": false
   },
   "outputs": [],
   "source": [
    "aa = str(previous_events.iloc[[44]][\"Previous Transfer of deed Event Date\"])"
   ]
  },
  {
   "cell_type": "code",
   "execution_count": null,
   "metadata": {
    "collapsed": false
   },
   "outputs": [],
   "source": []
  },
  {
   "cell_type": "code",
   "execution_count": null,
   "metadata": {
    "collapsed": false
   },
   "outputs": [],
   "source": []
  },
  {
   "cell_type": "code",
   "execution_count": 1180,
   "metadata": {
    "collapsed": false
   },
   "outputs": [],
   "source": [
    "def splitRowPreviousEvents(table):\n",
    "    newframe=pd.DataFrame(columns=table.columns.values)\n",
    "    size=0\n",
    "    ##Goes through length of table\n",
    "    for i in range(len(table)):\n",
    "        ##Saves current row\n",
    "        row = table.iloc[i]\n",
    "        \n",
    "        parcel=row['Parcel #']\n",
    "        block=row['Block #']\n",
    "        \n",
    "        ##Checks if there are any new line characters in the current row\n",
    "        if '\\n' in str(row['Previous Transfer of deed People Involved']):\n",
    "            \n",
    "            # when the row is separated by ---        \n",
    "            if '---' in str(row['Previous Transfer of deed People Involved']):\n",
    "\n",
    "                people = str(row['Previous Transfer of deed People Involved'])\n",
    "                roles = str(row['Previous Transfer of deed Role'])\n",
    "                agree_dates = str(row['Previous Transfer of deed Event Date'])\n",
    "                \n",
    "                people = re.sub(r'[\\-]+', 'separator', people) \n",
    "                roles = re.sub(r'[\\-]+', 'separator', roles) \n",
    "                agree_dates = re.sub(r'[\\-]+', 'separator', agree_dates) \n",
    "                \n",
    "                people = people.split(\"separator\")\n",
    "                roles = roles.split(\"separator\")\n",
    "                agree_dates = agree_dates.split(\"separator\")\n",
    "                \n",
    "                prev_role = \"\"\n",
    "                prev_date = \"\"\n",
    "                \n",
    "                for d in range(len(people)):\n",
    "                    people2 = people[d].split('\\n')\n",
    "                    \n",
    "                    try:                        \n",
    "                        roles2 = re.sub(r'[\\n]+', '\\n', roles[d])                        \n",
    "                        roles2 = roles2.strip().split('\\n')\n",
    "                        prev_role = roles2\n",
    "                    except:\n",
    "                        roles2 = prev_role\n",
    "                        \n",
    "                    try:                        \n",
    "                        agree_dates2 = re.sub(r'[\\n]+', '\\n', agree_dates[d])                        \n",
    "                        agree_dates2 = agree_dates2.strip().split('\\n')\n",
    "                        prev_date = agree_dates2\n",
    "                    except:\n",
    "                        agree_dates2 = prev_date                        \n",
    "                    \n",
    "                    \n",
    "                    \n",
    "                    role_counter = 0\n",
    "                    date_counter = 0\n",
    "                    \n",
    "                    for k in range(len(people2)):\n",
    "                        if people2[k] == '':\n",
    "                            role_counter += 1\n",
    "                            date_counter += 1\n",
    "\n",
    "                        newrow2 = row                \n",
    "                        newrow2['Previous Transfer of deed People Involved'] = name_cleaner(people2[k])\n",
    "                            \n",
    "                        try:\n",
    "                            newrow2['Previous Transfer of deed Role']= roles2[role_counter]\n",
    "                        except:\n",
    "                            role_counter -= 1\n",
    "                            newrow2['Previous Transfer of deed Role']= roles2[role_counter]\n",
    "\n",
    "                        try:\n",
    "                            newrow2['Previous Transfer of deed Event Date'] = date_cleaner(agree_dates2[date_counter])\n",
    "                        except:\n",
    "                            date_counter -= 1\n",
    "                            newrow2['Previous Transfer of deed Event Date'] = date_cleaner(agree_dates2[date_counter])\n",
    "\n",
    "                           \n",
    "                        newrow2['Parcel #']=parcel\n",
    "                        newrow2['Block #']=block                        \n",
    "\n",
    "                        newframe.loc[size]=newrow2\n",
    "                        size+=1\n",
    "                \n",
    "            # when the row is NOT separated by ---            \n",
    "            else:\n",
    "                roles = re.sub(r'[\\n]+', '\\n', str(row['Previous Transfer of deed Role'])) \n",
    "                agree_dates = re.sub(r'[\\n]+', '\\n', str(row['Previous Transfer of deed Event Date'])) \n",
    "                \n",
    "                people = row['Previous Transfer of deed People Involved'].split('\\n')\n",
    "                roles = roles.strip().split('\\n')\n",
    "                agree_dates = agree_dates.strip().split('\\n')\n",
    "                role_counter = 0\n",
    "                date_counter = 0\n",
    "\n",
    "                for d in range(len(people)):\n",
    "                    if people[d] == '':\n",
    "                        role_counter += 1\n",
    "                        date_counter += 1\n",
    "\n",
    "                    newrow = row                \n",
    "                    newrow['Previous Transfer of deed People Involved'] = name_cleaner(people[d])\n",
    "                    try:\n",
    "                        newrow['Previous Transfer of deed Role']= roles[role_counter]\n",
    "                    except:\n",
    "                        role_counter -= 1\n",
    "                        newrow['Previous Transfer of deed Role']= roles[role_counter]\n",
    "                        \n",
    "                    try:\n",
    "                        newrow['Previous Transfer of deed Event Date'] = date_cleaner(agree_dates[date_counter])\n",
    "                    except:\n",
    "                        date_counter -= 1\n",
    "                        newrow['Previous Transfer of deed Event Date'] = date_cleaner(agree_dates[date_counter])\n",
    "                        \n",
    "                    newrow['Parcel #']=parcel\n",
    "                    newrow['Block #']=block                        \n",
    "\n",
    "                    newframe.loc[size]=newrow\n",
    "                    size+=1\n",
    "        else:\n",
    "            if str(row[\"Previous Transfer of deed People Involved\"]) == \"-\" or str(row[\"Previous Transfer of deed People Involved\"]) == \"\":\n",
    "                newframe.loc[size]=row\n",
    "            else:\n",
    "                newframe.loc[size]=row\n",
    "                name = name_cleaner(str(row[\"Previous Transfer of deed People Involved\"]))\n",
    "                newframe.loc[newframe.index == size,\"Previous Transfer of deed People Involved\"] = name\n",
    "                date = date_cleaner(str(row[\"Previous Transfer of deed Event Date\"]))\n",
    "                newframe.loc[newframe.index == size,\"Previous Transfer of deed Event Date\"] = date\n",
    "                \n",
    "                \n",
    "            size+=1\n",
    "    return newframe\n"
   ]
  },
  {
   "cell_type": "code",
   "execution_count": 1181,
   "metadata": {
    "collapsed": false,
    "scrolled": true
   },
   "outputs": [],
   "source": [
    "prev_events=splitRowPreviousEvents(previous_events)"
   ]
  },
  {
   "cell_type": "code",
   "execution_count": 1182,
   "metadata": {
    "collapsed": true
   },
   "outputs": [],
   "source": [
    "prev_events['Previous Transfer of deed People Involved'].replace('', np.nan, inplace=True)\n"
   ]
  },
  {
   "cell_type": "code",
   "execution_count": 1183,
   "metadata": {
    "collapsed": true
   },
   "outputs": [],
   "source": [
    "prev_events=prev_events.dropna() "
   ]
  },
  {
   "cell_type": "markdown",
   "metadata": {},
   "source": [
    "## Event Type 1: Previous Transper of Deed"
   ]
  },
  {
   "cell_type": "code",
   "execution_count": 1184,
   "metadata": {
    "collapsed": true
   },
   "outputs": [],
   "source": [
    "prev_events.insert(0, 'Event_Type', 1)"
   ]
  },
  {
   "cell_type": "code",
   "execution_count": 1185,
   "metadata": {
    "collapsed": false
   },
   "outputs": [],
   "source": [
    "prev_events.columns = [\"event_types\", \"block_num\", \"parcel_num\", \"event_date\", \"person\", \"person_role\"]"
   ]
  },
  {
   "cell_type": "code",
   "execution_count": 1186,
   "metadata": {
    "collapsed": false
   },
   "outputs": [
    {
     "data": {
      "text/html": [
       "<div>\n",
       "<table border=\"1\" class=\"dataframe\">\n",
       "  <thead>\n",
       "    <tr style=\"text-align: right;\">\n",
       "      <th></th>\n",
       "      <th>event_types</th>\n",
       "      <th>block_num</th>\n",
       "      <th>parcel_num</th>\n",
       "      <th>event_date</th>\n",
       "      <th>person</th>\n",
       "      <th>person_role</th>\n",
       "    </tr>\n",
       "  </thead>\n",
       "  <tbody>\n",
       "    <tr>\n",
       "      <th>0</th>\n",
       "      <td>1</td>\n",
       "      <td>1</td>\n",
       "      <td>2</td>\n",
       "      <td>-</td>\n",
       "      <td>Bessie S Kalogerakis</td>\n",
       "      <td>Owner</td>\n",
       "    </tr>\n",
       "    <tr>\n",
       "      <th>2</th>\n",
       "      <td>1</td>\n",
       "      <td>1</td>\n",
       "      <td>2</td>\n",
       "      <td>-</td>\n",
       "      <td>Amelia K Kalogerakis</td>\n",
       "      <td>Heir</td>\n",
       "    </tr>\n",
       "    <tr>\n",
       "      <th>3</th>\n",
       "      <td>1</td>\n",
       "      <td>1</td>\n",
       "      <td>2</td>\n",
       "      <td>-</td>\n",
       "      <td>Eva K Cleraderas</td>\n",
       "      <td>Heir</td>\n",
       "    </tr>\n",
       "    <tr>\n",
       "      <th>4</th>\n",
       "      <td>1</td>\n",
       "      <td>1</td>\n",
       "      <td>2</td>\n",
       "      <td>-</td>\n",
       "      <td>Steve Kalogerakis</td>\n",
       "      <td>Heir</td>\n",
       "    </tr>\n",
       "    <tr>\n",
       "      <th>5</th>\n",
       "      <td>1</td>\n",
       "      <td>1</td>\n",
       "      <td>3</td>\n",
       "      <td>8/1/67</td>\n",
       "      <td>W S Harrison</td>\n",
       "      <td>Owner</td>\n",
       "    </tr>\n",
       "  </tbody>\n",
       "</table>\n",
       "</div>"
      ],
      "text/plain": [
       "   event_types block_num parcel_num event_date                person  \\\n",
       "0            1         1          2          -  Bessie S Kalogerakis   \n",
       "2            1         1          2          -  Amelia K Kalogerakis   \n",
       "3            1         1          2          -      Eva K Cleraderas   \n",
       "4            1         1          2          -     Steve Kalogerakis   \n",
       "5            1         1          3     8/1/67          W S Harrison   \n",
       "\n",
       "  person_role  \n",
       "0       Owner  \n",
       "2        Heir  \n",
       "3        Heir  \n",
       "4        Heir  \n",
       "5       Owner  "
      ]
     },
     "execution_count": 1186,
     "metadata": {},
     "output_type": "execute_result"
    }
   ],
   "source": [
    "prev_events.head()"
   ]
  },
  {
   "cell_type": "code",
   "execution_count": 1187,
   "metadata": {
    "collapsed": true
   },
   "outputs": [],
   "source": [
    "prev_events.to_csv(\"output/prev_events.csv\")"
   ]
  },
  {
   "cell_type": "markdown",
   "metadata": {},
   "source": [
    "## Event Type 2: Final Transfer of Deed"
   ]
  },
  {
   "cell_type": "code",
   "execution_count": 1197,
   "metadata": {
    "collapsed": true
   },
   "outputs": [],
   "source": [
    "final_events=copy[['Block #', 'Parcel #','Final Transfer of Deed Event Date','Final Transfer of Deed Amount Money','Final Transfer of Deed People Involved',\n",
    "                   'Final Transfer of Deed Role']]"
   ]
  },
  {
   "cell_type": "code",
   "execution_count": 1198,
   "metadata": {
    "collapsed": false
   },
   "outputs": [
    {
     "data": {
      "text/html": [
       "<div>\n",
       "<table border=\"1\" class=\"dataframe\">\n",
       "  <thead>\n",
       "    <tr style=\"text-align: right;\">\n",
       "      <th></th>\n",
       "      <th>Block #</th>\n",
       "      <th>Parcel #</th>\n",
       "      <th>Final Transfer of Deed Event Date</th>\n",
       "      <th>Final Transfer of Deed Amount Money</th>\n",
       "      <th>Final Transfer of Deed People Involved</th>\n",
       "      <th>Final Transfer of Deed Role</th>\n",
       "    </tr>\n",
       "  </thead>\n",
       "  <tbody>\n",
       "    <tr>\n",
       "      <th>0</th>\n",
       "      <td>1</td>\n",
       "      <td>2</td>\n",
       "      <td>6/6/69</td>\n",
       "      <td>8500</td>\n",
       "      <td>Eva K. Cledaras\\nGeorge M. Cledaras\\nSteve Kal...</td>\n",
       "      <td>Owner\\n\\n\\n\\n\\n\\n\\n\\nPurchaser</td>\n",
       "    </tr>\n",
       "    <tr>\n",
       "      <th>1</th>\n",
       "      <td>1</td>\n",
       "      <td>3</td>\n",
       "      <td>6/17/71</td>\n",
       "      <td>21600</td>\n",
       "      <td>Charles R. Stinnette Co., Inc.\\n\\nHACA</td>\n",
       "      <td>Owner\\n\\nPurchaser</td>\n",
       "    </tr>\n",
       "    <tr>\n",
       "      <th>2</th>\n",
       "      <td>1</td>\n",
       "      <td>4</td>\n",
       "      <td>7/13/72</td>\n",
       "      <td>46000</td>\n",
       "      <td>Willian I. Lee\\nZyphin J. Lee\\nH. Kenneth Lee\\...</td>\n",
       "      <td>Owner\\n\\n\\n\\nPurchaser</td>\n",
       "    </tr>\n",
       "    <tr>\n",
       "      <th>3</th>\n",
       "      <td>1</td>\n",
       "      <td>5</td>\n",
       "      <td>5/29/74</td>\n",
       "      <td>8000</td>\n",
       "      <td>Thelma Smathers Johnson\\n\\nHACA</td>\n",
       "      <td>Owner\\n\\nPurchaser</td>\n",
       "    </tr>\n",
       "    <tr>\n",
       "      <th>4</th>\n",
       "      <td>1</td>\n",
       "      <td>6</td>\n",
       "      <td>10/9/74</td>\n",
       "      <td>40000</td>\n",
       "      <td>Harry's Cadillac-Pontiac Company, Inc.\\n\\nHACA\\n</td>\n",
       "      <td>Owner\\n\\nPurchaser</td>\n",
       "    </tr>\n",
       "  </tbody>\n",
       "</table>\n",
       "</div>"
      ],
      "text/plain": [
       "  Block # Parcel # Final Transfer of Deed Event Date  \\\n",
       "0       1        2                            6/6/69   \n",
       "1       1        3                           6/17/71   \n",
       "2       1        4                           7/13/72   \n",
       "3       1        5                           5/29/74   \n",
       "4       1        6                           10/9/74   \n",
       "\n",
       "  Final Transfer of Deed Amount Money  \\\n",
       "0                                8500   \n",
       "1                               21600   \n",
       "2                               46000   \n",
       "3                                8000   \n",
       "4                               40000   \n",
       "\n",
       "              Final Transfer of Deed People Involved  \\\n",
       "0  Eva K. Cledaras\\nGeorge M. Cledaras\\nSteve Kal...   \n",
       "1             Charles R. Stinnette Co., Inc.\\n\\nHACA   \n",
       "2  Willian I. Lee\\nZyphin J. Lee\\nH. Kenneth Lee\\...   \n",
       "3                    Thelma Smathers Johnson\\n\\nHACA   \n",
       "4   Harry's Cadillac-Pontiac Company, Inc.\\n\\nHACA\\n   \n",
       "\n",
       "      Final Transfer of Deed Role  \n",
       "0  Owner\\n\\n\\n\\n\\n\\n\\n\\nPurchaser  \n",
       "1              Owner\\n\\nPurchaser  \n",
       "2          Owner\\n\\n\\n\\nPurchaser  \n",
       "3              Owner\\n\\nPurchaser  \n",
       "4              Owner\\n\\nPurchaser  "
      ]
     },
     "execution_count": 1198,
     "metadata": {},
     "output_type": "execute_result"
    }
   ],
   "source": [
    "final_events.head()"
   ]
  },
  {
   "cell_type": "code",
   "execution_count": 1199,
   "metadata": {
    "collapsed": true
   },
   "outputs": [],
   "source": [
    "def splitRowFinalEvents(table):\n",
    "    newframe=pd.DataFrame(columns=table.columns.values)\n",
    "    size=0\n",
    "    ##Goes through length of table\n",
    "    for i in range(len(table)):\n",
    "        ##Saves current row\n",
    "        row = table.iloc[i]\n",
    "        \n",
    "        parcel=row['Parcel #']\n",
    "        block=row['Block #']\n",
    "        money=row['Final Transfer of Deed Amount Money']\n",
    "        \n",
    "        ##Checks if there are any new line characters in the current row\n",
    "        if '\\n' in str(row['Final Transfer of Deed People Involved']):\n",
    "            \n",
    "            # when the row is separated by ---        \n",
    "            if '---' in str(row['Final Transfer of Deed People Involved']):\n",
    "\n",
    "                people = str(row['Final Transfer of Deed People Involved'])\n",
    "                roles = str(row['Final Transfer of Deed Role'])\n",
    "                agree_dates = str(row['Final Transfer of Deed Event Date'])\n",
    "                \n",
    "                people = re.sub(r'[\\-]+', 'separator', people) \n",
    "                roles = re.sub(r'[\\-]+', 'separator', roles) \n",
    "                agree_dates = re.sub(r'[\\-]+', 'separator', agree_dates) \n",
    "                \n",
    "                people = people.split(\"separator\")\n",
    "                roles = roles.split(\"separator\")\n",
    "                agree_dates = agree_dates.split(\"separator\")\n",
    "                \n",
    "                prev_role = \"\"\n",
    "                prev_date = \"\"\n",
    "                \n",
    "                for d in range(len(people)):\n",
    "                    people2 = people[d].split('\\n')\n",
    "                    \n",
    "                    try:                        \n",
    "                        roles2 = re.sub(r'[\\n]+', '\\n', roles[d])                        \n",
    "                        roles2 = roles2.strip().split('\\n')\n",
    "                        prev_role = roles2\n",
    "                    except:\n",
    "                        roles2 = prev_role\n",
    "                        \n",
    "                    try:                        \n",
    "                        agree_dates2 = re.sub(r'[\\n]+', '\\n', agree_dates[d])                        \n",
    "                        agree_dates2 = agree_dates2.strip().split('\\n')\n",
    "                        prev_date = agree_dates2\n",
    "                    except:\n",
    "                        agree_dates2 = prev_date                        \n",
    "                    \n",
    "                    \n",
    "                    \n",
    "                    role_counter = 0\n",
    "                    date_counter = 0\n",
    "                    \n",
    "                    for k in range(len(people2)):\n",
    "                        if people2[k] == '':\n",
    "                            role_counter += 1\n",
    "                            date_counter += 1\n",
    "\n",
    "                        newrow2 = row                \n",
    "                        newrow2['Final Transfer of Deed People Involved'] = name_cleaner(people2[k])\n",
    "                            \n",
    "                        try:\n",
    "                            newrow2['Final Transfer of Deed Role']= roles2[role_counter]\n",
    "                        except:\n",
    "                            role_counter -= 1\n",
    "                            newrow2['Final Transfer of Deed Role']= roles2[role_counter]\n",
    "\n",
    "                        try:\n",
    "                            newrow2['Final Transfer of Deed Event Date'] = date_cleaner(agree_dates2[date_counter])\n",
    "                        except:\n",
    "                            date_counter -= 1\n",
    "                            newrow2['Final Transfer of Deed Event Date'] = date_cleaner(agree_dates2[date_counter])\n",
    "\n",
    "                           \n",
    "                        newrow2['Parcel #']=parcel\n",
    "                        newrow2['Block #']=block   \n",
    "                        newrow2['Final Transfer of Deed Amount Money'] = money\n",
    "\n",
    "                        newframe.loc[size]=newrow2\n",
    "                        size+=1\n",
    "                \n",
    "            # when the row is NOT separated by ---            \n",
    "            else:\n",
    "                roles = re.sub(r'[\\n]+', '\\n', str(row['Final Transfer of Deed Role'])) \n",
    "                agree_dates = re.sub(r'[\\n]+', '\\n', str(row['Final Transfer of Deed Event Date'])) \n",
    "                \n",
    "                people = row['Final Transfer of Deed People Involved'].split('\\n')\n",
    "                roles = roles.strip().split('\\n')\n",
    "                agree_dates = agree_dates.strip().split('\\n')\n",
    "                role_counter = 0\n",
    "                date_counter = 0\n",
    "\n",
    "                for d in range(len(people)):\n",
    "                    if people[d] == '':\n",
    "                        role_counter += 1\n",
    "                        date_counter += 1\n",
    "\n",
    "                    newrow = row                \n",
    "                    newrow['Final Transfer of Deed People Involved'] = name_cleaner(people[d])\n",
    "                    try:\n",
    "                        newrow['Final Transfer of Deed Role']= roles[role_counter]\n",
    "                    except:\n",
    "                        role_counter -= 1\n",
    "                        newrow['Final Transfer of Deed Role']= roles[role_counter]\n",
    "                        \n",
    "                    try:\n",
    "                        newrow['Final Transfer of Deed Event Date'] = date_cleaner(agree_dates[date_counter])\n",
    "                    except:\n",
    "                        date_counter -= 1\n",
    "                        newrow['Final Transfer of Deed Event Date'] = date_cleaner(agree_dates[date_counter])\n",
    "                        \n",
    "                    newrow['Parcel #']=parcel\n",
    "                    newrow['Block #']=block     \n",
    "                    newrow['Final Transfer of Deed Amount Money'] = money\n",
    "\n",
    "                    newframe.loc[size]=newrow\n",
    "                    size+=1\n",
    "        else:\n",
    "            if str(row[\"Final Transfer of Deed People Involved\"]) == \"-\" or str(row[\"Final Transfer of Deed People Involved\"]) == \"\":\n",
    "                newframe.loc[size]=row\n",
    "            else:\n",
    "                newframe.loc[size]=row\n",
    "                name = name_cleaner(str(row[\"Final Transfer of Deed People Involved\"]))\n",
    "                newframe.loc[newframe.index == size,\"Final Transfer of Deed People Involved\"] = name\n",
    "                date = date_cleaner(str(row[\"Final Transfer of Deed Event Date\"]))\n",
    "                newframe.loc[newframe.index == size,\"Final Transfer of Deed Event Date\"] = date\n",
    "                \n",
    "                \n",
    "            size+=1\n",
    "    return newframe"
   ]
  },
  {
   "cell_type": "code",
   "execution_count": 1200,
   "metadata": {
    "collapsed": false,
    "scrolled": true
   },
   "outputs": [],
   "source": [
    "final_events=splitRowFinalEvents(final_events)"
   ]
  },
  {
   "cell_type": "code",
   "execution_count": 1201,
   "metadata": {
    "collapsed": true
   },
   "outputs": [],
   "source": [
    "final_events['Final Transfer of Deed People Involved'].replace('', np.nan, inplace=True)\n"
   ]
  },
  {
   "cell_type": "code",
   "execution_count": 1202,
   "metadata": {
    "collapsed": true
   },
   "outputs": [],
   "source": [
    "final_events=final_events.dropna()"
   ]
  },
  {
   "cell_type": "code",
   "execution_count": 1203,
   "metadata": {
    "collapsed": true
   },
   "outputs": [],
   "source": [
    "final_events.insert(0, 'Event_Type', 2)"
   ]
  },
  {
   "cell_type": "code",
   "execution_count": 1204,
   "metadata": {
    "collapsed": false
   },
   "outputs": [],
   "source": [
    "final_events.columns = [\"event_types\", \"block_num\", \"parcel_num\", \"event_date\", \"money\", \"person\", \"person_role\"]"
   ]
  },
  {
   "cell_type": "code",
   "execution_count": 1205,
   "metadata": {
    "collapsed": false
   },
   "outputs": [
    {
     "data": {
      "text/html": [
       "<div>\n",
       "<table border=\"1\" class=\"dataframe\">\n",
       "  <thead>\n",
       "    <tr style=\"text-align: right;\">\n",
       "      <th></th>\n",
       "      <th>event_types</th>\n",
       "      <th>block_num</th>\n",
       "      <th>parcel_num</th>\n",
       "      <th>event_date</th>\n",
       "      <th>money</th>\n",
       "      <th>person</th>\n",
       "      <th>person_role</th>\n",
       "    </tr>\n",
       "  </thead>\n",
       "  <tbody>\n",
       "    <tr>\n",
       "      <th>0</th>\n",
       "      <td>2</td>\n",
       "      <td>1</td>\n",
       "      <td>2</td>\n",
       "      <td>6/6/69</td>\n",
       "      <td>8500</td>\n",
       "      <td>Eva K Cledaras</td>\n",
       "      <td>Owner</td>\n",
       "    </tr>\n",
       "    <tr>\n",
       "      <th>1</th>\n",
       "      <td>2</td>\n",
       "      <td>1</td>\n",
       "      <td>2</td>\n",
       "      <td>6/6/69</td>\n",
       "      <td>8500</td>\n",
       "      <td>George M Cledaras</td>\n",
       "      <td>Owner</td>\n",
       "    </tr>\n",
       "    <tr>\n",
       "      <th>2</th>\n",
       "      <td>2</td>\n",
       "      <td>1</td>\n",
       "      <td>2</td>\n",
       "      <td>6/6/69</td>\n",
       "      <td>8500</td>\n",
       "      <td>Steve Kalogerakis</td>\n",
       "      <td>Owner</td>\n",
       "    </tr>\n",
       "    <tr>\n",
       "      <th>3</th>\n",
       "      <td>2</td>\n",
       "      <td>1</td>\n",
       "      <td>2</td>\n",
       "      <td>6/6/69</td>\n",
       "      <td>8500</td>\n",
       "      <td>Shirley Kalogerakis</td>\n",
       "      <td>Owner</td>\n",
       "    </tr>\n",
       "    <tr>\n",
       "      <th>4</th>\n",
       "      <td>2</td>\n",
       "      <td>1</td>\n",
       "      <td>2</td>\n",
       "      <td>6/6/69</td>\n",
       "      <td>8500</td>\n",
       "      <td>Amelia K Candler</td>\n",
       "      <td>Owner</td>\n",
       "    </tr>\n",
       "  </tbody>\n",
       "</table>\n",
       "</div>"
      ],
      "text/plain": [
       "   event_types block_num parcel_num event_date money               person  \\\n",
       "0            2         1          2     6/6/69  8500       Eva K Cledaras   \n",
       "1            2         1          2     6/6/69  8500    George M Cledaras   \n",
       "2            2         1          2     6/6/69  8500    Steve Kalogerakis   \n",
       "3            2         1          2     6/6/69  8500  Shirley Kalogerakis   \n",
       "4            2         1          2     6/6/69  8500     Amelia K Candler   \n",
       "\n",
       "  person_role  \n",
       "0       Owner  \n",
       "1       Owner  \n",
       "2       Owner  \n",
       "3       Owner  \n",
       "4       Owner  "
      ]
     },
     "execution_count": 1205,
     "metadata": {},
     "output_type": "execute_result"
    }
   ],
   "source": [
    "final_events.head()"
   ]
  },
  {
   "cell_type": "markdown",
   "metadata": {},
   "source": [
    "## Event Type 3: Appraisal"
   ]
  },
  {
   "cell_type": "code",
   "execution_count": 809,
   "metadata": {
    "collapsed": true
   },
   "outputs": [],
   "source": [
    "appraisel=copy[['Block #', 'Parcel #','Appraiser Name','Appraiser Event Date','Appraiser Amount Money']]"
   ]
  },
  {
   "cell_type": "code",
   "execution_count": 810,
   "metadata": {
    "collapsed": false
   },
   "outputs": [
    {
     "data": {
      "text/html": [
       "<div>\n",
       "<table border=\"1\" class=\"dataframe\">\n",
       "  <thead>\n",
       "    <tr style=\"text-align: right;\">\n",
       "      <th></th>\n",
       "      <th>Block #</th>\n",
       "      <th>Parcel #</th>\n",
       "      <th>Appraiser Name</th>\n",
       "      <th>Appraiser Event Date</th>\n",
       "      <th>Appraiser Amount Money</th>\n",
       "    </tr>\n",
       "  </thead>\n",
       "  <tbody>\n",
       "    <tr>\n",
       "      <th>0</th>\n",
       "      <td>1</td>\n",
       "      <td>2</td>\n",
       "      <td>Clyde G. Idol Jr.\\nAlan Butterworth\\nH.E. Johnson</td>\n",
       "      <td>09/15/1965\\n07/31/1968\\n11/09/1968</td>\n",
       "      <td>6250\\n7000\\n9300</td>\n",
       "    </tr>\n",
       "    <tr>\n",
       "      <th>1</th>\n",
       "      <td>1</td>\n",
       "      <td>3</td>\n",
       "      <td>Clyde G. Idol Jr.\\nAlan Butterworth\\nH.E. Johnson</td>\n",
       "      <td>09/15/1965\\n07/12/1968\\n11/02/1968</td>\n",
       "      <td>16400\\n15000\\n14000</td>\n",
       "    </tr>\n",
       "    <tr>\n",
       "      <th>2</th>\n",
       "      <td>1</td>\n",
       "      <td>4</td>\n",
       "      <td>Clyde G. Idol Jr.\\nAlan Butterworth\\nH.E. Johnson</td>\n",
       "      <td>09/15/1965\\n07/15/1968\\n11/02/1968</td>\n",
       "      <td>27000\\n35000\\n35500</td>\n",
       "    </tr>\n",
       "    <tr>\n",
       "      <th>3</th>\n",
       "      <td>1</td>\n",
       "      <td>5</td>\n",
       "      <td>Clyde G. Idol Jr.\\nAlan Butterworth\\nH.E. Johnson</td>\n",
       "      <td>09/15/1965\\n07/16/1968\\n10/22/1968</td>\n",
       "      <td>7250\\n8000\\n6600</td>\n",
       "    </tr>\n",
       "    <tr>\n",
       "      <th>4</th>\n",
       "      <td>1</td>\n",
       "      <td>6</td>\n",
       "      <td>Edward Sale\\nR. Moore\\nH.E. Johnson</td>\n",
       "      <td>04/14/1974\\n08/09/1974\\n03/04/1974</td>\n",
       "      <td>43706\\n40000\\n38500</td>\n",
       "    </tr>\n",
       "  </tbody>\n",
       "</table>\n",
       "</div>"
      ],
      "text/plain": [
       "  Block # Parcel #                                     Appraiser Name  \\\n",
       "0       1        2  Clyde G. Idol Jr.\\nAlan Butterworth\\nH.E. Johnson   \n",
       "1       1        3  Clyde G. Idol Jr.\\nAlan Butterworth\\nH.E. Johnson   \n",
       "2       1        4  Clyde G. Idol Jr.\\nAlan Butterworth\\nH.E. Johnson   \n",
       "3       1        5  Clyde G. Idol Jr.\\nAlan Butterworth\\nH.E. Johnson   \n",
       "4       1        6                Edward Sale\\nR. Moore\\nH.E. Johnson   \n",
       "\n",
       "                 Appraiser Event Date Appraiser Amount Money  \n",
       "0  09/15/1965\\n07/31/1968\\n11/09/1968       6250\\n7000\\n9300  \n",
       "1  09/15/1965\\n07/12/1968\\n11/02/1968    16400\\n15000\\n14000  \n",
       "2  09/15/1965\\n07/15/1968\\n11/02/1968    27000\\n35000\\n35500  \n",
       "3  09/15/1965\\n07/16/1968\\n10/22/1968       7250\\n8000\\n6600  \n",
       "4  04/14/1974\\n08/09/1974\\n03/04/1974    43706\\n40000\\n38500  "
      ]
     },
     "execution_count": 810,
     "metadata": {},
     "output_type": "execute_result"
    }
   ],
   "source": [
    "appraisel.head()"
   ]
  },
  {
   "cell_type": "code",
   "execution_count": 811,
   "metadata": {
    "collapsed": true
   },
   "outputs": [],
   "source": [
    "exceptionList=[]\n",
    "def splitRowAppraise(table):\n",
    "    newframe=pd.DataFrame(columns=table.columns.values)\n",
    "    size=0\n",
    "    ##Goes through length of table\n",
    "    for i in range(len(table)):\n",
    "        ##Saves current row\n",
    "        row = table.iloc[i]\n",
    "        parcel=row['Parcel #']\n",
    "        block=row['Block #']\n",
    "        ##Checks if there are any new line characters in the current row\n",
    "        if '\\n' in str(row['Appraiser Name']):\n",
    "            data = row['Appraiser Name'].split('\\n')\n",
    "            dates=str(row['Appraiser Event Date']).split('\\n')\n",
    "            money=str(row['Appraiser Amount Money']).split('\\n')\n",
    "            placeholder=0\n",
    "            try:\n",
    "                for d in range(len(data)):\n",
    "                    newrow = row\n",
    "                    newrow['Appraiser Name'] = name_cleaner(data[d])\n",
    "                    newrow['Appraiser Event Date']= dates[d]\n",
    "                    if d < len(money):\n",
    "                        newrow['Appraiser Amount Money']=  money[d]\n",
    "                        if placeholder!=0:\n",
    "                            placeholder += 1\n",
    "                    else:\n",
    "                        newrow['Appraiser Amount Money']=  money[placeholder]\n",
    "                    newrow['Parcel #']= parcel\n",
    "                    newrow['Block #']= block\n",
    "                    newframe.loc[size]=newrow\n",
    "                    size+=1\n",
    "            except:\n",
    "                exceptionList.append(row) \n",
    "        else:\n",
    "            newframe.loc[size]=row\n",
    "            name = name_cleaner(str(row[\"Appraiser Name\"]))\n",
    "            newframe.loc[newframe.index == size,\"Appraiser Name\"] = name\n",
    "            size+=1\n",
    "    return newframe\n",
    " "
   ]
  },
  {
   "cell_type": "code",
   "execution_count": 812,
   "metadata": {
    "collapsed": false
   },
   "outputs": [],
   "source": [
    "appraisel = splitRowAppraise(appraisel)"
   ]
  },
  {
   "cell_type": "code",
   "execution_count": 813,
   "metadata": {
    "collapsed": true
   },
   "outputs": [],
   "source": [
    "appraisel.insert(0, 'Event_Type', 3)"
   ]
  },
  {
   "cell_type": "code",
   "execution_count": 814,
   "metadata": {
    "collapsed": false,
    "scrolled": true
   },
   "outputs": [
    {
     "data": {
      "text/plain": [
       "[Block #                                     37\n",
       " Parcel #                                     9\n",
       " Appraiser Name               Jack Ochsenreiter\n",
       " Appraiser Event Date      09/15/196505/27/1968\n",
       " Appraiser Amount Money                    1000\n",
       " Name: 112, dtype: object, Block #                       56A\n",
       " Parcel #                       13\n",
       " Appraiser Name                   \n",
       " Appraiser Event Date      3/11/70\n",
       " Appraiser Amount Money       4250\n",
       " Name: 313, dtype: object, Block #                                61\n",
       " Parcel #                               17\n",
       " Appraiser Name            Clyde G Idol Jr\n",
       " Appraiser Event Date              2/13/73\n",
       " Appraiser Amount Money               6350\n",
       " Name: 368, dtype: object, Block #                           53\n",
       " Parcel #                           7\n",
       " Appraiser Name                      \n",
       " Appraiser Event Date      09/15/1965\n",
       " Appraiser Amount Money          1800\n",
       " Name: 503, dtype: object, Block #                          55\n",
       " Parcel #                         13\n",
       " Appraiser Name                     \n",
       " Appraiser Event Date      9/15/1965\n",
       " Appraiser Amount Money         5550\n",
       " Name: 504, dtype: object, Block #                           55\n",
       " Parcel #                          49\n",
       " Appraiser Name                      \n",
       " Appraiser Event Date      09/15/1965\n",
       " Appraiser Amount Money          1350\n",
       " Name: 510, dtype: object, Block #                            5\n",
       " Parcel #                           2\n",
       " Appraiser Name                      \n",
       " Appraiser Event Date      09/15/1965\n",
       " Appraiser Amount Money          4400\n",
       " Name: 512, dtype: object, Block #                            4\n",
       " Parcel #                          24\n",
       " Appraiser Name                      \n",
       " Appraiser Event Date      09/15/1965\n",
       " Appraiser Amount Money          9000\n",
       " Name: 528, dtype: object, Block #                            4\n",
       " Parcel #                          23\n",
       " Appraiser Name                      \n",
       " Appraiser Event Date      09/15/1965\n",
       " Appraiser Amount Money          7850\n",
       " Name: 529, dtype: object, Block #                           5\n",
       " Parcel #                         16\n",
       " Appraiser Name                     \n",
       " Appraiser Event Date      9/15/1965\n",
       " Appraiser Amount Money         6250\n",
       " Name: 530, dtype: object, Block #                           53\n",
       " Parcel #                         15B\n",
       " Appraiser Name                      \n",
       " Appraiser Event Date      06/12/1974\n",
       " Appraiser Amount Money          1220\n",
       " Name: 533, dtype: object, Block #                           53\n",
       " Parcel #                           8\n",
       " Appraiser Name                      \n",
       " Appraiser Event Date      09/15/1965\n",
       " Appraiser Amount Money          8100\n",
       " Name: 534, dtype: object, Block #                           55\n",
       " Parcel #                          40\n",
       " Appraiser Name                      \n",
       " Appraiser Event Date      09/15/1965\n",
       " Appraiser Amount Money          6500\n",
       " Name: 535, dtype: object, Block #                           6\n",
       " Parcel #                          8\n",
       " Appraiser Name                     \n",
       " Appraiser Event Date      6/20/1966\n",
       " Appraiser Amount Money         4650\n",
       " Name: 549, dtype: object]"
      ]
     },
     "execution_count": 814,
     "metadata": {},
     "output_type": "execute_result"
    }
   ],
   "source": [
    "exceptionList"
   ]
  },
  {
   "cell_type": "code",
   "execution_count": 818,
   "metadata": {
    "collapsed": true
   },
   "outputs": [],
   "source": [
    "appraisel.columns = [\"event_types\", \"block_num\", \"parcel_num\", \"person\", \"event_date\", \"money\"]"
   ]
  },
  {
   "cell_type": "code",
   "execution_count": 819,
   "metadata": {
    "collapsed": false
   },
   "outputs": [
    {
     "data": {
      "text/html": [
       "<div>\n",
       "<table border=\"1\" class=\"dataframe\">\n",
       "  <thead>\n",
       "    <tr style=\"text-align: right;\">\n",
       "      <th></th>\n",
       "      <th>event_types</th>\n",
       "      <th>block_num</th>\n",
       "      <th>parcel_num</th>\n",
       "      <th>person</th>\n",
       "      <th>event_date</th>\n",
       "      <th>money</th>\n",
       "    </tr>\n",
       "  </thead>\n",
       "  <tbody>\n",
       "    <tr>\n",
       "      <th>0</th>\n",
       "      <td>3</td>\n",
       "      <td>1</td>\n",
       "      <td>2</td>\n",
       "      <td>Clyde G Idol Jr</td>\n",
       "      <td>09/15/1965</td>\n",
       "      <td>6250</td>\n",
       "    </tr>\n",
       "    <tr>\n",
       "      <th>1</th>\n",
       "      <td>3</td>\n",
       "      <td>1</td>\n",
       "      <td>2</td>\n",
       "      <td>Alan Butterworth</td>\n",
       "      <td>07/31/1968</td>\n",
       "      <td>7000</td>\n",
       "    </tr>\n",
       "    <tr>\n",
       "      <th>2</th>\n",
       "      <td>3</td>\n",
       "      <td>1</td>\n",
       "      <td>2</td>\n",
       "      <td>H E Johnson</td>\n",
       "      <td>11/09/1968</td>\n",
       "      <td>9300</td>\n",
       "    </tr>\n",
       "    <tr>\n",
       "      <th>3</th>\n",
       "      <td>3</td>\n",
       "      <td>1</td>\n",
       "      <td>3</td>\n",
       "      <td>Clyde G Idol Jr</td>\n",
       "      <td>09/15/1965</td>\n",
       "      <td>16400</td>\n",
       "    </tr>\n",
       "    <tr>\n",
       "      <th>4</th>\n",
       "      <td>3</td>\n",
       "      <td>1</td>\n",
       "      <td>3</td>\n",
       "      <td>Alan Butterworth</td>\n",
       "      <td>07/12/1968</td>\n",
       "      <td>15000</td>\n",
       "    </tr>\n",
       "  </tbody>\n",
       "</table>\n",
       "</div>"
      ],
      "text/plain": [
       "   event_types block_num parcel_num            person  event_date  money\n",
       "0            3         1          2   Clyde G Idol Jr  09/15/1965   6250\n",
       "1            3         1          2  Alan Butterworth  07/31/1968   7000\n",
       "2            3         1          2       H E Johnson  11/09/1968   9300\n",
       "3            3         1          3   Clyde G Idol Jr  09/15/1965  16400\n",
       "4            3         1          3  Alan Butterworth  07/12/1968  15000"
      ]
     },
     "execution_count": 819,
     "metadata": {},
     "output_type": "execute_result"
    }
   ],
   "source": [
    "appraisel.head()"
   ]
  },
  {
   "cell_type": "markdown",
   "metadata": {},
   "source": [
    "## Event Type 4: Offer Made"
   ]
  },
  {
   "cell_type": "code",
   "execution_count": 820,
   "metadata": {
    "collapsed": true
   },
   "outputs": [],
   "source": [
    "offerMade=copy[['Block #', 'Parcel #','Offer Made Amount Money','Offer Made People Involved','Offer Made Event Date','Offer Made Role']]"
   ]
  },
  {
   "cell_type": "code",
   "execution_count": 821,
   "metadata": {
    "collapsed": false
   },
   "outputs": [
    {
     "data": {
      "text/html": [
       "<div>\n",
       "<table border=\"1\" class=\"dataframe\">\n",
       "  <thead>\n",
       "    <tr style=\"text-align: right;\">\n",
       "      <th></th>\n",
       "      <th>Block #</th>\n",
       "      <th>Parcel #</th>\n",
       "      <th>Offer Made Amount Money</th>\n",
       "      <th>Offer Made People Involved</th>\n",
       "      <th>Offer Made Event Date</th>\n",
       "      <th>Offer Made Role</th>\n",
       "    </tr>\n",
       "  </thead>\n",
       "  <tbody>\n",
       "    <tr>\n",
       "      <th>0</th>\n",
       "      <td>1</td>\n",
       "      <td>2</td>\n",
       "      <td>8500</td>\n",
       "      <td>\\nAmelia K. Kalogerakis\\nEva K. Cleraderas\\nSt...</td>\n",
       "      <td>3/14/69</td>\n",
       "      <td>Owner\\n\\n\\nPurchaser</td>\n",
       "    </tr>\n",
       "    <tr>\n",
       "      <th>1</th>\n",
       "      <td>1</td>\n",
       "      <td>3</td>\n",
       "      <td>15000</td>\n",
       "      <td>Charles R. Stinnette Co., Inc.\\n\\nHACA</td>\n",
       "      <td>8/6/69</td>\n",
       "      <td>Owner\\n\\nPurchaser</td>\n",
       "    </tr>\n",
       "    <tr>\n",
       "      <th>2</th>\n",
       "      <td>1</td>\n",
       "      <td>4</td>\n",
       "      <td>35500</td>\n",
       "      <td>Willian I. Lee\\nZyphin J. Lee\\nH. Kenneth Lee\\...</td>\n",
       "      <td>6/17/70</td>\n",
       "      <td>Owner\\n\\n\\n\\nPurchaser</td>\n",
       "    </tr>\n",
       "    <tr>\n",
       "      <th>3</th>\n",
       "      <td>1</td>\n",
       "      <td>5</td>\n",
       "      <td>8000</td>\n",
       "      <td>Thelma Smathers Johnson\\nElizabeth Pauline Sma...</td>\n",
       "      <td>11/17/1969\\n05/07/1974</td>\n",
       "      <td>Owner\\n\\n\\nPurchaser</td>\n",
       "    </tr>\n",
       "    <tr>\n",
       "      <th>4</th>\n",
       "      <td>1</td>\n",
       "      <td>6</td>\n",
       "      <td>40000</td>\n",
       "      <td>Harry's Cadillac-Pontiac Company, Inc.\\n\\nHACA\\n</td>\n",
       "      <td>8/16/74</td>\n",
       "      <td>Owner\\n\\nPurchaser</td>\n",
       "    </tr>\n",
       "  </tbody>\n",
       "</table>\n",
       "</div>"
      ],
      "text/plain": [
       "  Block # Parcel # Offer Made Amount Money  \\\n",
       "0       1        2                    8500   \n",
       "1       1        3                   15000   \n",
       "2       1        4                   35500   \n",
       "3       1        5                    8000   \n",
       "4       1        6                   40000   \n",
       "\n",
       "                          Offer Made People Involved   Offer Made Event Date  \\\n",
       "0  \\nAmelia K. Kalogerakis\\nEva K. Cleraderas\\nSt...                 3/14/69   \n",
       "1             Charles R. Stinnette Co., Inc.\\n\\nHACA                  8/6/69   \n",
       "2  Willian I. Lee\\nZyphin J. Lee\\nH. Kenneth Lee\\...                 6/17/70   \n",
       "3  Thelma Smathers Johnson\\nElizabeth Pauline Sma...  11/17/1969\\n05/07/1974   \n",
       "4   Harry's Cadillac-Pontiac Company, Inc.\\n\\nHACA\\n                 8/16/74   \n",
       "\n",
       "          Offer Made Role  \n",
       "0    Owner\\n\\n\\nPurchaser  \n",
       "1      Owner\\n\\nPurchaser  \n",
       "2  Owner\\n\\n\\n\\nPurchaser  \n",
       "3    Owner\\n\\n\\nPurchaser  \n",
       "4      Owner\\n\\nPurchaser  "
      ]
     },
     "execution_count": 821,
     "metadata": {},
     "output_type": "execute_result"
    }
   ],
   "source": [
    "offerMade.head()"
   ]
  },
  {
   "cell_type": "code",
   "execution_count": 822,
   "metadata": {
    "collapsed": true
   },
   "outputs": [],
   "source": [
    "def splitRowOfferMade(table):\n",
    "    newframe=pd.DataFrame(columns=table.columns.values)\n",
    "    size=0\n",
    "    ##Goes through length of table\n",
    "    for i in range(len(table)):\n",
    "        ##Saves current row\n",
    "        row = table.iloc[i]\n",
    "        date=row['Offer Made Event Date']\n",
    "        parcel=row['Parcel #']\n",
    "        block=row['Block #']\n",
    "        money=row['Offer Made Amount Money']\n",
    "        ##Checks if there are any new line characters in the current row\n",
    "        if '\\n' in str(row['Offer Made People Involved']):\n",
    "            data = row['Offer Made People Involved'].split('\\n')\n",
    "            norm='Owner'\n",
    "            norm_prev='Owner'\n",
    "            norm2='Purchaser'\n",
    "            for d in range(len(data)):\n",
    "                newrow = row\n",
    "                newrow['Offer Made People Involved'] = name_cleaner(data[d])\n",
    "                newrow['Offer Made Event Date']= date\n",
    "                newrow['Parcel #']=parcel\n",
    "                newrow['Block #']=block\n",
    "                newrow['Offer Made Amount Money']=money\n",
    "                if data[d]!='':\n",
    "                    newrow['Offer Made Role']=norm_prev\n",
    "                if data[d]=='':\n",
    "                    if norm_prev==norm:\n",
    "                        norm_prev=norm2\n",
    "                    else:\n",
    "                        norm_prev=norm\n",
    "                        \n",
    "        \n",
    "                newframe.loc[size]=newrow\n",
    "                size+=1\n",
    "        else:\n",
    "            newframe.loc[size]=row\n",
    "            name = name_cleaner(str(row[\"Offer Made People Involved\"]))\n",
    "            newframe.loc[newframe.index == size,\"Offer Made People Involved\"] = name\n",
    "            size+=1\n",
    "    return newframe"
   ]
  },
  {
   "cell_type": "code",
   "execution_count": 823,
   "metadata": {
    "collapsed": true
   },
   "outputs": [],
   "source": [
    "offerMade=splitRowOfferMade(offerMade)\n",
    "##there is an extra newline at the begining that messes up the first row"
   ]
  },
  {
   "cell_type": "code",
   "execution_count": 824,
   "metadata": {
    "collapsed": true
   },
   "outputs": [],
   "source": [
    "offerMade['Offer Made People Involved'].replace('', np.nan, inplace=True)\n"
   ]
  },
  {
   "cell_type": "code",
   "execution_count": 825,
   "metadata": {
    "collapsed": true
   },
   "outputs": [],
   "source": [
    "offerMade=offerMade.dropna()"
   ]
  },
  {
   "cell_type": "code",
   "execution_count": 826,
   "metadata": {
    "collapsed": true
   },
   "outputs": [],
   "source": [
    "offerMade.insert(0, 'Event_Type', 4)"
   ]
  },
  {
   "cell_type": "code",
   "execution_count": 828,
   "metadata": {
    "collapsed": true
   },
   "outputs": [],
   "source": [
    "offerMade.columns = [\"event_types\", \"block_num\", \"parcel_num\", \"money\", \"person\", \"event_date\", \"person_role\"]"
   ]
  },
  {
   "cell_type": "code",
   "execution_count": 829,
   "metadata": {
    "collapsed": false
   },
   "outputs": [
    {
     "data": {
      "text/html": [
       "<div>\n",
       "<table border=\"1\" class=\"dataframe\">\n",
       "  <thead>\n",
       "    <tr style=\"text-align: right;\">\n",
       "      <th></th>\n",
       "      <th>event_types</th>\n",
       "      <th>block_num</th>\n",
       "      <th>parcel_num</th>\n",
       "      <th>money</th>\n",
       "      <th>person</th>\n",
       "      <th>event_date</th>\n",
       "      <th>person_role</th>\n",
       "    </tr>\n",
       "  </thead>\n",
       "  <tbody>\n",
       "    <tr>\n",
       "      <th>1</th>\n",
       "      <td>4</td>\n",
       "      <td>1</td>\n",
       "      <td>2</td>\n",
       "      <td>8500</td>\n",
       "      <td>Amelia K Kalogerakis</td>\n",
       "      <td>3/14/69</td>\n",
       "      <td>Purchaser</td>\n",
       "    </tr>\n",
       "    <tr>\n",
       "      <th>2</th>\n",
       "      <td>4</td>\n",
       "      <td>1</td>\n",
       "      <td>2</td>\n",
       "      <td>8500</td>\n",
       "      <td>Eva K Cleraderas</td>\n",
       "      <td>3/14/69</td>\n",
       "      <td>Purchaser</td>\n",
       "    </tr>\n",
       "    <tr>\n",
       "      <th>3</th>\n",
       "      <td>4</td>\n",
       "      <td>1</td>\n",
       "      <td>2</td>\n",
       "      <td>8500</td>\n",
       "      <td>Steve Kalogerakis</td>\n",
       "      <td>3/14/69</td>\n",
       "      <td>Purchaser</td>\n",
       "    </tr>\n",
       "    <tr>\n",
       "      <th>5</th>\n",
       "      <td>4</td>\n",
       "      <td>1</td>\n",
       "      <td>2</td>\n",
       "      <td>8500</td>\n",
       "      <td>HACA</td>\n",
       "      <td>3/14/69</td>\n",
       "      <td>Owner</td>\n",
       "    </tr>\n",
       "    <tr>\n",
       "      <th>6</th>\n",
       "      <td>4</td>\n",
       "      <td>1</td>\n",
       "      <td>3</td>\n",
       "      <td>15000</td>\n",
       "      <td>Charles R Stinnette Co  Inc</td>\n",
       "      <td>8/6/69</td>\n",
       "      <td>Owner</td>\n",
       "    </tr>\n",
       "  </tbody>\n",
       "</table>\n",
       "</div>"
      ],
      "text/plain": [
       "   event_types block_num parcel_num  money                       person  \\\n",
       "1            4         1          2   8500         Amelia K Kalogerakis   \n",
       "2            4         1          2   8500             Eva K Cleraderas   \n",
       "3            4         1          2   8500            Steve Kalogerakis   \n",
       "5            4         1          2   8500                         HACA   \n",
       "6            4         1          3  15000  Charles R Stinnette Co  Inc   \n",
       "\n",
       "  event_date person_role  \n",
       "1    3/14/69   Purchaser  \n",
       "2    3/14/69   Purchaser  \n",
       "3    3/14/69   Purchaser  \n",
       "5    3/14/69       Owner  \n",
       "6     8/6/69       Owner  "
      ]
     },
     "execution_count": 829,
     "metadata": {},
     "output_type": "execute_result"
    }
   ],
   "source": [
    "offerMade.head()"
   ]
  },
  {
   "cell_type": "code",
   "execution_count": null,
   "metadata": {
    "collapsed": true
   },
   "outputs": [],
   "source": []
  },
  {
   "cell_type": "code",
   "execution_count": null,
   "metadata": {
    "collapsed": true
   },
   "outputs": [],
   "source": []
  },
  {
   "cell_type": "markdown",
   "metadata": {},
   "source": [
    "## Event Type 5: Decision Made"
   ]
  },
  {
   "cell_type": "code",
   "execution_count": 830,
   "metadata": {
    "collapsed": true
   },
   "outputs": [],
   "source": [
    "decision=copy[['Block #', 'Parcel #','Decision Event Date','Decision Amount Money','Decision Response','Decision People Involved','Decision Role']]"
   ]
  },
  {
   "cell_type": "code",
   "execution_count": 831,
   "metadata": {
    "collapsed": false
   },
   "outputs": [
    {
     "data": {
      "text/html": [
       "<div>\n",
       "<table border=\"1\" class=\"dataframe\">\n",
       "  <thead>\n",
       "    <tr style=\"text-align: right;\">\n",
       "      <th></th>\n",
       "      <th>Block #</th>\n",
       "      <th>Parcel #</th>\n",
       "      <th>Decision Event Date</th>\n",
       "      <th>Decision Amount Money</th>\n",
       "      <th>Decision Response</th>\n",
       "      <th>Decision People Involved</th>\n",
       "      <th>Decision Role</th>\n",
       "    </tr>\n",
       "  </thead>\n",
       "  <tbody>\n",
       "    <tr>\n",
       "      <th>0</th>\n",
       "      <td>1</td>\n",
       "      <td>2</td>\n",
       "      <td>3/14/69</td>\n",
       "      <td>8500</td>\n",
       "      <td>Accepted</td>\n",
       "      <td>\\nAmelia K. Kalogerakis\\nEva K. Cleraderas\\nSt...</td>\n",
       "      <td>Owner\\n\\n\\nPurchaser</td>\n",
       "    </tr>\n",
       "    <tr>\n",
       "      <th>1</th>\n",
       "      <td>1</td>\n",
       "      <td>3</td>\n",
       "      <td>8/6/69</td>\n",
       "      <td>15000</td>\n",
       "      <td>Rejected</td>\n",
       "      <td>Charles R. Stinnette Co., Inc.\\n\\nHACA</td>\n",
       "      <td>Owner\\n\\nPurchaser</td>\n",
       "    </tr>\n",
       "    <tr>\n",
       "      <th>2</th>\n",
       "      <td>1</td>\n",
       "      <td>4</td>\n",
       "      <td>6/17/70</td>\n",
       "      <td>35500</td>\n",
       "      <td>Rejected</td>\n",
       "      <td>William I. Lee\\nZyphin J. Lee\\nH. Kenneth Lee\\...</td>\n",
       "      <td>Owner\\n\\n\\n\\nPurchaser</td>\n",
       "    </tr>\n",
       "    <tr>\n",
       "      <th>3</th>\n",
       "      <td>1</td>\n",
       "      <td>5</td>\n",
       "      <td>5/8/74</td>\n",
       "      <td>8000</td>\n",
       "      <td>Accepted</td>\n",
       "      <td>Thelma Smathers Johnson\\nElizabeth Pauline Sma...</td>\n",
       "      <td>Owner\\n\\n\\nPurchaser</td>\n",
       "    </tr>\n",
       "    <tr>\n",
       "      <th>4</th>\n",
       "      <td>1</td>\n",
       "      <td>6</td>\n",
       "      <td>9/23/74</td>\n",
       "      <td>40000</td>\n",
       "      <td>Accepted</td>\n",
       "      <td>Harry's Cadillac-Pontiac Company, Inc.\\n\\nHACA\\n</td>\n",
       "      <td>Owner\\n\\nPurchaser</td>\n",
       "    </tr>\n",
       "  </tbody>\n",
       "</table>\n",
       "</div>"
      ],
      "text/plain": [
       "  Block # Parcel # Decision Event Date Decision Amount Money  \\\n",
       "0       1        2             3/14/69                  8500   \n",
       "1       1        3              8/6/69                 15000   \n",
       "2       1        4             6/17/70                 35500   \n",
       "3       1        5              5/8/74                  8000   \n",
       "4       1        6             9/23/74                 40000   \n",
       "\n",
       "  Decision Response                           Decision People Involved  \\\n",
       "0          Accepted  \\nAmelia K. Kalogerakis\\nEva K. Cleraderas\\nSt...   \n",
       "1          Rejected             Charles R. Stinnette Co., Inc.\\n\\nHACA   \n",
       "2          Rejected  William I. Lee\\nZyphin J. Lee\\nH. Kenneth Lee\\...   \n",
       "3          Accepted  Thelma Smathers Johnson\\nElizabeth Pauline Sma...   \n",
       "4          Accepted   Harry's Cadillac-Pontiac Company, Inc.\\n\\nHACA\\n   \n",
       "\n",
       "            Decision Role  \n",
       "0    Owner\\n\\n\\nPurchaser  \n",
       "1      Owner\\n\\nPurchaser  \n",
       "2  Owner\\n\\n\\n\\nPurchaser  \n",
       "3    Owner\\n\\n\\nPurchaser  \n",
       "4      Owner\\n\\nPurchaser  "
      ]
     },
     "execution_count": 831,
     "metadata": {},
     "output_type": "execute_result"
    }
   ],
   "source": [
    "decision.head()"
   ]
  },
  {
   "cell_type": "code",
   "execution_count": 832,
   "metadata": {
    "collapsed": true
   },
   "outputs": [],
   "source": [
    "def splitRowDecision(table):\n",
    "    newframe=pd.DataFrame(columns=table.columns.values)\n",
    "    size=0\n",
    "    ##Goes through length of table\n",
    "    for i in range(len(table)):\n",
    "        ##Saves current row\n",
    "        row = table.iloc[i]\n",
    "        date=row['Decision Event Date']\n",
    "        parcel=row['Parcel #']\n",
    "        block=row['Block #']\n",
    "        money=row['Decision Amount Money']\n",
    "        response=row['Decision Response']\n",
    "        ##Checks if there are any new line characters in the current row\n",
    "        if '\\n' in str(row['Decision People Involved']):\n",
    "            data = row['Decision People Involved'].split('\\n')\n",
    "            norm='Owner'\n",
    "            norm_prev='Owner'\n",
    "            norm2='Purchaser'\n",
    "            for d in range(len(data)):\n",
    "                newrow = row\n",
    "                newrow['Decision People Involved'] = name_cleaner(data[d])\n",
    "                newrow['Decision Event Date']= date\n",
    "                newrow['Parcel #']=parcel\n",
    "                newrow['Block #']=block\n",
    "                newrow['Decision Amount Money']=money\n",
    "                newrow['Decision Response']=response\n",
    "                if data[d]!='':\n",
    "                    newrow['Decision Role']=norm_prev\n",
    "                if data[d]=='':\n",
    "                    if norm_prev==norm:\n",
    "                        norm_prev=norm2\n",
    "                    else:\n",
    "                        norm_prev=norm\n",
    "                        \n",
    "        \n",
    "                newframe.loc[size]=newrow\n",
    "                size+=1\n",
    "        else:\n",
    "            newframe.loc[size]=row\n",
    "            name = name_cleaner(str(row[\"Decision People Involved\"]))\n",
    "            newframe.loc[newframe.index == size,\"Decision People Involved\"] = name\n",
    "            size+=1\n",
    "    return newframe"
   ]
  },
  {
   "cell_type": "code",
   "execution_count": 839,
   "metadata": {
    "collapsed": false
   },
   "outputs": [
    {
     "data": {
      "text/html": [
       "<div>\n",
       "<table border=\"1\" class=\"dataframe\">\n",
       "  <thead>\n",
       "    <tr style=\"text-align: right;\">\n",
       "      <th></th>\n",
       "      <th>event_types</th>\n",
       "      <th>block_num</th>\n",
       "      <th>parcel_num</th>\n",
       "      <th>event_date</th>\n",
       "      <th>money</th>\n",
       "      <th>response</th>\n",
       "      <th>person</th>\n",
       "      <th>person_role</th>\n",
       "    </tr>\n",
       "  </thead>\n",
       "  <tbody>\n",
       "    <tr>\n",
       "      <th>1</th>\n",
       "      <td>5</td>\n",
       "      <td>1</td>\n",
       "      <td>2</td>\n",
       "      <td>3/14/69</td>\n",
       "      <td>8500</td>\n",
       "      <td>Accepted</td>\n",
       "      <td>Amelia K Kalogerakis</td>\n",
       "      <td>Purchaser</td>\n",
       "    </tr>\n",
       "    <tr>\n",
       "      <th>2</th>\n",
       "      <td>5</td>\n",
       "      <td>1</td>\n",
       "      <td>2</td>\n",
       "      <td>3/14/69</td>\n",
       "      <td>8500</td>\n",
       "      <td>Accepted</td>\n",
       "      <td>Eva K Cleraderas</td>\n",
       "      <td>Purchaser</td>\n",
       "    </tr>\n",
       "    <tr>\n",
       "      <th>3</th>\n",
       "      <td>5</td>\n",
       "      <td>1</td>\n",
       "      <td>2</td>\n",
       "      <td>3/14/69</td>\n",
       "      <td>8500</td>\n",
       "      <td>Accepted</td>\n",
       "      <td>Steve Kalogerakis</td>\n",
       "      <td>Purchaser</td>\n",
       "    </tr>\n",
       "    <tr>\n",
       "      <th>5</th>\n",
       "      <td>5</td>\n",
       "      <td>1</td>\n",
       "      <td>2</td>\n",
       "      <td>3/14/69</td>\n",
       "      <td>8500</td>\n",
       "      <td>Accepted</td>\n",
       "      <td>HACA</td>\n",
       "      <td>Owner</td>\n",
       "    </tr>\n",
       "    <tr>\n",
       "      <th>6</th>\n",
       "      <td>5</td>\n",
       "      <td>1</td>\n",
       "      <td>3</td>\n",
       "      <td>8/6/69</td>\n",
       "      <td>15000</td>\n",
       "      <td>Rejected</td>\n",
       "      <td>Charles R Stinnette Co  Inc</td>\n",
       "      <td>Owner</td>\n",
       "    </tr>\n",
       "  </tbody>\n",
       "</table>\n",
       "</div>"
      ],
      "text/plain": [
       "   event_types block_num parcel_num event_date  money  response  \\\n",
       "1            5         1          2    3/14/69   8500  Accepted   \n",
       "2            5         1          2    3/14/69   8500  Accepted   \n",
       "3            5         1          2    3/14/69   8500  Accepted   \n",
       "5            5         1          2    3/14/69   8500  Accepted   \n",
       "6            5         1          3     8/6/69  15000  Rejected   \n",
       "\n",
       "                        person person_role  \n",
       "1         Amelia K Kalogerakis   Purchaser  \n",
       "2             Eva K Cleraderas   Purchaser  \n",
       "3            Steve Kalogerakis   Purchaser  \n",
       "5                         HACA       Owner  \n",
       "6  Charles R Stinnette Co  Inc       Owner  "
      ]
     },
     "execution_count": 839,
     "metadata": {},
     "output_type": "execute_result"
    }
   ],
   "source": [
    "decision=splitRowDecision(decision)\n",
    "\n",
    "decision['Decision People Involved'].replace('', np.nan, inplace=True)\n",
    "\n",
    "decision=decision.dropna()\n",
    "\n",
    "decision.insert(0,'Event_Type',5)\n",
    "\n",
    "decision.columns = [\"event_types\", \"block_num\", \"parcel_num\", \"event_date\", \"money\", \"response\", \"person\", \"person_role\"]\n",
    "\n",
    "decision.head()"
   ]
  },
  {
   "cell_type": "markdown",
   "metadata": {},
   "source": [
    "## Event Type 6: Award"
   ]
  },
  {
   "cell_type": "code",
   "execution_count": 840,
   "metadata": {
    "collapsed": true
   },
   "outputs": [],
   "source": [
    "award=copy[['Block #', 'Parcel #','Award Date','Award Amount Money']]"
   ]
  },
  {
   "cell_type": "code",
   "execution_count": 841,
   "metadata": {
    "collapsed": false
   },
   "outputs": [
    {
     "data": {
      "text/html": [
       "<div>\n",
       "<table border=\"1\" class=\"dataframe\">\n",
       "  <thead>\n",
       "    <tr style=\"text-align: right;\">\n",
       "      <th></th>\n",
       "      <th>Block #</th>\n",
       "      <th>Parcel #</th>\n",
       "      <th>Award Date</th>\n",
       "      <th>Award Amount Money</th>\n",
       "    </tr>\n",
       "  </thead>\n",
       "  <tbody>\n",
       "    <tr>\n",
       "      <th>0</th>\n",
       "      <td>1</td>\n",
       "      <td>2</td>\n",
       "      <td>-</td>\n",
       "      <td>-</td>\n",
       "    </tr>\n",
       "    <tr>\n",
       "      <th>1</th>\n",
       "      <td>1</td>\n",
       "      <td>3</td>\n",
       "      <td>7/16/71</td>\n",
       "      <td>21600</td>\n",
       "    </tr>\n",
       "    <tr>\n",
       "      <th>2</th>\n",
       "      <td>1</td>\n",
       "      <td>4</td>\n",
       "      <td>8/17/72</td>\n",
       "      <td>46000</td>\n",
       "    </tr>\n",
       "    <tr>\n",
       "      <th>3</th>\n",
       "      <td>1</td>\n",
       "      <td>5</td>\n",
       "      <td>-</td>\n",
       "      <td>-</td>\n",
       "    </tr>\n",
       "    <tr>\n",
       "      <th>4</th>\n",
       "      <td>1</td>\n",
       "      <td>6</td>\n",
       "      <td>-</td>\n",
       "      <td>-</td>\n",
       "    </tr>\n",
       "  </tbody>\n",
       "</table>\n",
       "</div>"
      ],
      "text/plain": [
       "  Block # Parcel # Award Date Award Amount Money\n",
       "0       1        2          -                  -\n",
       "1       1        3    7/16/71              21600\n",
       "2       1        4    8/17/72              46000\n",
       "3       1        5          -                  -\n",
       "4       1        6          -                  -"
      ]
     },
     "execution_count": 841,
     "metadata": {},
     "output_type": "execute_result"
    }
   ],
   "source": [
    "award.head()"
   ]
  },
  {
   "cell_type": "code",
   "execution_count": 842,
   "metadata": {
    "collapsed": true
   },
   "outputs": [],
   "source": [
    "award.insert(0,'Event_Type',6)"
   ]
  },
  {
   "cell_type": "code",
   "execution_count": 845,
   "metadata": {
    "collapsed": true
   },
   "outputs": [],
   "source": [
    "award.columns = [\"event_types\", \"block_num\", \"parcel_num\", \"event_date\", \"money\"]"
   ]
  },
  {
   "cell_type": "code",
   "execution_count": 846,
   "metadata": {
    "collapsed": false
   },
   "outputs": [
    {
     "data": {
      "text/html": [
       "<div>\n",
       "<table border=\"1\" class=\"dataframe\">\n",
       "  <thead>\n",
       "    <tr style=\"text-align: right;\">\n",
       "      <th></th>\n",
       "      <th>event_types</th>\n",
       "      <th>block_num</th>\n",
       "      <th>parcel_num</th>\n",
       "      <th>event_date</th>\n",
       "      <th>money</th>\n",
       "    </tr>\n",
       "  </thead>\n",
       "  <tbody>\n",
       "    <tr>\n",
       "      <th>0</th>\n",
       "      <td>6</td>\n",
       "      <td>1</td>\n",
       "      <td>2</td>\n",
       "      <td>-</td>\n",
       "      <td>-</td>\n",
       "    </tr>\n",
       "    <tr>\n",
       "      <th>1</th>\n",
       "      <td>6</td>\n",
       "      <td>1</td>\n",
       "      <td>3</td>\n",
       "      <td>7/16/71</td>\n",
       "      <td>21600</td>\n",
       "    </tr>\n",
       "    <tr>\n",
       "      <th>2</th>\n",
       "      <td>6</td>\n",
       "      <td>1</td>\n",
       "      <td>4</td>\n",
       "      <td>8/17/72</td>\n",
       "      <td>46000</td>\n",
       "    </tr>\n",
       "    <tr>\n",
       "      <th>3</th>\n",
       "      <td>6</td>\n",
       "      <td>1</td>\n",
       "      <td>5</td>\n",
       "      <td>-</td>\n",
       "      <td>-</td>\n",
       "    </tr>\n",
       "    <tr>\n",
       "      <th>4</th>\n",
       "      <td>6</td>\n",
       "      <td>1</td>\n",
       "      <td>6</td>\n",
       "      <td>-</td>\n",
       "      <td>-</td>\n",
       "    </tr>\n",
       "  </tbody>\n",
       "</table>\n",
       "</div>"
      ],
      "text/plain": [
       "   event_types block_num parcel_num event_date  money\n",
       "0            6         1          2          -      -\n",
       "1            6         1          3    7/16/71  21600\n",
       "2            6         1          4    8/17/72  46000\n",
       "3            6         1          5          -      -\n",
       "4            6         1          6          -      -"
      ]
     },
     "execution_count": 846,
     "metadata": {},
     "output_type": "execute_result"
    }
   ],
   "source": [
    "award.head()"
   ]
  },
  {
   "cell_type": "code",
   "execution_count": null,
   "metadata": {
    "collapsed": true
   },
   "outputs": [],
   "source": []
  },
  {
   "cell_type": "markdown",
   "metadata": {
    "collapsed": false
   },
   "source": [
    "## Event Type 7: Tenant"
   ]
  },
  {
   "cell_type": "code",
   "execution_count": 971,
   "metadata": {
    "collapsed": true
   },
   "outputs": [],
   "source": [
    "tenant=copy[['Block #', 'Parcel #','Tenant Vacated Date','Tenant Agreement Date','Tenant Cost','Tenant Name','Previous owner\\nor\\nTenant']]"
   ]
  },
  {
   "cell_type": "code",
   "execution_count": 972,
   "metadata": {
    "collapsed": false
   },
   "outputs": [
    {
     "data": {
      "text/html": [
       "<div>\n",
       "<table border=\"1\" class=\"dataframe\">\n",
       "  <thead>\n",
       "    <tr style=\"text-align: right;\">\n",
       "      <th></th>\n",
       "      <th>Block #</th>\n",
       "      <th>Parcel #</th>\n",
       "      <th>Tenant Vacated Date</th>\n",
       "      <th>Tenant Agreement Date</th>\n",
       "      <th>Tenant Cost</th>\n",
       "      <th>Tenant Name</th>\n",
       "      <th>Previous owner\n",
       "or\n",
       "Tenant</th>\n",
       "    </tr>\n",
       "  </thead>\n",
       "  <tbody>\n",
       "    <tr>\n",
       "      <th>0</th>\n",
       "      <td>1</td>\n",
       "      <td>2</td>\n",
       "      <td>-</td>\n",
       "      <td>-</td>\n",
       "      <td>-</td>\n",
       "      <td>-</td>\n",
       "      <td>-</td>\n",
       "    </tr>\n",
       "    <tr>\n",
       "      <th>1</th>\n",
       "      <td>1</td>\n",
       "      <td>3</td>\n",
       "      <td>-</td>\n",
       "      <td>-</td>\n",
       "      <td>-</td>\n",
       "      <td>-</td>\n",
       "      <td>-</td>\n",
       "    </tr>\n",
       "    <tr>\n",
       "      <th>2</th>\n",
       "      <td>1</td>\n",
       "      <td>4</td>\n",
       "      <td>-</td>\n",
       "      <td>-</td>\n",
       "      <td>-</td>\n",
       "      <td>-</td>\n",
       "      <td>-</td>\n",
       "    </tr>\n",
       "    <tr>\n",
       "      <th>3</th>\n",
       "      <td>1</td>\n",
       "      <td>5</td>\n",
       "      <td>-</td>\n",
       "      <td>-</td>\n",
       "      <td>-</td>\n",
       "      <td>-</td>\n",
       "      <td>-</td>\n",
       "    </tr>\n",
       "    <tr>\n",
       "      <th>4</th>\n",
       "      <td>1</td>\n",
       "      <td>6</td>\n",
       "      <td>-</td>\n",
       "      <td>-</td>\n",
       "      <td>-</td>\n",
       "      <td>-</td>\n",
       "      <td>-</td>\n",
       "    </tr>\n",
       "  </tbody>\n",
       "</table>\n",
       "</div>"
      ],
      "text/plain": [
       "  Block # Parcel # Tenant Vacated Date Tenant Agreement Date Tenant Cost  \\\n",
       "0       1        2                   -                     -           -   \n",
       "1       1        3                   -                     -           -   \n",
       "2       1        4                   -                     -           -   \n",
       "3       1        5                   -                     -           -   \n",
       "4       1        6                   -                     -           -   \n",
       "\n",
       "  Tenant Name Previous owner\\nor\\nTenant  \n",
       "0           -                          -  \n",
       "1           -                          -  \n",
       "2           -                          -  \n",
       "3           -                          -  \n",
       "4           -                          -  "
      ]
     },
     "execution_count": 972,
     "metadata": {},
     "output_type": "execute_result"
    }
   ],
   "source": [
    "tenant.head()"
   ]
  },
  {
   "cell_type": "markdown",
   "metadata": {},
   "source": [
    "### Needs to write a robust code to tease out names and their roles here"
   ]
  },
  {
   "cell_type": "code",
   "execution_count": 973,
   "metadata": {
    "collapsed": true
   },
   "outputs": [],
   "source": [
    "def splitRowTenant(table):\n",
    "    newframe=pd.DataFrame(columns=table.columns.values)\n",
    "    size=0\n",
    "    ##Goes through length of table\n",
    "    for i in range(len(table)):\n",
    "        ##Saves current row\n",
    "        row = table.iloc[i]\n",
    "        date= row['Tenant Vacated Date'] if row['Tenant Vacated Date'] != \"-\" else \"\"\n",
    "        parcel=row['Parcel #']\n",
    "        block=row['Block #']\n",
    "#         money=row['Tenant Cost']\n",
    "#         role=row['Previous owner or Tenant']\n",
    "        \n",
    "        ##Checks if there are any new line characters in the current row\n",
    "        if '\\n' in str(row['Tenant Name']):\n",
    "            tenants = row['Tenant Name'].split('\\n')\n",
    "            rents = row['Tenant Cost'].split('\\n')\n",
    "            roles = row['Previous owner\\nor\\nTenant'].split('\\n')\n",
    "            agree_dates = row['Tenant Agreement Date'].split('\\n')\n",
    "            prev_role = \"\"\n",
    "            prev_date = \"\"\n",
    "\n",
    "            for d in range(len(tenants)):\n",
    "                if tenants[d] == '':\n",
    "                    continue\n",
    "                \n",
    "                newrow = row                \n",
    "                newrow['Tenant Name'] = name_cleaner(tenants[d])\n",
    "                newrow['Tenant Cost'] = re.sub(r'[\\$]', '', rents[d])\n",
    "                \n",
    "                try:\n",
    "                    newrow['Previous owner\\nor\\nTenant']= roles[d]\n",
    "                    prev_role = roles[d] \n",
    "                except:\n",
    "                    newrow['Previous owner\\nor\\nTenant'] = prev_role\n",
    "                \n",
    "                try:\n",
    "                    newrow['Tenant Agreement Date']= agree_dates[d]\n",
    "                    prev_date = agree_date[d]\n",
    "                except:\n",
    "                    newrow['Tenant Agreement Date']= prev_date\n",
    "                    \n",
    "                newrow['Tenant Vacated Date']= date                \n",
    "                newrow['Parcel #']=parcel\n",
    "                newrow['Block #']=block                        \n",
    "        \n",
    "                newframe.loc[size]=newrow\n",
    "                size+=1\n",
    "        else:\n",
    "            if str(row[\"Tenant Name\"]) == \"-\" or str(row[\"Tenant Name\"]) == \"\":\n",
    "                newframe.loc[size]=row\n",
    "            else:\n",
    "                newframe.loc[size]=row\n",
    "                name = name_cleaner(str(row[\"Tenant Name\"]))\n",
    "                newframe.loc[newframe.index == size,\"Tenant Name\"] = name\n",
    "                \n",
    "                try:\n",
    "                    rent = re.sub(r'[\\$\\-]', '', str(row['Tenant Cost']))\n",
    "                    newframe.loc[newframe.index == size,\"Tenant Cost\"] = rent\n",
    "                except Exception as e: \n",
    "                    print(e)\n",
    "                    print (row)\n",
    "                    break\n",
    "                \n",
    "            size+=1\n",
    "    return newframe"
   ]
  },
  {
   "cell_type": "code",
   "execution_count": null,
   "metadata": {
    "collapsed": false
   },
   "outputs": [],
   "source": []
  },
  {
   "cell_type": "code",
   "execution_count": 974,
   "metadata": {
    "collapsed": false
   },
   "outputs": [],
   "source": [
    "tenant.insert(0,'Event_Type',7)"
   ]
  },
  {
   "cell_type": "code",
   "execution_count": 975,
   "metadata": {
    "collapsed": false
   },
   "outputs": [
    {
     "name": "stderr",
     "output_type": "stream",
     "text": [
      "/Users/myeong/anaconda/lib/python3.5/site-packages/ipykernel/__main__.py:28: SettingWithCopyWarning: \n",
      "A value is trying to be set on a copy of a slice from a DataFrame\n",
      "\n",
      "See the caveats in the documentation: http://pandas.pydata.org/pandas-docs/stable/indexing.html#indexing-view-versus-copy\n",
      "/Users/myeong/anaconda/lib/python3.5/site-packages/ipykernel/__main__.py:29: SettingWithCopyWarning: \n",
      "A value is trying to be set on a copy of a slice from a DataFrame\n",
      "\n",
      "See the caveats in the documentation: http://pandas.pydata.org/pandas-docs/stable/indexing.html#indexing-view-versus-copy\n",
      "/Users/myeong/anaconda/lib/python3.5/site-packages/ipykernel/__main__.py:32: SettingWithCopyWarning: \n",
      "A value is trying to be set on a copy of a slice from a DataFrame\n",
      "\n",
      "See the caveats in the documentation: http://pandas.pydata.org/pandas-docs/stable/indexing.html#indexing-view-versus-copy\n",
      "/Users/myeong/anaconda/lib/python3.5/site-packages/ipykernel/__main__.py:38: SettingWithCopyWarning: \n",
      "A value is trying to be set on a copy of a slice from a DataFrame\n",
      "\n",
      "See the caveats in the documentation: http://pandas.pydata.org/pandas-docs/stable/indexing.html#indexing-view-versus-copy\n",
      "/Users/myeong/anaconda/lib/python3.5/site-packages/ipykernel/__main__.py:41: SettingWithCopyWarning: \n",
      "A value is trying to be set on a copy of a slice from a DataFrame\n",
      "\n",
      "See the caveats in the documentation: http://pandas.pydata.org/pandas-docs/stable/indexing.html#indexing-view-versus-copy\n",
      "/Users/myeong/anaconda/lib/python3.5/site-packages/ipykernel/__main__.py:43: SettingWithCopyWarning: \n",
      "A value is trying to be set on a copy of a slice from a DataFrame\n",
      "\n",
      "See the caveats in the documentation: http://pandas.pydata.org/pandas-docs/stable/indexing.html#indexing-view-versus-copy\n",
      "/Users/myeong/anaconda/lib/python3.5/site-packages/ipykernel/__main__.py:44: SettingWithCopyWarning: \n",
      "A value is trying to be set on a copy of a slice from a DataFrame\n",
      "\n",
      "See the caveats in the documentation: http://pandas.pydata.org/pandas-docs/stable/indexing.html#indexing-view-versus-copy\n",
      "/Users/myeong/anaconda/lib/python3.5/site-packages/ipykernel/__main__.py:45: SettingWithCopyWarning: \n",
      "A value is trying to be set on a copy of a slice from a DataFrame\n",
      "\n",
      "See the caveats in the documentation: http://pandas.pydata.org/pandas-docs/stable/indexing.html#indexing-view-versus-copy\n",
      "/Users/myeong/anaconda/lib/python3.5/site-packages/ipykernel/__main__.py:35: SettingWithCopyWarning: \n",
      "A value is trying to be set on a copy of a slice from a DataFrame\n",
      "\n",
      "See the caveats in the documentation: http://pandas.pydata.org/pandas-docs/stable/indexing.html#indexing-view-versus-copy\n"
     ]
    }
   ],
   "source": [
    "tenant=splitRowTenant(tenant)"
   ]
  },
  {
   "cell_type": "code",
   "execution_count": 976,
   "metadata": {
    "collapsed": true
   },
   "outputs": [],
   "source": [
    "tenant['Tenant Name'].replace('', np.nan, inplace=True)\n",
    "tenant=tenant.dropna()"
   ]
  },
  {
   "cell_type": "code",
   "execution_count": 977,
   "metadata": {
    "collapsed": false
   },
   "outputs": [],
   "source": [
    "tenant.columns = [\"event_types\", \"block_num\", \"parcel_num\", \"extra_information\", \"event_date\", \"money\", \"person\", \"person_role\"]\n"
   ]
  },
  {
   "cell_type": "code",
   "execution_count": 978,
   "metadata": {
    "collapsed": false
   },
   "outputs": [],
   "source": [
    "tenant.event_types = tenant[\"event_types\"].astype(int)"
   ]
  },
  {
   "cell_type": "code",
   "execution_count": 979,
   "metadata": {
    "collapsed": false
   },
   "outputs": [
    {
     "data": {
      "text/html": [
       "<div>\n",
       "<table border=\"1\" class=\"dataframe\">\n",
       "  <thead>\n",
       "    <tr style=\"text-align: right;\">\n",
       "      <th></th>\n",
       "      <th>event_types</th>\n",
       "      <th>block_num</th>\n",
       "      <th>parcel_num</th>\n",
       "      <th>extra_information</th>\n",
       "      <th>event_date</th>\n",
       "      <th>money</th>\n",
       "      <th>person</th>\n",
       "      <th>person_role</th>\n",
       "    </tr>\n",
       "  </thead>\n",
       "  <tbody>\n",
       "    <tr>\n",
       "      <th>0</th>\n",
       "      <td>7</td>\n",
       "      <td>1</td>\n",
       "      <td>2</td>\n",
       "      <td>-</td>\n",
       "      <td>-</td>\n",
       "      <td>-</td>\n",
       "      <td>-</td>\n",
       "      <td>-</td>\n",
       "    </tr>\n",
       "    <tr>\n",
       "      <th>1</th>\n",
       "      <td>7</td>\n",
       "      <td>1</td>\n",
       "      <td>3</td>\n",
       "      <td>-</td>\n",
       "      <td>-</td>\n",
       "      <td>-</td>\n",
       "      <td>-</td>\n",
       "      <td>-</td>\n",
       "    </tr>\n",
       "    <tr>\n",
       "      <th>2</th>\n",
       "      <td>7</td>\n",
       "      <td>1</td>\n",
       "      <td>4</td>\n",
       "      <td>-</td>\n",
       "      <td>-</td>\n",
       "      <td>-</td>\n",
       "      <td>-</td>\n",
       "      <td>-</td>\n",
       "    </tr>\n",
       "    <tr>\n",
       "      <th>3</th>\n",
       "      <td>7</td>\n",
       "      <td>1</td>\n",
       "      <td>5</td>\n",
       "      <td>-</td>\n",
       "      <td>-</td>\n",
       "      <td>-</td>\n",
       "      <td>-</td>\n",
       "      <td>-</td>\n",
       "    </tr>\n",
       "    <tr>\n",
       "      <th>4</th>\n",
       "      <td>7</td>\n",
       "      <td>1</td>\n",
       "      <td>6</td>\n",
       "      <td>-</td>\n",
       "      <td>-</td>\n",
       "      <td>-</td>\n",
       "      <td>-</td>\n",
       "      <td>-</td>\n",
       "    </tr>\n",
       "  </tbody>\n",
       "</table>\n",
       "</div>"
      ],
      "text/plain": [
       "   event_types block_num parcel_num extra_information event_date money person  \\\n",
       "0            7         1          2                 -          -     -      -   \n",
       "1            7         1          3                 -          -     -      -   \n",
       "2            7         1          4                 -          -     -      -   \n",
       "3            7         1          5                 -          -     -      -   \n",
       "4            7         1          6                 -          -     -      -   \n",
       "\n",
       "  person_role  \n",
       "0           -  \n",
       "1           -  \n",
       "2           -  \n",
       "3           -  \n",
       "4           -  "
      ]
     },
     "execution_count": 979,
     "metadata": {},
     "output_type": "execute_result"
    }
   ],
   "source": [
    "tenant.head()"
   ]
  },
  {
   "cell_type": "markdown",
   "metadata": {},
   "source": [
    "## Event Type 8: End of Case"
   ]
  },
  {
   "cell_type": "code",
   "execution_count": 980,
   "metadata": {
    "collapsed": true
   },
   "outputs": [],
   "source": [
    "endCase=copy[['Block #', 'Parcel #','End of Case Finalized Date']]"
   ]
  },
  {
   "cell_type": "code",
   "execution_count": 981,
   "metadata": {
    "collapsed": false
   },
   "outputs": [
    {
     "data": {
      "text/html": [
       "<div>\n",
       "<table border=\"1\" class=\"dataframe\">\n",
       "  <thead>\n",
       "    <tr style=\"text-align: right;\">\n",
       "      <th></th>\n",
       "      <th>Block #</th>\n",
       "      <th>Parcel #</th>\n",
       "      <th>End of Case Finalized Date</th>\n",
       "    </tr>\n",
       "  </thead>\n",
       "  <tbody>\n",
       "    <tr>\n",
       "      <th>0</th>\n",
       "      <td>1</td>\n",
       "      <td>2</td>\n",
       "      <td>6/6/69</td>\n",
       "    </tr>\n",
       "    <tr>\n",
       "      <th>1</th>\n",
       "      <td>1</td>\n",
       "      <td>3</td>\n",
       "      <td>06/171971</td>\n",
       "    </tr>\n",
       "    <tr>\n",
       "      <th>2</th>\n",
       "      <td>1</td>\n",
       "      <td>4</td>\n",
       "      <td>7/13/72</td>\n",
       "    </tr>\n",
       "    <tr>\n",
       "      <th>3</th>\n",
       "      <td>1</td>\n",
       "      <td>5</td>\n",
       "      <td>5/29/74</td>\n",
       "    </tr>\n",
       "    <tr>\n",
       "      <th>4</th>\n",
       "      <td>1</td>\n",
       "      <td>6</td>\n",
       "      <td>10/9/74</td>\n",
       "    </tr>\n",
       "  </tbody>\n",
       "</table>\n",
       "</div>"
      ],
      "text/plain": [
       "  Block # Parcel # End of Case Finalized Date\n",
       "0       1        2                     6/6/69\n",
       "1       1        3                  06/171971\n",
       "2       1        4                    7/13/72\n",
       "3       1        5                    5/29/74\n",
       "4       1        6                    10/9/74"
      ]
     },
     "execution_count": 981,
     "metadata": {},
     "output_type": "execute_result"
    }
   ],
   "source": [
    "endCase.head()"
   ]
  },
  {
   "cell_type": "code",
   "execution_count": 982,
   "metadata": {
    "collapsed": true
   },
   "outputs": [],
   "source": [
    "endCase.insert(0,'Event_Type',8)"
   ]
  },
  {
   "cell_type": "code",
   "execution_count": 984,
   "metadata": {
    "collapsed": true
   },
   "outputs": [],
   "source": [
    "endCase.columns = [\"event_types\", \"block_num\", \"parcel_num\", \"event_date\"]"
   ]
  },
  {
   "cell_type": "code",
   "execution_count": 985,
   "metadata": {
    "collapsed": false
   },
   "outputs": [
    {
     "data": {
      "text/html": [
       "<div>\n",
       "<table border=\"1\" class=\"dataframe\">\n",
       "  <thead>\n",
       "    <tr style=\"text-align: right;\">\n",
       "      <th></th>\n",
       "      <th>event_types</th>\n",
       "      <th>block_num</th>\n",
       "      <th>parcel_num</th>\n",
       "      <th>event_date</th>\n",
       "    </tr>\n",
       "  </thead>\n",
       "  <tbody>\n",
       "    <tr>\n",
       "      <th>0</th>\n",
       "      <td>8</td>\n",
       "      <td>1</td>\n",
       "      <td>2</td>\n",
       "      <td>6/6/69</td>\n",
       "    </tr>\n",
       "    <tr>\n",
       "      <th>1</th>\n",
       "      <td>8</td>\n",
       "      <td>1</td>\n",
       "      <td>3</td>\n",
       "      <td>06/171971</td>\n",
       "    </tr>\n",
       "    <tr>\n",
       "      <th>2</th>\n",
       "      <td>8</td>\n",
       "      <td>1</td>\n",
       "      <td>4</td>\n",
       "      <td>7/13/72</td>\n",
       "    </tr>\n",
       "    <tr>\n",
       "      <th>3</th>\n",
       "      <td>8</td>\n",
       "      <td>1</td>\n",
       "      <td>5</td>\n",
       "      <td>5/29/74</td>\n",
       "    </tr>\n",
       "    <tr>\n",
       "      <th>4</th>\n",
       "      <td>8</td>\n",
       "      <td>1</td>\n",
       "      <td>6</td>\n",
       "      <td>10/9/74</td>\n",
       "    </tr>\n",
       "  </tbody>\n",
       "</table>\n",
       "</div>"
      ],
      "text/plain": [
       "   event_types block_num parcel_num event_date\n",
       "0            8         1          2     6/6/69\n",
       "1            8         1          3  06/171971\n",
       "2            8         1          4    7/13/72\n",
       "3            8         1          5    5/29/74\n",
       "4            8         1          6    10/9/74"
      ]
     },
     "execution_count": 985,
     "metadata": {},
     "output_type": "execute_result"
    }
   ],
   "source": [
    "endCase.head()"
   ]
  },
  {
   "cell_type": "code",
   "execution_count": null,
   "metadata": {
    "collapsed": true
   },
   "outputs": [],
   "source": []
  },
  {
   "cell_type": "markdown",
   "metadata": {},
   "source": [
    "## Concatenating all Events"
   ]
  },
  {
   "cell_type": "code",
   "execution_count": 1206,
   "metadata": {
    "collapsed": false
   },
   "outputs": [],
   "source": [
    "events_table = pd.concat([prev_events,final_events,appraisel,offerMade,decision,award,tenant, endCase])"
   ]
  },
  {
   "cell_type": "code",
   "execution_count": 1207,
   "metadata": {
    "collapsed": false
   },
   "outputs": [],
   "source": [
    "events_table.insert(0, 'event_id', range(1,1+len(events_table)))"
   ]
  },
  {
   "cell_type": "code",
   "execution_count": 1208,
   "metadata": {
    "collapsed": false
   },
   "outputs": [
    {
     "data": {
      "text/html": [
       "<div>\n",
       "<table border=\"1\" class=\"dataframe\">\n",
       "  <thead>\n",
       "    <tr style=\"text-align: right;\">\n",
       "      <th></th>\n",
       "      <th>event_id</th>\n",
       "      <th>block_num</th>\n",
       "      <th>event_date</th>\n",
       "      <th>event_types</th>\n",
       "      <th>extra_information</th>\n",
       "      <th>money</th>\n",
       "      <th>parcel_num</th>\n",
       "      <th>person</th>\n",
       "      <th>person_role</th>\n",
       "      <th>response</th>\n",
       "    </tr>\n",
       "  </thead>\n",
       "  <tbody>\n",
       "    <tr>\n",
       "      <th>0</th>\n",
       "      <td>1</td>\n",
       "      <td>1</td>\n",
       "      <td>-</td>\n",
       "      <td>1</td>\n",
       "      <td>NaN</td>\n",
       "      <td>NaN</td>\n",
       "      <td>2</td>\n",
       "      <td>Bessie S Kalogerakis</td>\n",
       "      <td>Owner</td>\n",
       "      <td>NaN</td>\n",
       "    </tr>\n",
       "    <tr>\n",
       "      <th>2</th>\n",
       "      <td>2</td>\n",
       "      <td>1</td>\n",
       "      <td>-</td>\n",
       "      <td>1</td>\n",
       "      <td>NaN</td>\n",
       "      <td>NaN</td>\n",
       "      <td>2</td>\n",
       "      <td>Amelia K Kalogerakis</td>\n",
       "      <td>Heir</td>\n",
       "      <td>NaN</td>\n",
       "    </tr>\n",
       "    <tr>\n",
       "      <th>3</th>\n",
       "      <td>3</td>\n",
       "      <td>1</td>\n",
       "      <td>-</td>\n",
       "      <td>1</td>\n",
       "      <td>NaN</td>\n",
       "      <td>NaN</td>\n",
       "      <td>2</td>\n",
       "      <td>Eva K Cleraderas</td>\n",
       "      <td>Heir</td>\n",
       "      <td>NaN</td>\n",
       "    </tr>\n",
       "    <tr>\n",
       "      <th>4</th>\n",
       "      <td>4</td>\n",
       "      <td>1</td>\n",
       "      <td>-</td>\n",
       "      <td>1</td>\n",
       "      <td>NaN</td>\n",
       "      <td>NaN</td>\n",
       "      <td>2</td>\n",
       "      <td>Steve Kalogerakis</td>\n",
       "      <td>Heir</td>\n",
       "      <td>NaN</td>\n",
       "    </tr>\n",
       "    <tr>\n",
       "      <th>5</th>\n",
       "      <td>5</td>\n",
       "      <td>1</td>\n",
       "      <td>8/1/67</td>\n",
       "      <td>1</td>\n",
       "      <td>NaN</td>\n",
       "      <td>NaN</td>\n",
       "      <td>3</td>\n",
       "      <td>W S Harrison</td>\n",
       "      <td>Owner</td>\n",
       "      <td>NaN</td>\n",
       "    </tr>\n",
       "  </tbody>\n",
       "</table>\n",
       "</div>"
      ],
      "text/plain": [
       "   event_id block_num event_date  event_types extra_information money  \\\n",
       "0         1         1          -            1               NaN   NaN   \n",
       "2         2         1          -            1               NaN   NaN   \n",
       "3         3         1          -            1               NaN   NaN   \n",
       "4         4         1          -            1               NaN   NaN   \n",
       "5         5         1     8/1/67            1               NaN   NaN   \n",
       "\n",
       "  parcel_num                person person_role response  \n",
       "0          2  Bessie S Kalogerakis       Owner      NaN  \n",
       "2          2  Amelia K Kalogerakis        Heir      NaN  \n",
       "3          2      Eva K Cleraderas        Heir      NaN  \n",
       "4          2     Steve Kalogerakis        Heir      NaN  \n",
       "5          3          W S Harrison       Owner      NaN  "
      ]
     },
     "execution_count": 1208,
     "metadata": {},
     "output_type": "execute_result"
    }
   ],
   "source": [
    "events_table.head()"
   ]
  },
  {
   "cell_type": "code",
   "execution_count": 1209,
   "metadata": {
    "collapsed": true
   },
   "outputs": [],
   "source": [
    "events_table.to_csv('output/events.csv')"
   ]
  },
  {
   "cell_type": "code",
   "execution_count": null,
   "metadata": {
    "collapsed": false
   },
   "outputs": [],
   "source": []
  },
  {
   "cell_type": "markdown",
   "metadata": {},
   "source": [
    "## People Cleaned Up"
   ]
  },
  {
   "cell_type": "code",
   "execution_count": 34,
   "metadata": {
    "collapsed": true
   },
   "outputs": [],
   "source": [
    "new_people = pd.read_csv(\"output/people_count_cleaned.csv\")"
   ]
  },
  {
   "cell_type": "code",
   "execution_count": 35,
   "metadata": {
    "collapsed": false
   },
   "outputs": [
    {
     "data": {
      "text/html": [
       "<div>\n",
       "<table border=\"1\" class=\"dataframe\">\n",
       "  <thead>\n",
       "    <tr style=\"text-align: right;\">\n",
       "      <th></th>\n",
       "      <th>id</th>\n",
       "      <th>name</th>\n",
       "      <th>count</th>\n",
       "      <th>real-name</th>\n",
       "      <th>Unnamed: 4</th>\n",
       "    </tr>\n",
       "  </thead>\n",
       "  <tbody>\n",
       "    <tr>\n",
       "      <th>0</th>\n",
       "      <td>1</td>\n",
       "      <td>?</td>\n",
       "      <td>2</td>\n",
       "      <td>?</td>\n",
       "      <td>NaN</td>\n",
       "    </tr>\n",
       "    <tr>\n",
       "      <th>1</th>\n",
       "      <td>2</td>\n",
       "      <td>A C Brandl</td>\n",
       "      <td>2</td>\n",
       "      <td>A C Brandl</td>\n",
       "      <td>NaN</td>\n",
       "    </tr>\n",
       "    <tr>\n",
       "      <th>2</th>\n",
       "      <td>3</td>\n",
       "      <td>A C Brandl Jr</td>\n",
       "      <td>3</td>\n",
       "      <td>A C Brandl Jr</td>\n",
       "      <td>NaN</td>\n",
       "    </tr>\n",
       "    <tr>\n",
       "      <th>3</th>\n",
       "      <td>4</td>\n",
       "      <td>A Carrell Jelliff</td>\n",
       "      <td>2</td>\n",
       "      <td>A Carrell Jelliff</td>\n",
       "      <td>NaN</td>\n",
       "    </tr>\n",
       "    <tr>\n",
       "      <th>4</th>\n",
       "      <td>5</td>\n",
       "      <td>A G Carver</td>\n",
       "      <td>6</td>\n",
       "      <td>A G Carver</td>\n",
       "      <td>NaN</td>\n",
       "    </tr>\n",
       "  </tbody>\n",
       "</table>\n",
       "</div>"
      ],
      "text/plain": [
       "   id               name  count          real-name Unnamed: 4\n",
       "0   1                  ?      2                  ?        NaN\n",
       "1   2         A C Brandl      2         A C Brandl        NaN\n",
       "2   3      A C Brandl Jr      3      A C Brandl Jr        NaN\n",
       "3   4  A Carrell Jelliff      2  A Carrell Jelliff        NaN\n",
       "4   5         A G Carver      6         A G Carver        NaN"
      ]
     },
     "execution_count": 35,
     "metadata": {},
     "output_type": "execute_result"
    }
   ],
   "source": [
    "new_people.head()"
   ]
  },
  {
   "cell_type": "code",
   "execution_count": 36,
   "metadata": {
    "collapsed": true
   },
   "outputs": [],
   "source": [
    "new_people = new_people[[\"id\", \"name\", \"real-name\"]]"
   ]
  },
  {
   "cell_type": "code",
   "execution_count": 37,
   "metadata": {
    "collapsed": false
   },
   "outputs": [],
   "source": [
    "real_name = new_people.groupby(\"real-name\").agg(\"count\")"
   ]
  },
  {
   "cell_type": "code",
   "execution_count": 38,
   "metadata": {
    "collapsed": false
   },
   "outputs": [],
   "source": [
    "real_name[\"name\"] = real_name.index"
   ]
  },
  {
   "cell_type": "code",
   "execution_count": 39,
   "metadata": {
    "collapsed": false
   },
   "outputs": [],
   "source": [
    "real_name.id = range(1,1+len(real_name))"
   ]
  },
  {
   "cell_type": "code",
   "execution_count": 40,
   "metadata": {
    "collapsed": false
   },
   "outputs": [],
   "source": [
    "real_name.index = range(1,1+len(real_name))"
   ]
  },
  {
   "cell_type": "code",
   "execution_count": 41,
   "metadata": {
    "collapsed": false
   },
   "outputs": [
    {
     "data": {
      "text/html": [
       "<div>\n",
       "<table border=\"1\" class=\"dataframe\">\n",
       "  <thead>\n",
       "    <tr style=\"text-align: right;\">\n",
       "      <th></th>\n",
       "      <th>id</th>\n",
       "      <th>name</th>\n",
       "    </tr>\n",
       "  </thead>\n",
       "  <tbody>\n",
       "    <tr>\n",
       "      <th>1</th>\n",
       "      <td>1</td>\n",
       "      <td>?</td>\n",
       "    </tr>\n",
       "    <tr>\n",
       "      <th>2</th>\n",
       "      <td>2</td>\n",
       "      <td>A C Brandl</td>\n",
       "    </tr>\n",
       "    <tr>\n",
       "      <th>3</th>\n",
       "      <td>3</td>\n",
       "      <td>A C Brandl Jr</td>\n",
       "    </tr>\n",
       "    <tr>\n",
       "      <th>4</th>\n",
       "      <td>4</td>\n",
       "      <td>A Carrell Jelliff</td>\n",
       "    </tr>\n",
       "    <tr>\n",
       "      <th>5</th>\n",
       "      <td>5</td>\n",
       "      <td>A G Carver</td>\n",
       "    </tr>\n",
       "  </tbody>\n",
       "</table>\n",
       "</div>"
      ],
      "text/plain": [
       "   id               name\n",
       "1   1                  ?\n",
       "2   2         A C Brandl\n",
       "3   3      A C Brandl Jr\n",
       "4   4  A Carrell Jelliff\n",
       "5   5         A G Carver"
      ]
     },
     "execution_count": 41,
     "metadata": {},
     "output_type": "execute_result"
    }
   ],
   "source": [
    "real_name.head()"
   ]
  },
  {
   "cell_type": "code",
   "execution_count": 42,
   "metadata": {
    "collapsed": true
   },
   "outputs": [],
   "source": [
    "real_name.to_csv(\"output/real_people.csv\")"
   ]
  },
  {
   "cell_type": "code",
   "execution_count": 43,
   "metadata": {
    "collapsed": true
   },
   "outputs": [],
   "source": [
    "new_people = new_people.merge(real_name, how='left', left_on='real-name', right_on='name')"
   ]
  },
  {
   "cell_type": "code",
   "execution_count": 44,
   "metadata": {
    "collapsed": false
   },
   "outputs": [],
   "source": [
    "new_people = new_people[[\"id_x\", \"name_x\", \"id_y\", \"name_y\"]]"
   ]
  },
  {
   "cell_type": "code",
   "execution_count": 45,
   "metadata": {
    "collapsed": true
   },
   "outputs": [],
   "source": [
    "new_people.columns = [\"id\", \"name\", \"realname_id\", \"realname\"]"
   ]
  },
  {
   "cell_type": "code",
   "execution_count": 46,
   "metadata": {
    "collapsed": true
   },
   "outputs": [],
   "source": [
    "new_people.to_csv(\"output/people.csv\", index=False)"
   ]
  },
  {
   "cell_type": "markdown",
   "metadata": {},
   "source": [
    "# Join othe tables based on the Event table"
   ]
  },
  {
   "cell_type": "code",
   "execution_count": 128,
   "metadata": {
    "collapsed": true
   },
   "outputs": [],
   "source": [
    "new_people = pd.read_csv(\"output/People.csv\")"
   ]
  },
  {
   "cell_type": "code",
   "execution_count": 129,
   "metadata": {
    "collapsed": false
   },
   "outputs": [
    {
     "data": {
      "text/html": [
       "<div>\n",
       "<table border=\"1\" class=\"dataframe\">\n",
       "  <thead>\n",
       "    <tr style=\"text-align: right;\">\n",
       "      <th></th>\n",
       "      <th>id</th>\n",
       "      <th>name</th>\n",
       "      <th>realname_id</th>\n",
       "      <th>realname</th>\n",
       "    </tr>\n",
       "  </thead>\n",
       "  <tbody>\n",
       "    <tr>\n",
       "      <th>0</th>\n",
       "      <td>1</td>\n",
       "      <td>?</td>\n",
       "      <td>1.0</td>\n",
       "      <td>?</td>\n",
       "    </tr>\n",
       "    <tr>\n",
       "      <th>1</th>\n",
       "      <td>2</td>\n",
       "      <td>A C Brandl</td>\n",
       "      <td>2.0</td>\n",
       "      <td>A C Brandl</td>\n",
       "    </tr>\n",
       "    <tr>\n",
       "      <th>2</th>\n",
       "      <td>3</td>\n",
       "      <td>A C Brandl Jr</td>\n",
       "      <td>3.0</td>\n",
       "      <td>A C Brandl Jr</td>\n",
       "    </tr>\n",
       "    <tr>\n",
       "      <th>3</th>\n",
       "      <td>4</td>\n",
       "      <td>A Carrell Jelliff</td>\n",
       "      <td>4.0</td>\n",
       "      <td>A Carrell Jelliff</td>\n",
       "    </tr>\n",
       "    <tr>\n",
       "      <th>4</th>\n",
       "      <td>5</td>\n",
       "      <td>A G Carver</td>\n",
       "      <td>5.0</td>\n",
       "      <td>A G Carver</td>\n",
       "    </tr>\n",
       "  </tbody>\n",
       "</table>\n",
       "</div>"
      ],
      "text/plain": [
       "   id               name  realname_id           realname\n",
       "0   1                  ?          1.0                  ?\n",
       "1   2         A C Brandl          2.0         A C Brandl\n",
       "2   3      A C Brandl Jr          3.0      A C Brandl Jr\n",
       "3   4  A Carrell Jelliff          4.0  A Carrell Jelliff\n",
       "4   5         A G Carver          5.0         A G Carver"
      ]
     },
     "execution_count": 129,
     "metadata": {},
     "output_type": "execute_result"
    }
   ],
   "source": [
    "new_people.head()"
   ]
  },
  {
   "cell_type": "code",
   "execution_count": 130,
   "metadata": {
    "collapsed": true
   },
   "outputs": [],
   "source": [
    "events_table = pd.read_csv(\"output/final_events.csv\")"
   ]
  },
  {
   "cell_type": "code",
   "execution_count": 131,
   "metadata": {
    "collapsed": false
   },
   "outputs": [
    {
     "data": {
      "text/html": [
       "<div>\n",
       "<table border=\"1\" class=\"dataframe\">\n",
       "  <thead>\n",
       "    <tr style=\"text-align: right;\">\n",
       "      <th></th>\n",
       "      <th>event_id</th>\n",
       "      <th>response</th>\n",
       "      <th>extra_information</th>\n",
       "      <th>parcel_id</th>\n",
       "      <th>event_date</th>\n",
       "      <th>event_types</th>\n",
       "      <th>money</th>\n",
       "      <th>person</th>\n",
       "      <th>person_role</th>\n",
       "      <th>eid</th>\n",
       "    </tr>\n",
       "  </thead>\n",
       "  <tbody>\n",
       "    <tr>\n",
       "      <th>0</th>\n",
       "      <td>1</td>\n",
       "      <td>NaN</td>\n",
       "      <td>NaN</td>\n",
       "      <td>1</td>\n",
       "      <td>NaN</td>\n",
       "      <td>1</td>\n",
       "      <td>NaN</td>\n",
       "      <td>Bessie S Kalogerakis</td>\n",
       "      <td>Owner</td>\n",
       "      <td>1</td>\n",
       "    </tr>\n",
       "    <tr>\n",
       "      <th>1</th>\n",
       "      <td>2</td>\n",
       "      <td>NaN</td>\n",
       "      <td>NaN</td>\n",
       "      <td>1</td>\n",
       "      <td>NaN</td>\n",
       "      <td>1</td>\n",
       "      <td>NaN</td>\n",
       "      <td>Amelia K Kalogerakis</td>\n",
       "      <td>Heir</td>\n",
       "      <td>2</td>\n",
       "    </tr>\n",
       "    <tr>\n",
       "      <th>2</th>\n",
       "      <td>3</td>\n",
       "      <td>NaN</td>\n",
       "      <td>NaN</td>\n",
       "      <td>1</td>\n",
       "      <td>NaN</td>\n",
       "      <td>1</td>\n",
       "      <td>NaN</td>\n",
       "      <td>Eva K Cleraderas</td>\n",
       "      <td>Heir</td>\n",
       "      <td>3</td>\n",
       "    </tr>\n",
       "    <tr>\n",
       "      <th>3</th>\n",
       "      <td>4</td>\n",
       "      <td>NaN</td>\n",
       "      <td>NaN</td>\n",
       "      <td>1</td>\n",
       "      <td>NaN</td>\n",
       "      <td>1</td>\n",
       "      <td>NaN</td>\n",
       "      <td>Steve Kalogerakis</td>\n",
       "      <td>Heir</td>\n",
       "      <td>4</td>\n",
       "    </tr>\n",
       "    <tr>\n",
       "      <th>4</th>\n",
       "      <td>5</td>\n",
       "      <td>NaN</td>\n",
       "      <td>NaN</td>\n",
       "      <td>2</td>\n",
       "      <td>8/1/67</td>\n",
       "      <td>1</td>\n",
       "      <td>NaN</td>\n",
       "      <td>W S Harrison</td>\n",
       "      <td>Owner</td>\n",
       "      <td>5</td>\n",
       "    </tr>\n",
       "  </tbody>\n",
       "</table>\n",
       "</div>"
      ],
      "text/plain": [
       "   event_id response extra_information  parcel_id event_date  event_types  \\\n",
       "0         1      NaN               NaN          1        NaN            1   \n",
       "1         2      NaN               NaN          1        NaN            1   \n",
       "2         3      NaN               NaN          1        NaN            1   \n",
       "3         4      NaN               NaN          1        NaN            1   \n",
       "4         5      NaN               NaN          2     8/1/67            1   \n",
       "\n",
       "  money                person person_role  eid  \n",
       "0   NaN  Bessie S Kalogerakis       Owner    1  \n",
       "1   NaN  Amelia K Kalogerakis        Heir    2  \n",
       "2   NaN      Eva K Cleraderas        Heir    3  \n",
       "3   NaN     Steve Kalogerakis        Heir    4  \n",
       "4   NaN          W S Harrison       Owner    5  "
      ]
     },
     "execution_count": 131,
     "metadata": {},
     "output_type": "execute_result"
    }
   ],
   "source": [
    "events_table.head()"
   ]
  },
  {
   "cell_type": "code",
   "execution_count": 132,
   "metadata": {
    "collapsed": false
   },
   "outputs": [],
   "source": [
    "events_table = events_table.merge(new_people, how='left', left_on='person', right_on='name')"
   ]
  },
  {
   "cell_type": "code",
   "execution_count": 133,
   "metadata": {
    "collapsed": false
   },
   "outputs": [
    {
     "data": {
      "text/html": [
       "<div>\n",
       "<table border=\"1\" class=\"dataframe\">\n",
       "  <thead>\n",
       "    <tr style=\"text-align: right;\">\n",
       "      <th></th>\n",
       "      <th>event_id</th>\n",
       "      <th>response</th>\n",
       "      <th>extra_information</th>\n",
       "      <th>parcel_id</th>\n",
       "      <th>event_date</th>\n",
       "      <th>event_types</th>\n",
       "      <th>money</th>\n",
       "      <th>person</th>\n",
       "      <th>person_role</th>\n",
       "      <th>eid</th>\n",
       "      <th>id</th>\n",
       "      <th>name</th>\n",
       "      <th>realname_id</th>\n",
       "      <th>realname</th>\n",
       "    </tr>\n",
       "  </thead>\n",
       "  <tbody>\n",
       "    <tr>\n",
       "      <th>0</th>\n",
       "      <td>1</td>\n",
       "      <td>NaN</td>\n",
       "      <td>NaN</td>\n",
       "      <td>1</td>\n",
       "      <td>NaN</td>\n",
       "      <td>1</td>\n",
       "      <td>NaN</td>\n",
       "      <td>Bessie S Kalogerakis</td>\n",
       "      <td>Owner</td>\n",
       "      <td>1</td>\n",
       "      <td>156.0</td>\n",
       "      <td>Bessie S Kalogerakis</td>\n",
       "      <td>142.0</td>\n",
       "      <td>Bessie S Kalogerakis</td>\n",
       "    </tr>\n",
       "    <tr>\n",
       "      <th>1</th>\n",
       "      <td>2</td>\n",
       "      <td>NaN</td>\n",
       "      <td>NaN</td>\n",
       "      <td>1</td>\n",
       "      <td>NaN</td>\n",
       "      <td>1</td>\n",
       "      <td>NaN</td>\n",
       "      <td>Amelia K Kalogerakis</td>\n",
       "      <td>Heir</td>\n",
       "      <td>2</td>\n",
       "      <td>69.0</td>\n",
       "      <td>Amelia K Kalogerakis</td>\n",
       "      <td>61.0</td>\n",
       "      <td>Amelia K Kalogerakis</td>\n",
       "    </tr>\n",
       "    <tr>\n",
       "      <th>2</th>\n",
       "      <td>3</td>\n",
       "      <td>NaN</td>\n",
       "      <td>NaN</td>\n",
       "      <td>1</td>\n",
       "      <td>NaN</td>\n",
       "      <td>1</td>\n",
       "      <td>NaN</td>\n",
       "      <td>Eva K Cleraderas</td>\n",
       "      <td>Heir</td>\n",
       "      <td>3</td>\n",
       "      <td>504.0</td>\n",
       "      <td>Eva K Cleraderas</td>\n",
       "      <td>458.0</td>\n",
       "      <td>Eva K Cleraderas</td>\n",
       "    </tr>\n",
       "    <tr>\n",
       "      <th>3</th>\n",
       "      <td>4</td>\n",
       "      <td>NaN</td>\n",
       "      <td>NaN</td>\n",
       "      <td>1</td>\n",
       "      <td>NaN</td>\n",
       "      <td>1</td>\n",
       "      <td>NaN</td>\n",
       "      <td>Steve Kalogerakis</td>\n",
       "      <td>Heir</td>\n",
       "      <td>4</td>\n",
       "      <td>1620.0</td>\n",
       "      <td>Steve Kalogerakis</td>\n",
       "      <td>1443.0</td>\n",
       "      <td>Steve Kalogerakis</td>\n",
       "    </tr>\n",
       "    <tr>\n",
       "      <th>4</th>\n",
       "      <td>5</td>\n",
       "      <td>NaN</td>\n",
       "      <td>NaN</td>\n",
       "      <td>2</td>\n",
       "      <td>8/1/67</td>\n",
       "      <td>1</td>\n",
       "      <td>NaN</td>\n",
       "      <td>W S Harrison</td>\n",
       "      <td>Owner</td>\n",
       "      <td>5</td>\n",
       "      <td>1745.0</td>\n",
       "      <td>W S Harrison</td>\n",
       "      <td>1552.0</td>\n",
       "      <td>W S Harrison</td>\n",
       "    </tr>\n",
       "  </tbody>\n",
       "</table>\n",
       "</div>"
      ],
      "text/plain": [
       "   event_id response extra_information  parcel_id event_date  event_types  \\\n",
       "0         1      NaN               NaN          1        NaN            1   \n",
       "1         2      NaN               NaN          1        NaN            1   \n",
       "2         3      NaN               NaN          1        NaN            1   \n",
       "3         4      NaN               NaN          1        NaN            1   \n",
       "4         5      NaN               NaN          2     8/1/67            1   \n",
       "\n",
       "  money                person person_role  eid      id                  name  \\\n",
       "0   NaN  Bessie S Kalogerakis       Owner    1   156.0  Bessie S Kalogerakis   \n",
       "1   NaN  Amelia K Kalogerakis        Heir    2    69.0  Amelia K Kalogerakis   \n",
       "2   NaN      Eva K Cleraderas        Heir    3   504.0      Eva K Cleraderas   \n",
       "3   NaN     Steve Kalogerakis        Heir    4  1620.0     Steve Kalogerakis   \n",
       "4   NaN          W S Harrison       Owner    5  1745.0          W S Harrison   \n",
       "\n",
       "   realname_id              realname  \n",
       "0        142.0  Bessie S Kalogerakis  \n",
       "1         61.0  Amelia K Kalogerakis  \n",
       "2        458.0      Eva K Cleraderas  \n",
       "3       1443.0     Steve Kalogerakis  \n",
       "4       1552.0          W S Harrison  "
      ]
     },
     "execution_count": 133,
     "metadata": {},
     "output_type": "execute_result"
    }
   ],
   "source": [
    "events_table.head()"
   ]
  },
  {
   "cell_type": "code",
   "execution_count": 134,
   "metadata": {
    "collapsed": false
   },
   "outputs": [],
   "source": [
    "event_assc = events_table[[\"eid\", \"realname_id\", \"person_role\"]]"
   ]
  },
  {
   "cell_type": "code",
   "execution_count": null,
   "metadata": {
    "collapsed": false
   },
   "outputs": [],
   "source": []
  },
  {
   "cell_type": "code",
   "execution_count": 135,
   "metadata": {
    "collapsed": false
   },
   "outputs": [],
   "source": [
    "event_assc = event_assc.sort_values(by='realname_id', ascending=True)"
   ]
  },
  {
   "cell_type": "code",
   "execution_count": 136,
   "metadata": {
    "collapsed": false
   },
   "outputs": [
    {
     "data": {
      "text/html": [
       "<div>\n",
       "<table border=\"1\" class=\"dataframe\">\n",
       "  <thead>\n",
       "    <tr style=\"text-align: right;\">\n",
       "      <th></th>\n",
       "      <th>eid</th>\n",
       "      <th>realname_id</th>\n",
       "      <th>person_role</th>\n",
       "    </tr>\n",
       "  </thead>\n",
       "  <tbody>\n",
       "    <tr>\n",
       "      <th>5533</th>\n",
       "      <td>5528</td>\n",
       "      <td>1.0</td>\n",
       "      <td>Owner</td>\n",
       "    </tr>\n",
       "    <tr>\n",
       "      <th>6963</th>\n",
       "      <td>6956</td>\n",
       "      <td>1.0</td>\n",
       "      <td>Owner</td>\n",
       "    </tr>\n",
       "    <tr>\n",
       "      <th>1403</th>\n",
       "      <td>1402</td>\n",
       "      <td>2.0</td>\n",
       "      <td>Purchaser</td>\n",
       "    </tr>\n",
       "    <tr>\n",
       "      <th>155</th>\n",
       "      <td>156</td>\n",
       "      <td>2.0</td>\n",
       "      <td>Owner</td>\n",
       "    </tr>\n",
       "    <tr>\n",
       "      <th>7776</th>\n",
       "      <td>7769</td>\n",
       "      <td>3.0</td>\n",
       "      <td>Owner</td>\n",
       "    </tr>\n",
       "  </tbody>\n",
       "</table>\n",
       "</div>"
      ],
      "text/plain": [
       "       eid  realname_id person_role\n",
       "5533  5528          1.0       Owner\n",
       "6963  6956          1.0       Owner\n",
       "1403  1402          2.0   Purchaser\n",
       "155    156          2.0       Owner\n",
       "7776  7769          3.0       Owner"
      ]
     },
     "execution_count": 136,
     "metadata": {},
     "output_type": "execute_result"
    }
   ],
   "source": [
    "event_assc.head()"
   ]
  },
  {
   "cell_type": "code",
   "execution_count": 137,
   "metadata": {
    "collapsed": true
   },
   "outputs": [],
   "source": [
    "event_assc.insert(0,'id',range(1,1+len(event_assc)))"
   ]
  },
  {
   "cell_type": "code",
   "execution_count": 142,
   "metadata": {
    "collapsed": false
   },
   "outputs": [],
   "source": [
    "event_assc.dropna(inplace=True)"
   ]
  },
  {
   "cell_type": "code",
   "execution_count": 144,
   "metadata": {
    "collapsed": false
   },
   "outputs": [],
   "source": [
    "event_assc[\"realname_id\"] = event_assc[\"realname_id\"].astype(int)"
   ]
  },
  {
   "cell_type": "code",
   "execution_count": 145,
   "metadata": {
    "collapsed": true
   },
   "outputs": [],
   "source": [
    "event_assc.to_csv('output/event_association.csv', index=False)"
   ]
  },
  {
   "cell_type": "code",
   "execution_count": null,
   "metadata": {
    "collapsed": true
   },
   "outputs": [],
   "source": [
    "#After this, I manually removed rows that don't have realname_ids"
   ]
  },
  {
   "cell_type": "markdown",
   "metadata": {
    "collapsed": true
   },
   "source": [
    "## Association Table Clean-up"
   ]
  },
  {
   "cell_type": "code",
   "execution_count": 1301,
   "metadata": {
    "collapsed": false
   },
   "outputs": [],
   "source": [
    "assoc = pd.read_csv(\"output/event_association.csv\")"
   ]
  },
  {
   "cell_type": "code",
   "execution_count": 1302,
   "metadata": {
    "collapsed": false
   },
   "outputs": [],
   "source": [
    "assoc[\"realname_id\"] = assoc.realname_id.astype(int)"
   ]
  },
  {
   "cell_type": "code",
   "execution_count": 1303,
   "metadata": {
    "collapsed": false
   },
   "outputs": [
    {
     "data": {
      "text/html": [
       "<div>\n",
       "<table border=\"1\" class=\"dataframe\">\n",
       "  <thead>\n",
       "    <tr style=\"text-align: right;\">\n",
       "      <th></th>\n",
       "      <th>Unnamed: 0</th>\n",
       "      <th>id</th>\n",
       "      <th>event_id</th>\n",
       "      <th>realname_id</th>\n",
       "      <th>person_role</th>\n",
       "    </tr>\n",
       "  </thead>\n",
       "  <tbody>\n",
       "    <tr>\n",
       "      <th>0</th>\n",
       "      <td>4878</td>\n",
       "      <td>1</td>\n",
       "      <td>4876</td>\n",
       "      <td>1</td>\n",
       "      <td>Owner</td>\n",
       "    </tr>\n",
       "    <tr>\n",
       "      <th>1</th>\n",
       "      <td>6164</td>\n",
       "      <td>2</td>\n",
       "      <td>6161</td>\n",
       "      <td>1</td>\n",
       "      <td>Owner</td>\n",
       "    </tr>\n",
       "    <tr>\n",
       "      <th>2</th>\n",
       "      <td>155</td>\n",
       "      <td>3</td>\n",
       "      <td>156</td>\n",
       "      <td>2</td>\n",
       "      <td>Owner</td>\n",
       "    </tr>\n",
       "    <tr>\n",
       "      <th>3</th>\n",
       "      <td>1328</td>\n",
       "      <td>4</td>\n",
       "      <td>1328</td>\n",
       "      <td>2</td>\n",
       "      <td>Purchaser</td>\n",
       "    </tr>\n",
       "    <tr>\n",
       "      <th>4</th>\n",
       "      <td>6939</td>\n",
       "      <td>5</td>\n",
       "      <td>6936</td>\n",
       "      <td>3</td>\n",
       "      <td>Owner</td>\n",
       "    </tr>\n",
       "  </tbody>\n",
       "</table>\n",
       "</div>"
      ],
      "text/plain": [
       "   Unnamed: 0  id  event_id  realname_id person_role\n",
       "0        4878   1      4876            1       Owner\n",
       "1        6164   2      6161            1       Owner\n",
       "2         155   3       156            2       Owner\n",
       "3        1328   4      1328            2   Purchaser\n",
       "4        6939   5      6936            3       Owner"
      ]
     },
     "execution_count": 1303,
     "metadata": {},
     "output_type": "execute_result"
    }
   ],
   "source": [
    "assoc.head()"
   ]
  },
  {
   "cell_type": "code",
   "execution_count": 1304,
   "metadata": {
    "collapsed": true
   },
   "outputs": [],
   "source": [
    "assoc = assoc[[\"id\", \"event_id\", \"realname_id\", \"person_role\"]]"
   ]
  },
  {
   "cell_type": "code",
   "execution_count": 1308,
   "metadata": {
    "collapsed": true
   },
   "outputs": [],
   "source": [
    "assoc.to_csv('output/event_association.csv', index=False)"
   ]
  },
  {
   "cell_type": "code",
   "execution_count": null,
   "metadata": {
    "collapsed": true
   },
   "outputs": [],
   "source": []
  },
  {
   "cell_type": "markdown",
   "metadata": {
    "collapsed": true
   },
   "source": [
    "## Linking Parcel IDs"
   ]
  },
  {
   "cell_type": "code",
   "execution_count": 107,
   "metadata": {
    "collapsed": false
   },
   "outputs": [],
   "source": [
    "events_table = pd.read_csv(\"output/Events.csv\")"
   ]
  },
  {
   "cell_type": "code",
   "execution_count": 108,
   "metadata": {
    "collapsed": false
   },
   "outputs": [
    {
     "data": {
      "text/html": [
       "<div>\n",
       "<table border=\"1\" class=\"dataframe\">\n",
       "  <thead>\n",
       "    <tr style=\"text-align: right;\">\n",
       "      <th></th>\n",
       "      <th>Unnamed: 0</th>\n",
       "      <th>event_id</th>\n",
       "      <th>block_num</th>\n",
       "      <th>event_date</th>\n",
       "      <th>event_types</th>\n",
       "      <th>extra_information</th>\n",
       "      <th>money</th>\n",
       "      <th>parcel_num</th>\n",
       "      <th>person</th>\n",
       "      <th>person_role</th>\n",
       "      <th>response</th>\n",
       "    </tr>\n",
       "  </thead>\n",
       "  <tbody>\n",
       "    <tr>\n",
       "      <th>0</th>\n",
       "      <td>0</td>\n",
       "      <td>1</td>\n",
       "      <td>1</td>\n",
       "      <td>NaN</td>\n",
       "      <td>1</td>\n",
       "      <td>NaN</td>\n",
       "      <td>NaN</td>\n",
       "      <td>2</td>\n",
       "      <td>Bessie S Kalogerakis</td>\n",
       "      <td>Owner</td>\n",
       "      <td>NaN</td>\n",
       "    </tr>\n",
       "    <tr>\n",
       "      <th>1</th>\n",
       "      <td>2</td>\n",
       "      <td>2</td>\n",
       "      <td>1</td>\n",
       "      <td>NaN</td>\n",
       "      <td>1</td>\n",
       "      <td>NaN</td>\n",
       "      <td>NaN</td>\n",
       "      <td>2</td>\n",
       "      <td>Amelia K Kalogerakis</td>\n",
       "      <td>Heir</td>\n",
       "      <td>NaN</td>\n",
       "    </tr>\n",
       "    <tr>\n",
       "      <th>2</th>\n",
       "      <td>3</td>\n",
       "      <td>3</td>\n",
       "      <td>1</td>\n",
       "      <td>NaN</td>\n",
       "      <td>1</td>\n",
       "      <td>NaN</td>\n",
       "      <td>NaN</td>\n",
       "      <td>2</td>\n",
       "      <td>Eva K Cleraderas</td>\n",
       "      <td>Heir</td>\n",
       "      <td>NaN</td>\n",
       "    </tr>\n",
       "    <tr>\n",
       "      <th>3</th>\n",
       "      <td>4</td>\n",
       "      <td>4</td>\n",
       "      <td>1</td>\n",
       "      <td>NaN</td>\n",
       "      <td>1</td>\n",
       "      <td>NaN</td>\n",
       "      <td>NaN</td>\n",
       "      <td>2</td>\n",
       "      <td>Steve Kalogerakis</td>\n",
       "      <td>Heir</td>\n",
       "      <td>NaN</td>\n",
       "    </tr>\n",
       "    <tr>\n",
       "      <th>4</th>\n",
       "      <td>5</td>\n",
       "      <td>5</td>\n",
       "      <td>1</td>\n",
       "      <td>8/1/67</td>\n",
       "      <td>1</td>\n",
       "      <td>NaN</td>\n",
       "      <td>NaN</td>\n",
       "      <td>3</td>\n",
       "      <td>W S Harrison</td>\n",
       "      <td>Owner</td>\n",
       "      <td>NaN</td>\n",
       "    </tr>\n",
       "  </tbody>\n",
       "</table>\n",
       "</div>"
      ],
      "text/plain": [
       "   Unnamed: 0  event_id block_num event_date  event_types extra_information  \\\n",
       "0           0         1         1        NaN            1               NaN   \n",
       "1           2         2         1        NaN            1               NaN   \n",
       "2           3         3         1        NaN            1               NaN   \n",
       "3           4         4         1        NaN            1               NaN   \n",
       "4           5         5         1     8/1/67            1               NaN   \n",
       "\n",
       "  money parcel_num                person person_role response  \n",
       "0   NaN          2  Bessie S Kalogerakis       Owner      NaN  \n",
       "1   NaN          2  Amelia K Kalogerakis        Heir      NaN  \n",
       "2   NaN          2      Eva K Cleraderas        Heir      NaN  \n",
       "3   NaN          2     Steve Kalogerakis        Heir      NaN  \n",
       "4   NaN          3          W S Harrison       Owner      NaN  "
      ]
     },
     "execution_count": 108,
     "metadata": {},
     "output_type": "execute_result"
    }
   ],
   "source": [
    "events_table.head()"
   ]
  },
  {
   "cell_type": "code",
   "execution_count": 109,
   "metadata": {
    "collapsed": true
   },
   "outputs": [],
   "source": [
    "parcel = pd.read_csv(\"output/Parcels.csv\")"
   ]
  },
  {
   "cell_type": "code",
   "execution_count": 110,
   "metadata": {
    "collapsed": false
   },
   "outputs": [
    {
     "data": {
      "text/html": [
       "<div>\n",
       "<table border=\"1\" class=\"dataframe\">\n",
       "  <thead>\n",
       "    <tr style=\"text-align: right;\">\n",
       "      <th></th>\n",
       "      <th>parcel_id</th>\n",
       "      <th>block_num</th>\n",
       "      <th>parcel_num</th>\n",
       "      <th>ward_num</th>\n",
       "      <th>land_use</th>\n",
       "    </tr>\n",
       "  </thead>\n",
       "  <tbody>\n",
       "    <tr>\n",
       "      <th>0</th>\n",
       "      <td>1</td>\n",
       "      <td>1</td>\n",
       "      <td>2</td>\n",
       "      <td>4</td>\n",
       "      <td>Commercial</td>\n",
       "    </tr>\n",
       "    <tr>\n",
       "      <th>1</th>\n",
       "      <td>2</td>\n",
       "      <td>1</td>\n",
       "      <td>3</td>\n",
       "      <td>4</td>\n",
       "      <td>Commercial</td>\n",
       "    </tr>\n",
       "    <tr>\n",
       "      <th>2</th>\n",
       "      <td>3</td>\n",
       "      <td>1</td>\n",
       "      <td>4</td>\n",
       "      <td>4</td>\n",
       "      <td>Commercial</td>\n",
       "    </tr>\n",
       "    <tr>\n",
       "      <th>3</th>\n",
       "      <td>4</td>\n",
       "      <td>1</td>\n",
       "      <td>5</td>\n",
       "      <td>4</td>\n",
       "      <td>Residential</td>\n",
       "    </tr>\n",
       "    <tr>\n",
       "      <th>4</th>\n",
       "      <td>5</td>\n",
       "      <td>1</td>\n",
       "      <td>6</td>\n",
       "      <td>4</td>\n",
       "      <td>Commercial</td>\n",
       "    </tr>\n",
       "  </tbody>\n",
       "</table>\n",
       "</div>"
      ],
      "text/plain": [
       "   parcel_id block_num parcel_num ward_num     land_use\n",
       "0          1         1          2        4   Commercial\n",
       "1          2         1          3        4   Commercial\n",
       "2          3         1          4        4   Commercial\n",
       "3          4         1          5        4  Residential\n",
       "4          5         1          6        4   Commercial"
      ]
     },
     "execution_count": 110,
     "metadata": {},
     "output_type": "execute_result"
    }
   ],
   "source": [
    "parcel.head()"
   ]
  },
  {
   "cell_type": "code",
   "execution_count": null,
   "metadata": {
    "collapsed": true
   },
   "outputs": [],
   "source": []
  },
  {
   "cell_type": "code",
   "execution_count": 111,
   "metadata": {
    "collapsed": true
   },
   "outputs": [],
   "source": [
    "events_table = events_table.merge(parcel, how='left', left_on=['block_num','parcel_num'], right_on=['block_num','parcel_num'])"
   ]
  },
  {
   "cell_type": "code",
   "execution_count": 112,
   "metadata": {
    "collapsed": false
   },
   "outputs": [
    {
     "data": {
      "text/html": [
       "<div>\n",
       "<table border=\"1\" class=\"dataframe\">\n",
       "  <thead>\n",
       "    <tr style=\"text-align: right;\">\n",
       "      <th></th>\n",
       "      <th>Unnamed: 0</th>\n",
       "      <th>event_id</th>\n",
       "      <th>block_num</th>\n",
       "      <th>event_date</th>\n",
       "      <th>event_types</th>\n",
       "      <th>extra_information</th>\n",
       "      <th>money</th>\n",
       "      <th>parcel_num</th>\n",
       "      <th>person</th>\n",
       "      <th>person_role</th>\n",
       "      <th>response</th>\n",
       "      <th>parcel_id</th>\n",
       "      <th>ward_num</th>\n",
       "      <th>land_use</th>\n",
       "    </tr>\n",
       "  </thead>\n",
       "  <tbody>\n",
       "    <tr>\n",
       "      <th>0</th>\n",
       "      <td>0</td>\n",
       "      <td>1</td>\n",
       "      <td>1</td>\n",
       "      <td>NaN</td>\n",
       "      <td>1</td>\n",
       "      <td>NaN</td>\n",
       "      <td>NaN</td>\n",
       "      <td>2</td>\n",
       "      <td>Bessie S Kalogerakis</td>\n",
       "      <td>Owner</td>\n",
       "      <td>NaN</td>\n",
       "      <td>1</td>\n",
       "      <td>4</td>\n",
       "      <td>Commercial</td>\n",
       "    </tr>\n",
       "    <tr>\n",
       "      <th>1</th>\n",
       "      <td>2</td>\n",
       "      <td>2</td>\n",
       "      <td>1</td>\n",
       "      <td>NaN</td>\n",
       "      <td>1</td>\n",
       "      <td>NaN</td>\n",
       "      <td>NaN</td>\n",
       "      <td>2</td>\n",
       "      <td>Amelia K Kalogerakis</td>\n",
       "      <td>Heir</td>\n",
       "      <td>NaN</td>\n",
       "      <td>1</td>\n",
       "      <td>4</td>\n",
       "      <td>Commercial</td>\n",
       "    </tr>\n",
       "    <tr>\n",
       "      <th>2</th>\n",
       "      <td>3</td>\n",
       "      <td>3</td>\n",
       "      <td>1</td>\n",
       "      <td>NaN</td>\n",
       "      <td>1</td>\n",
       "      <td>NaN</td>\n",
       "      <td>NaN</td>\n",
       "      <td>2</td>\n",
       "      <td>Eva K Cleraderas</td>\n",
       "      <td>Heir</td>\n",
       "      <td>NaN</td>\n",
       "      <td>1</td>\n",
       "      <td>4</td>\n",
       "      <td>Commercial</td>\n",
       "    </tr>\n",
       "    <tr>\n",
       "      <th>3</th>\n",
       "      <td>4</td>\n",
       "      <td>4</td>\n",
       "      <td>1</td>\n",
       "      <td>NaN</td>\n",
       "      <td>1</td>\n",
       "      <td>NaN</td>\n",
       "      <td>NaN</td>\n",
       "      <td>2</td>\n",
       "      <td>Steve Kalogerakis</td>\n",
       "      <td>Heir</td>\n",
       "      <td>NaN</td>\n",
       "      <td>1</td>\n",
       "      <td>4</td>\n",
       "      <td>Commercial</td>\n",
       "    </tr>\n",
       "    <tr>\n",
       "      <th>4</th>\n",
       "      <td>5</td>\n",
       "      <td>5</td>\n",
       "      <td>1</td>\n",
       "      <td>8/1/67</td>\n",
       "      <td>1</td>\n",
       "      <td>NaN</td>\n",
       "      <td>NaN</td>\n",
       "      <td>3</td>\n",
       "      <td>W S Harrison</td>\n",
       "      <td>Owner</td>\n",
       "      <td>NaN</td>\n",
       "      <td>2</td>\n",
       "      <td>4</td>\n",
       "      <td>Commercial</td>\n",
       "    </tr>\n",
       "  </tbody>\n",
       "</table>\n",
       "</div>"
      ],
      "text/plain": [
       "   Unnamed: 0  event_id block_num event_date  event_types extra_information  \\\n",
       "0           0         1         1        NaN            1               NaN   \n",
       "1           2         2         1        NaN            1               NaN   \n",
       "2           3         3         1        NaN            1               NaN   \n",
       "3           4         4         1        NaN            1               NaN   \n",
       "4           5         5         1     8/1/67            1               NaN   \n",
       "\n",
       "  money parcel_num                person person_role response  parcel_id  \\\n",
       "0   NaN          2  Bessie S Kalogerakis       Owner      NaN          1   \n",
       "1   NaN          2  Amelia K Kalogerakis        Heir      NaN          1   \n",
       "2   NaN          2      Eva K Cleraderas        Heir      NaN          1   \n",
       "3   NaN          2     Steve Kalogerakis        Heir      NaN          1   \n",
       "4   NaN          3          W S Harrison       Owner      NaN          2   \n",
       "\n",
       "  ward_num    land_use  \n",
       "0        4  Commercial  \n",
       "1        4  Commercial  \n",
       "2        4  Commercial  \n",
       "3        4  Commercial  \n",
       "4        4  Commercial  "
      ]
     },
     "execution_count": 112,
     "metadata": {},
     "output_type": "execute_result"
    }
   ],
   "source": [
    "events_table.head()"
   ]
  },
  {
   "cell_type": "code",
   "execution_count": 113,
   "metadata": {
    "collapsed": false
   },
   "outputs": [],
   "source": [
    "events = events_table[[\"event_id\", \"response\", \"extra_information\", \"parcel_id\",\"event_date\",\"event_types\",\"money\", \"person\", \"person_role\"]]"
   ]
  },
  {
   "cell_type": "code",
   "execution_count": 124,
   "metadata": {
    "collapsed": false
   },
   "outputs": [],
   "source": [
    "events[\"eid\"] = range(1,1+len(events))"
   ]
  },
  {
   "cell_type": "code",
   "execution_count": 127,
   "metadata": {
    "collapsed": true
   },
   "outputs": [],
   "source": [
    "events.to_csv(\"output/final_events.csv\", index=False)"
   ]
  },
  {
   "cell_type": "code",
   "execution_count": 126,
   "metadata": {
    "collapsed": false
   },
   "outputs": [
    {
     "data": {
      "text/html": [
       "<div>\n",
       "<table border=\"1\" class=\"dataframe\">\n",
       "  <thead>\n",
       "    <tr style=\"text-align: right;\">\n",
       "      <th></th>\n",
       "      <th>event_id</th>\n",
       "      <th>response</th>\n",
       "      <th>extra_information</th>\n",
       "      <th>parcel_id</th>\n",
       "      <th>event_date</th>\n",
       "      <th>event_types</th>\n",
       "      <th>money</th>\n",
       "      <th>person</th>\n",
       "      <th>person_role</th>\n",
       "      <th>eid</th>\n",
       "    </tr>\n",
       "  </thead>\n",
       "  <tbody>\n",
       "    <tr>\n",
       "      <th>9961</th>\n",
       "      <td>8787</td>\n",
       "      <td>NaN</td>\n",
       "      <td>NaN</td>\n",
       "      <td>541</td>\n",
       "      <td>NaN</td>\n",
       "      <td>8</td>\n",
       "      <td>NaN</td>\n",
       "      <td>NaN</td>\n",
       "      <td>NaN</td>\n",
       "      <td>9962</td>\n",
       "    </tr>\n",
       "    <tr>\n",
       "      <th>9962</th>\n",
       "      <td>8787</td>\n",
       "      <td>NaN</td>\n",
       "      <td>NaN</td>\n",
       "      <td>542</td>\n",
       "      <td>NaN</td>\n",
       "      <td>8</td>\n",
       "      <td>NaN</td>\n",
       "      <td>NaN</td>\n",
       "      <td>NaN</td>\n",
       "      <td>9963</td>\n",
       "    </tr>\n",
       "    <tr>\n",
       "      <th>9963</th>\n",
       "      <td>8788</td>\n",
       "      <td>NaN</td>\n",
       "      <td>NaN</td>\n",
       "      <td>540</td>\n",
       "      <td>NaN</td>\n",
       "      <td>8</td>\n",
       "      <td>NaN</td>\n",
       "      <td>NaN</td>\n",
       "      <td>NaN</td>\n",
       "      <td>9964</td>\n",
       "    </tr>\n",
       "    <tr>\n",
       "      <th>9964</th>\n",
       "      <td>8788</td>\n",
       "      <td>NaN</td>\n",
       "      <td>NaN</td>\n",
       "      <td>541</td>\n",
       "      <td>NaN</td>\n",
       "      <td>8</td>\n",
       "      <td>NaN</td>\n",
       "      <td>NaN</td>\n",
       "      <td>NaN</td>\n",
       "      <td>9965</td>\n",
       "    </tr>\n",
       "    <tr>\n",
       "      <th>9965</th>\n",
       "      <td>8788</td>\n",
       "      <td>NaN</td>\n",
       "      <td>NaN</td>\n",
       "      <td>542</td>\n",
       "      <td>NaN</td>\n",
       "      <td>8</td>\n",
       "      <td>NaN</td>\n",
       "      <td>NaN</td>\n",
       "      <td>NaN</td>\n",
       "      <td>9966</td>\n",
       "    </tr>\n",
       "  </tbody>\n",
       "</table>\n",
       "</div>"
      ],
      "text/plain": [
       "      event_id response extra_information  parcel_id event_date  event_types  \\\n",
       "9961      8787      NaN               NaN        541        NaN            8   \n",
       "9962      8787      NaN               NaN        542        NaN            8   \n",
       "9963      8788      NaN               NaN        540        NaN            8   \n",
       "9964      8788      NaN               NaN        541        NaN            8   \n",
       "9965      8788      NaN               NaN        542        NaN            8   \n",
       "\n",
       "     money person person_role   eid  \n",
       "9961   NaN    NaN         NaN  9962  \n",
       "9962   NaN    NaN         NaN  9963  \n",
       "9963   NaN    NaN         NaN  9964  \n",
       "9964   NaN    NaN         NaN  9965  \n",
       "9965   NaN    NaN         NaN  9966  "
      ]
     },
     "execution_count": 126,
     "metadata": {},
     "output_type": "execute_result"
    }
   ],
   "source": [
    "events.tail()\n"
   ]
  },
  {
   "cell_type": "code",
   "execution_count": 146,
   "metadata": {
    "collapsed": true
   },
   "outputs": [],
   "source": [
    "final_events = events_table[[\"eid\", \"response\", \"extra_information\", \"parcel_id\",\"event_date\",\"event_types\",\"money\"]]"
   ]
  },
  {
   "cell_type": "code",
   "execution_count": 147,
   "metadata": {
    "collapsed": true
   },
   "outputs": [],
   "source": [
    "final_events.to_csv(\"output/db_events.csv\", index=False)"
   ]
  },
  {
   "cell_type": "code",
   "execution_count": null,
   "metadata": {
    "collapsed": true
   },
   "outputs": [],
   "source": []
  }
 ],
 "metadata": {
  "kernelspec": {
   "display_name": "Python 3",
   "language": "python",
   "name": "python3"
  },
  "language_info": {
   "codemirror_mode": {
    "name": "ipython",
    "version": 3
   },
   "file_extension": ".py",
   "mimetype": "text/x-python",
   "name": "python",
   "nbconvert_exporter": "python",
   "pygments_lexer": "ipython3",
   "version": "3.5.2"
  }
 },
 "nbformat": 4,
 "nbformat_minor": 2
}
